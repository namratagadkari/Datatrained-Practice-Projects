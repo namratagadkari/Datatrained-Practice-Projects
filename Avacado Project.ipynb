{
 "cells": [
  {
   "cell_type": "markdown",
   "metadata": {},
   "source": [
    "# Dataset Description:"
   ]
  },
  {
   "cell_type": "markdown",
   "metadata": {},
   "source": [
    "The dataset shows the weekly 2018 retail scan data for National retail volume (units) and price of Avacados, downloaded from the Hass Avocado Board website. The Average Price (of avocados) in the data reflects a per unit (per avocado) cost. Our task is to predict the Average Price of Avacado. "
   ]
  },
  {
   "cell_type": "markdown",
   "metadata": {},
   "source": [
    "# Importing the Dataset:"
   ]
  },
  {
   "cell_type": "code",
   "execution_count": 74,
   "metadata": {},
   "outputs": [],
   "source": [
    "import pandas as pd\n",
    "import numpy as np"
   ]
  },
  {
   "cell_type": "code",
   "execution_count": 75,
   "metadata": {},
   "outputs": [
    {
     "data": {
      "text/html": [
       "<div>\n",
       "<style scoped>\n",
       "    .dataframe tbody tr th:only-of-type {\n",
       "        vertical-align: middle;\n",
       "    }\n",
       "\n",
       "    .dataframe tbody tr th {\n",
       "        vertical-align: top;\n",
       "    }\n",
       "\n",
       "    .dataframe thead th {\n",
       "        text-align: right;\n",
       "    }\n",
       "</style>\n",
       "<table border=\"1\" class=\"dataframe\">\n",
       "  <thead>\n",
       "    <tr style=\"text-align: right;\">\n",
       "      <th></th>\n",
       "      <th>Unnamed: 0</th>\n",
       "      <th>Date</th>\n",
       "      <th>AveragePrice</th>\n",
       "      <th>Total Volume</th>\n",
       "      <th>4046</th>\n",
       "      <th>4225</th>\n",
       "      <th>4770</th>\n",
       "      <th>Total Bags</th>\n",
       "      <th>Small Bags</th>\n",
       "      <th>Large Bags</th>\n",
       "      <th>XLarge Bags</th>\n",
       "      <th>type</th>\n",
       "      <th>year</th>\n",
       "      <th>region</th>\n",
       "    </tr>\n",
       "  </thead>\n",
       "  <tbody>\n",
       "    <tr>\n",
       "      <th>0</th>\n",
       "      <td>0.0</td>\n",
       "      <td>27-12-2015</td>\n",
       "      <td>1.33</td>\n",
       "      <td>64236.62</td>\n",
       "      <td>1036.74</td>\n",
       "      <td>54454.85</td>\n",
       "      <td>48.16</td>\n",
       "      <td>8696.87</td>\n",
       "      <td>8603.62</td>\n",
       "      <td>93.25</td>\n",
       "      <td>0.0</td>\n",
       "      <td>conventional</td>\n",
       "      <td>2015.0</td>\n",
       "      <td>Albany</td>\n",
       "    </tr>\n",
       "    <tr>\n",
       "      <th>1</th>\n",
       "      <td>1.0</td>\n",
       "      <td>20-12-2015</td>\n",
       "      <td>1.35</td>\n",
       "      <td>54876.98</td>\n",
       "      <td>674.28</td>\n",
       "      <td>44638.81</td>\n",
       "      <td>58.33</td>\n",
       "      <td>9505.56</td>\n",
       "      <td>9408.07</td>\n",
       "      <td>97.49</td>\n",
       "      <td>0.0</td>\n",
       "      <td>conventional</td>\n",
       "      <td>2015.0</td>\n",
       "      <td>Albany</td>\n",
       "    </tr>\n",
       "    <tr>\n",
       "      <th>2</th>\n",
       "      <td>2.0</td>\n",
       "      <td>13-12-2015</td>\n",
       "      <td>0.93</td>\n",
       "      <td>118220.22</td>\n",
       "      <td>794.70</td>\n",
       "      <td>109149.67</td>\n",
       "      <td>130.50</td>\n",
       "      <td>8145.35</td>\n",
       "      <td>8042.21</td>\n",
       "      <td>103.14</td>\n",
       "      <td>0.0</td>\n",
       "      <td>conventional</td>\n",
       "      <td>2015.0</td>\n",
       "      <td>Albany</td>\n",
       "    </tr>\n",
       "    <tr>\n",
       "      <th>3</th>\n",
       "      <td>3.0</td>\n",
       "      <td>06-12-2015</td>\n",
       "      <td>1.08</td>\n",
       "      <td>78992.15</td>\n",
       "      <td>1132.00</td>\n",
       "      <td>71976.41</td>\n",
       "      <td>72.58</td>\n",
       "      <td>5811.16</td>\n",
       "      <td>5677.40</td>\n",
       "      <td>133.76</td>\n",
       "      <td>0.0</td>\n",
       "      <td>conventional</td>\n",
       "      <td>2015.0</td>\n",
       "      <td>Albany</td>\n",
       "    </tr>\n",
       "    <tr>\n",
       "      <th>4</th>\n",
       "      <td>4.0</td>\n",
       "      <td>29-11-2015</td>\n",
       "      <td>1.28</td>\n",
       "      <td>51039.60</td>\n",
       "      <td>941.48</td>\n",
       "      <td>43838.39</td>\n",
       "      <td>75.78</td>\n",
       "      <td>6183.95</td>\n",
       "      <td>5986.26</td>\n",
       "      <td>197.69</td>\n",
       "      <td>0.0</td>\n",
       "      <td>conventional</td>\n",
       "      <td>2015.0</td>\n",
       "      <td>Albany</td>\n",
       "    </tr>\n",
       "  </tbody>\n",
       "</table>\n",
       "</div>"
      ],
      "text/plain": [
       "   Unnamed: 0        Date  AveragePrice  Total Volume     4046       4225  \\\n",
       "0         0.0  27-12-2015          1.33      64236.62  1036.74   54454.85   \n",
       "1         1.0  20-12-2015          1.35      54876.98   674.28   44638.81   \n",
       "2         2.0  13-12-2015          0.93     118220.22   794.70  109149.67   \n",
       "3         3.0  06-12-2015          1.08      78992.15  1132.00   71976.41   \n",
       "4         4.0  29-11-2015          1.28      51039.60   941.48   43838.39   \n",
       "\n",
       "     4770  Total Bags  Small Bags  Large Bags  XLarge Bags          type  \\\n",
       "0   48.16     8696.87     8603.62       93.25          0.0  conventional   \n",
       "1   58.33     9505.56     9408.07       97.49          0.0  conventional   \n",
       "2  130.50     8145.35     8042.21      103.14          0.0  conventional   \n",
       "3   72.58     5811.16     5677.40      133.76          0.0  conventional   \n",
       "4   75.78     6183.95     5986.26      197.69          0.0  conventional   \n",
       "\n",
       "     year  region  \n",
       "0  2015.0  Albany  \n",
       "1  2015.0  Albany  \n",
       "2  2015.0  Albany  \n",
       "3  2015.0  Albany  \n",
       "4  2015.0  Albany  "
      ]
     },
     "execution_count": 75,
     "metadata": {},
     "output_type": "execute_result"
    }
   ],
   "source": [
    "df=pd.read_csv(\"Avacado_project.csv\")\n",
    "df.head()"
   ]
  },
  {
   "cell_type": "code",
   "execution_count": 76,
   "metadata": {},
   "outputs": [
    {
     "data": {
      "text/plain": [
       "(16468, 14)"
      ]
     },
     "execution_count": 76,
     "metadata": {},
     "output_type": "execute_result"
    }
   ],
   "source": [
    "df.shape"
   ]
  },
  {
   "cell_type": "markdown",
   "metadata": {},
   "source": [
    "# Checking null values in Dataset:"
   ]
  },
  {
   "cell_type": "code",
   "execution_count": 77,
   "metadata": {},
   "outputs": [
    {
     "data": {
      "text/plain": [
       "Unnamed: 0      14951\n",
       "Date            14951\n",
       "AveragePrice    14951\n",
       "Total Volume    14951\n",
       "4046            14951\n",
       "4225            14951\n",
       "4770            14951\n",
       "Total Bags      14951\n",
       "Small Bags      14951\n",
       "Large Bags      14951\n",
       "XLarge Bags     14951\n",
       "type            14951\n",
       "year            14951\n",
       "region          14951\n",
       "dtype: int64"
      ]
     },
     "execution_count": 77,
     "metadata": {},
     "output_type": "execute_result"
    }
   ],
   "source": [
    "df.isnull().sum()"
   ]
  },
  {
   "cell_type": "code",
   "execution_count": 78,
   "metadata": {},
   "outputs": [
    {
     "data": {
      "image/png": "[encoded data removed]",
      "text/plain": [
       "<Figure size 432x288 with 2 Axes>"
      ]
     },
     "metadata": {
      "needs_background": "light"
     },
     "output_type": "display_data"
    }
   ],
   "source": [
    "import matplotlib.pyplot as plt\n",
    "import seaborn as sns\n",
    "sns.heatmap(df.isnull())\n",
    "plt.title(\"Null values\")\n",
    "plt.show()"
   ]
  },
  {
   "cell_type": "markdown",
   "metadata": {},
   "source": [
    "With the help of heatmap we can see that there are Null values present in the dataset."
   ]
  },
  {
   "cell_type": "markdown",
   "metadata": {},
   "source": [
    "Through observation we go to know that there are lot of blank rows present in the dataset, which are shown as null values."
   ]
  },
  {
   "cell_type": "markdown",
   "metadata": {},
   "source": [
    "We would replace those blank rows with nan and then drop those."
   ]
  },
  {
   "cell_type": "code",
   "execution_count": 79,
   "metadata": {},
   "outputs": [
    {
     "data": {
      "text/html": [
       "<div>\n",
       "<style scoped>\n",
       "    .dataframe tbody tr th:only-of-type {\n",
       "        vertical-align: middle;\n",
       "    }\n",
       "\n",
       "    .dataframe tbody tr th {\n",
       "        vertical-align: top;\n",
       "    }\n",
       "\n",
       "    .dataframe thead th {\n",
       "        text-align: right;\n",
       "    }\n",
       "</style>\n",
       "<table border=\"1\" class=\"dataframe\">\n",
       "  <thead>\n",
       "    <tr style=\"text-align: right;\">\n",
       "      <th></th>\n",
       "      <th>Unnamed: 0</th>\n",
       "      <th>Date</th>\n",
       "      <th>AveragePrice</th>\n",
       "      <th>Total Volume</th>\n",
       "      <th>4046</th>\n",
       "      <th>4225</th>\n",
       "      <th>4770</th>\n",
       "      <th>Total Bags</th>\n",
       "      <th>Small Bags</th>\n",
       "      <th>Large Bags</th>\n",
       "      <th>XLarge Bags</th>\n",
       "      <th>type</th>\n",
       "      <th>year</th>\n",
       "      <th>region</th>\n",
       "    </tr>\n",
       "  </thead>\n",
       "  <tbody>\n",
       "    <tr>\n",
       "      <th>0</th>\n",
       "      <td>0.0</td>\n",
       "      <td>27-12-2015</td>\n",
       "      <td>1.33</td>\n",
       "      <td>64236.62</td>\n",
       "      <td>1036.74</td>\n",
       "      <td>54454.85</td>\n",
       "      <td>48.16</td>\n",
       "      <td>8696.87</td>\n",
       "      <td>8603.62</td>\n",
       "      <td>93.25</td>\n",
       "      <td>0.0</td>\n",
       "      <td>conventional</td>\n",
       "      <td>2015.0</td>\n",
       "      <td>Albany</td>\n",
       "    </tr>\n",
       "    <tr>\n",
       "      <th>1</th>\n",
       "      <td>1.0</td>\n",
       "      <td>20-12-2015</td>\n",
       "      <td>1.35</td>\n",
       "      <td>54876.98</td>\n",
       "      <td>674.28</td>\n",
       "      <td>44638.81</td>\n",
       "      <td>58.33</td>\n",
       "      <td>9505.56</td>\n",
       "      <td>9408.07</td>\n",
       "      <td>97.49</td>\n",
       "      <td>0.0</td>\n",
       "      <td>conventional</td>\n",
       "      <td>2015.0</td>\n",
       "      <td>Albany</td>\n",
       "    </tr>\n",
       "    <tr>\n",
       "      <th>2</th>\n",
       "      <td>2.0</td>\n",
       "      <td>13-12-2015</td>\n",
       "      <td>0.93</td>\n",
       "      <td>118220.22</td>\n",
       "      <td>794.70</td>\n",
       "      <td>109149.67</td>\n",
       "      <td>130.50</td>\n",
       "      <td>8145.35</td>\n",
       "      <td>8042.21</td>\n",
       "      <td>103.14</td>\n",
       "      <td>0.0</td>\n",
       "      <td>conventional</td>\n",
       "      <td>2015.0</td>\n",
       "      <td>Albany</td>\n",
       "    </tr>\n",
       "    <tr>\n",
       "      <th>3</th>\n",
       "      <td>3.0</td>\n",
       "      <td>06-12-2015</td>\n",
       "      <td>1.08</td>\n",
       "      <td>78992.15</td>\n",
       "      <td>1132.00</td>\n",
       "      <td>71976.41</td>\n",
       "      <td>72.58</td>\n",
       "      <td>5811.16</td>\n",
       "      <td>5677.40</td>\n",
       "      <td>133.76</td>\n",
       "      <td>0.0</td>\n",
       "      <td>conventional</td>\n",
       "      <td>2015.0</td>\n",
       "      <td>Albany</td>\n",
       "    </tr>\n",
       "    <tr>\n",
       "      <th>4</th>\n",
       "      <td>4.0</td>\n",
       "      <td>29-11-2015</td>\n",
       "      <td>1.28</td>\n",
       "      <td>51039.60</td>\n",
       "      <td>941.48</td>\n",
       "      <td>43838.39</td>\n",
       "      <td>75.78</td>\n",
       "      <td>6183.95</td>\n",
       "      <td>5986.26</td>\n",
       "      <td>197.69</td>\n",
       "      <td>0.0</td>\n",
       "      <td>conventional</td>\n",
       "      <td>2015.0</td>\n",
       "      <td>Albany</td>\n",
       "    </tr>\n",
       "    <tr>\n",
       "      <th>...</th>\n",
       "      <td>...</td>\n",
       "      <td>...</td>\n",
       "      <td>...</td>\n",
       "      <td>...</td>\n",
       "      <td>...</td>\n",
       "      <td>...</td>\n",
       "      <td>...</td>\n",
       "      <td>...</td>\n",
       "      <td>...</td>\n",
       "      <td>...</td>\n",
       "      <td>...</td>\n",
       "      <td>...</td>\n",
       "      <td>...</td>\n",
       "      <td>...</td>\n",
       "    </tr>\n",
       "    <tr>\n",
       "      <th>16463</th>\n",
       "      <td>NaN</td>\n",
       "      <td>NaN</td>\n",
       "      <td>NaN</td>\n",
       "      <td>NaN</td>\n",
       "      <td>NaN</td>\n",
       "      <td>NaN</td>\n",
       "      <td>NaN</td>\n",
       "      <td>NaN</td>\n",
       "      <td>NaN</td>\n",
       "      <td>NaN</td>\n",
       "      <td>NaN</td>\n",
       "      <td>NaN</td>\n",
       "      <td>NaN</td>\n",
       "      <td>NaN</td>\n",
       "    </tr>\n",
       "    <tr>\n",
       "      <th>16464</th>\n",
       "      <td>NaN</td>\n",
       "      <td>NaN</td>\n",
       "      <td>NaN</td>\n",
       "      <td>NaN</td>\n",
       "      <td>NaN</td>\n",
       "      <td>NaN</td>\n",
       "      <td>NaN</td>\n",
       "      <td>NaN</td>\n",
       "      <td>NaN</td>\n",
       "      <td>NaN</td>\n",
       "      <td>NaN</td>\n",
       "      <td>NaN</td>\n",
       "      <td>NaN</td>\n",
       "      <td>NaN</td>\n",
       "    </tr>\n",
       "    <tr>\n",
       "      <th>16465</th>\n",
       "      <td>NaN</td>\n",
       "      <td>NaN</td>\n",
       "      <td>NaN</td>\n",
       "      <td>NaN</td>\n",
       "      <td>NaN</td>\n",
       "      <td>NaN</td>\n",
       "      <td>NaN</td>\n",
       "      <td>NaN</td>\n",
       "      <td>NaN</td>\n",
       "      <td>NaN</td>\n",
       "      <td>NaN</td>\n",
       "      <td>NaN</td>\n",
       "      <td>NaN</td>\n",
       "      <td>NaN</td>\n",
       "    </tr>\n",
       "    <tr>\n",
       "      <th>16466</th>\n",
       "      <td>NaN</td>\n",
       "      <td>NaN</td>\n",
       "      <td>NaN</td>\n",
       "      <td>NaN</td>\n",
       "      <td>NaN</td>\n",
       "      <td>NaN</td>\n",
       "      <td>NaN</td>\n",
       "      <td>NaN</td>\n",
       "      <td>NaN</td>\n",
       "      <td>NaN</td>\n",
       "      <td>NaN</td>\n",
       "      <td>NaN</td>\n",
       "      <td>NaN</td>\n",
       "      <td>NaN</td>\n",
       "    </tr>\n",
       "    <tr>\n",
       "      <th>16467</th>\n",
       "      <td>NaN</td>\n",
       "      <td>NaN</td>\n",
       "      <td>NaN</td>\n",
       "      <td>NaN</td>\n",
       "      <td>NaN</td>\n",
       "      <td>NaN</td>\n",
       "      <td>NaN</td>\n",
       "      <td>NaN</td>\n",
       "      <td>NaN</td>\n",
       "      <td>NaN</td>\n",
       "      <td>NaN</td>\n",
       "      <td>NaN</td>\n",
       "      <td>NaN</td>\n",
       "      <td>NaN</td>\n",
       "    </tr>\n",
       "  </tbody>\n",
       "</table>\n",
       "<p>16468 rows × 14 columns</p>\n",
       "</div>"
      ],
      "text/plain": [
       "       Unnamed: 0        Date  AveragePrice  Total Volume     4046       4225  \\\n",
       "0             0.0  27-12-2015          1.33      64236.62  1036.74   54454.85   \n",
       "1             1.0  20-12-2015          1.35      54876.98   674.28   44638.81   \n",
       "2             2.0  13-12-2015          0.93     118220.22   794.70  109149.67   \n",
       "3             3.0  06-12-2015          1.08      78992.15  1132.00   71976.41   \n",
       "4             4.0  29-11-2015          1.28      51039.60   941.48   43838.39   \n",
       "...           ...         ...           ...           ...      ...        ...   \n",
       "16463         NaN         NaN           NaN           NaN      NaN        NaN   \n",
       "16464         NaN         NaN           NaN           NaN      NaN        NaN   \n",
       "16465         NaN         NaN           NaN           NaN      NaN        NaN   \n",
       "16466         NaN         NaN           NaN           NaN      NaN        NaN   \n",
       "16467         NaN         NaN           NaN           NaN      NaN        NaN   \n",
       "\n",
       "         4770  Total Bags  Small Bags  Large Bags  XLarge Bags          type  \\\n",
       "0       48.16     8696.87     8603.62       93.25          0.0  conventional   \n",
       "1       58.33     9505.56     9408.07       97.49          0.0  conventional   \n",
       "2      130.50     8145.35     8042.21      103.14          0.0  conventional   \n",
       "3       72.58     5811.16     5677.40      133.76          0.0  conventional   \n",
       "4       75.78     6183.95     5986.26      197.69          0.0  conventional   \n",
       "...       ...         ...         ...         ...          ...           ...   \n",
       "16463     NaN         NaN         NaN         NaN          NaN           NaN   \n",
       "16464     NaN         NaN         NaN         NaN          NaN           NaN   \n",
       "16465     NaN         NaN         NaN         NaN          NaN           NaN   \n",
       "16466     NaN         NaN         NaN         NaN          NaN           NaN   \n",
       "16467     NaN         NaN         NaN         NaN          NaN           NaN   \n",
       "\n",
       "         year  region  \n",
       "0      2015.0  Albany  \n",
       "1      2015.0  Albany  \n",
       "2      2015.0  Albany  \n",
       "3      2015.0  Albany  \n",
       "4      2015.0  Albany  \n",
       "...       ...     ...  \n",
       "16463     NaN     NaN  \n",
       "16464     NaN     NaN  \n",
       "16465     NaN     NaN  \n",
       "16466     NaN     NaN  \n",
       "16467     NaN     NaN  \n",
       "\n",
       "[16468 rows x 14 columns]"
      ]
     },
     "execution_count": 79,
     "metadata": {},
     "output_type": "execute_result"
    }
   ],
   "source": [
    "df.replace(\" \",np.nan)"
   ]
  },
  {
   "cell_type": "code",
   "execution_count": 80,
   "metadata": {},
   "outputs": [],
   "source": [
    "df.dropna(subset= [\"Date\", \"AveragePrice\", \"4046\", \"4225\", \"4770\"], inplace=True)"
   ]
  },
  {
   "cell_type": "code",
   "execution_count": 81,
   "metadata": {},
   "outputs": [
    {
     "data": {
      "image/png": "[encoded data removed]",
      "text/plain": [
       "<Figure size 432x288 with 2 Axes>"
      ]
     },
     "metadata": {
      "needs_background": "light"
     },
     "output_type": "display_data"
    }
   ],
   "source": [
    "import matplotlib.pyplot as plt\n",
    "import seaborn as sns\n",
    "sns.heatmap(df.isnull())\n",
    "plt.title(\"Null values\")\n",
    "plt.show()"
   ]
  },
  {
   "cell_type": "code",
   "execution_count": 82,
   "metadata": {},
   "outputs": [
    {
     "data": {
      "text/plain": [
       "Unnamed: 0      0\n",
       "Date            0\n",
       "AveragePrice    0\n",
       "Total Volume    0\n",
       "4046            0\n",
       "4225            0\n",
       "4770            0\n",
       "Total Bags      0\n",
       "Small Bags      0\n",
       "Large Bags      0\n",
       "XLarge Bags     0\n",
       "type            0\n",
       "year            0\n",
       "region          0\n",
       "dtype: int64"
      ]
     },
     "execution_count": 82,
     "metadata": {},
     "output_type": "execute_result"
    }
   ],
   "source": [
    "df.isnull().sum()"
   ]
  },
  {
   "cell_type": "markdown",
   "metadata": {},
   "source": [
    "Now there are no null values in the dataset."
   ]
  },
  {
   "cell_type": "code",
   "execution_count": 83,
   "metadata": {},
   "outputs": [
    {
     "data": {
      "text/plain": [
       "(1517, 14)"
      ]
     },
     "execution_count": 83,
     "metadata": {},
     "output_type": "execute_result"
    }
   ],
   "source": [
    "df.shape"
   ]
  },
  {
   "cell_type": "markdown",
   "metadata": {},
   "source": [
    "The size of the dataset has also reduced, as the there were many blank rows in it which has been dropped."
   ]
  },
  {
   "cell_type": "markdown",
   "metadata": {},
   "source": [
    "# Checking the datatypes of the columns:"
   ]
  },
  {
   "cell_type": "code",
   "execution_count": 84,
   "metadata": {},
   "outputs": [
    {
     "data": {
      "text/plain": [
       "Unnamed: 0      float64\n",
       "Date             object\n",
       "AveragePrice    float64\n",
       "Total Volume    float64\n",
       "4046            float64\n",
       "4225            float64\n",
       "4770            float64\n",
       "Total Bags      float64\n",
       "Small Bags      float64\n",
       "Large Bags      float64\n",
       "XLarge Bags     float64\n",
       "type             object\n",
       "year            float64\n",
       "region           object\n",
       "dtype: object"
      ]
     },
     "execution_count": 84,
     "metadata": {},
     "output_type": "execute_result"
    }
   ],
   "source": [
    "df.dtypes"
   ]
  },
  {
   "cell_type": "code",
   "execution_count": 85,
   "metadata": {},
   "outputs": [],
   "source": [
    "Date = pd.Series(\n",
    "    pd.date_range(\"27-12-2015\", periods=2, freq=\"Y\")\n",
    ")"
   ]
  },
  {
   "cell_type": "code",
   "execution_count": 86,
   "metadata": {},
   "outputs": [
    {
     "data": {
      "text/plain": [
       "0   2015-12-31\n",
       "1   2016-12-31\n",
       "dtype: datetime64[ns]"
      ]
     },
     "execution_count": 86,
     "metadata": {},
     "output_type": "execute_result"
    }
   ],
   "source": [
    "Date"
   ]
  },
  {
   "cell_type": "code",
   "execution_count": 87,
   "metadata": {},
   "outputs": [
    {
     "data": {
      "text/plain": [
       "0    2015\n",
       "1    2016\n",
       "dtype: int64"
      ]
     },
     "execution_count": 87,
     "metadata": {},
     "output_type": "execute_result"
    }
   ],
   "source": [
    "Date.dt.year"
   ]
  },
  {
   "cell_type": "markdown",
   "metadata": {},
   "source": [
    "# Encoding the Dataset:"
   ]
  },
  {
   "cell_type": "markdown",
   "metadata": {},
   "source": [
    "Since there are string values present in the dataset, we will use encoding techniques to covert it:"
   ]
  },
  {
   "cell_type": "code",
   "execution_count": 93,
   "metadata": {},
   "outputs": [],
   "source": [
    "from sklearn.preprocessing import OrdinalEncoder\n",
    "enc=OrdinalEncoder()"
   ]
  },
  {
   "cell_type": "code",
   "execution_count": 94,
   "metadata": {},
   "outputs": [],
   "source": [
    "for i in df.columns:\n",
    "    if df[i].dtypes==\"object\":\n",
    "        df[i]=enc.fit_transform(df[i].values.reshape(-1,1))"
   ]
  },
  {
   "cell_type": "code",
   "execution_count": 95,
   "metadata": {},
   "outputs": [
    {
     "data": {
      "text/html": [
       "<div>\n",
       "<style scoped>\n",
       "    .dataframe tbody tr th:only-of-type {\n",
       "        vertical-align: middle;\n",
       "    }\n",
       "\n",
       "    .dataframe tbody tr th {\n",
       "        vertical-align: top;\n",
       "    }\n",
       "\n",
       "    .dataframe thead th {\n",
       "        text-align: right;\n",
       "    }\n",
       "</style>\n",
       "<table border=\"1\" class=\"dataframe\">\n",
       "  <thead>\n",
       "    <tr style=\"text-align: right;\">\n",
       "      <th></th>\n",
       "      <th>Unnamed: 0</th>\n",
       "      <th>Date</th>\n",
       "      <th>AveragePrice</th>\n",
       "      <th>Total Volume</th>\n",
       "      <th>4046</th>\n",
       "      <th>4225</th>\n",
       "      <th>4770</th>\n",
       "      <th>Total Bags</th>\n",
       "      <th>Small Bags</th>\n",
       "      <th>Large Bags</th>\n",
       "      <th>XLarge Bags</th>\n",
       "      <th>type</th>\n",
       "      <th>year</th>\n",
       "      <th>region</th>\n",
       "    </tr>\n",
       "  </thead>\n",
       "  <tbody>\n",
       "    <tr>\n",
       "      <th>0</th>\n",
       "      <td>0.0</td>\n",
       "      <td>92</td>\n",
       "      <td>1.33</td>\n",
       "      <td>64236.62</td>\n",
       "      <td>1036.74</td>\n",
       "      <td>54454.85</td>\n",
       "      <td>48.16</td>\n",
       "      <td>8696.87</td>\n",
       "      <td>8603.62</td>\n",
       "      <td>93.25</td>\n",
       "      <td>0.00</td>\n",
       "      <td>0.0</td>\n",
       "      <td>2015.0</td>\n",
       "      <td>0.0</td>\n",
       "    </tr>\n",
       "    <tr>\n",
       "      <th>1</th>\n",
       "      <td>1.0</td>\n",
       "      <td>68</td>\n",
       "      <td>1.35</td>\n",
       "      <td>54876.98</td>\n",
       "      <td>674.28</td>\n",
       "      <td>44638.81</td>\n",
       "      <td>58.33</td>\n",
       "      <td>9505.56</td>\n",
       "      <td>9408.07</td>\n",
       "      <td>97.49</td>\n",
       "      <td>0.00</td>\n",
       "      <td>0.0</td>\n",
       "      <td>2015.0</td>\n",
       "      <td>0.0</td>\n",
       "    </tr>\n",
       "    <tr>\n",
       "      <th>2</th>\n",
       "      <td>2.0</td>\n",
       "      <td>44</td>\n",
       "      <td>0.93</td>\n",
       "      <td>118220.22</td>\n",
       "      <td>794.70</td>\n",
       "      <td>109149.67</td>\n",
       "      <td>130.50</td>\n",
       "      <td>8145.35</td>\n",
       "      <td>8042.21</td>\n",
       "      <td>103.14</td>\n",
       "      <td>0.00</td>\n",
       "      <td>0.0</td>\n",
       "      <td>2015.0</td>\n",
       "      <td>0.0</td>\n",
       "    </tr>\n",
       "    <tr>\n",
       "      <th>3</th>\n",
       "      <td>3.0</td>\n",
       "      <td>20</td>\n",
       "      <td>1.08</td>\n",
       "      <td>78992.15</td>\n",
       "      <td>1132.00</td>\n",
       "      <td>71976.41</td>\n",
       "      <td>72.58</td>\n",
       "      <td>5811.16</td>\n",
       "      <td>5677.40</td>\n",
       "      <td>133.76</td>\n",
       "      <td>0.00</td>\n",
       "      <td>0.0</td>\n",
       "      <td>2015.0</td>\n",
       "      <td>0.0</td>\n",
       "    </tr>\n",
       "    <tr>\n",
       "      <th>4</th>\n",
       "      <td>4.0</td>\n",
       "      <td>98</td>\n",
       "      <td>1.28</td>\n",
       "      <td>51039.60</td>\n",
       "      <td>941.48</td>\n",
       "      <td>43838.39</td>\n",
       "      <td>75.78</td>\n",
       "      <td>6183.95</td>\n",
       "      <td>5986.26</td>\n",
       "      <td>197.69</td>\n",
       "      <td>0.00</td>\n",
       "      <td>0.0</td>\n",
       "      <td>2015.0</td>\n",
       "      <td>0.0</td>\n",
       "    </tr>\n",
       "    <tr>\n",
       "      <th>...</th>\n",
       "      <td>...</td>\n",
       "      <td>...</td>\n",
       "      <td>...</td>\n",
       "      <td>...</td>\n",
       "      <td>...</td>\n",
       "      <td>...</td>\n",
       "      <td>...</td>\n",
       "      <td>...</td>\n",
       "      <td>...</td>\n",
       "      <td>...</td>\n",
       "      <td>...</td>\n",
       "      <td>...</td>\n",
       "      <td>...</td>\n",
       "      <td>...</td>\n",
       "    </tr>\n",
       "    <tr>\n",
       "      <th>1512</th>\n",
       "      <td>10.0</td>\n",
       "      <td>53</td>\n",
       "      <td>1.39</td>\n",
       "      <td>190846.01</td>\n",
       "      <td>57529.11</td>\n",
       "      <td>56366.66</td>\n",
       "      <td>17531.78</td>\n",
       "      <td>59418.46</td>\n",
       "      <td>48823.53</td>\n",
       "      <td>10354.65</td>\n",
       "      <td>240.28</td>\n",
       "      <td>0.0</td>\n",
       "      <td>2016.0</td>\n",
       "      <td>7.0</td>\n",
       "    </tr>\n",
       "    <tr>\n",
       "      <th>1513</th>\n",
       "      <td>11.0</td>\n",
       "      <td>29</td>\n",
       "      <td>1.51</td>\n",
       "      <td>178235.75</td>\n",
       "      <td>43325.87</td>\n",
       "      <td>52189.61</td>\n",
       "      <td>19419.57</td>\n",
       "      <td>63300.70</td>\n",
       "      <td>54704.14</td>\n",
       "      <td>8596.56</td>\n",
       "      <td>0.00</td>\n",
       "      <td>0.0</td>\n",
       "      <td>2016.0</td>\n",
       "      <td>7.0</td>\n",
       "    </tr>\n",
       "    <tr>\n",
       "      <th>1514</th>\n",
       "      <td>12.0</td>\n",
       "      <td>5</td>\n",
       "      <td>1.48</td>\n",
       "      <td>178410.82</td>\n",
       "      <td>46364.75</td>\n",
       "      <td>52893.38</td>\n",
       "      <td>16736.92</td>\n",
       "      <td>62415.77</td>\n",
       "      <td>53332.61</td>\n",
       "      <td>8258.16</td>\n",
       "      <td>825.00</td>\n",
       "      <td>0.0</td>\n",
       "      <td>2016.0</td>\n",
       "      <td>7.0</td>\n",
       "    </tr>\n",
       "    <tr>\n",
       "      <th>1515</th>\n",
       "      <td>13.0</td>\n",
       "      <td>83</td>\n",
       "      <td>1.47</td>\n",
       "      <td>189131.52</td>\n",
       "      <td>54110.79</td>\n",
       "      <td>53593.58</td>\n",
       "      <td>17495.42</td>\n",
       "      <td>63931.73</td>\n",
       "      <td>55653.47</td>\n",
       "      <td>8278.26</td>\n",
       "      <td>0.00</td>\n",
       "      <td>0.0</td>\n",
       "      <td>2016.0</td>\n",
       "      <td>7.0</td>\n",
       "    </tr>\n",
       "    <tr>\n",
       "      <th>1516</th>\n",
       "      <td>14.0</td>\n",
       "      <td>59</td>\n",
       "      <td>1.43</td>\n",
       "      <td>182978.30</td>\n",
       "      <td>43116.41</td>\n",
       "      <td>54193.42</td>\n",
       "      <td>16563.91</td>\n",
       "      <td>69104.56</td>\n",
       "      <td>57456.21</td>\n",
       "      <td>11648.35</td>\n",
       "      <td>0.00</td>\n",
       "      <td>0.0</td>\n",
       "      <td>2016.0</td>\n",
       "      <td>7.0</td>\n",
       "    </tr>\n",
       "  </tbody>\n",
       "</table>\n",
       "<p>1517 rows × 14 columns</p>\n",
       "</div>"
      ],
      "text/plain": [
       "      Unnamed: 0  Date  AveragePrice  Total Volume      4046       4225  \\\n",
       "0            0.0    92          1.33      64236.62   1036.74   54454.85   \n",
       "1            1.0    68          1.35      54876.98    674.28   44638.81   \n",
       "2            2.0    44          0.93     118220.22    794.70  109149.67   \n",
       "3            3.0    20          1.08      78992.15   1132.00   71976.41   \n",
       "4            4.0    98          1.28      51039.60    941.48   43838.39   \n",
       "...          ...   ...           ...           ...       ...        ...   \n",
       "1512        10.0    53          1.39     190846.01  57529.11   56366.66   \n",
       "1513        11.0    29          1.51     178235.75  43325.87   52189.61   \n",
       "1514        12.0     5          1.48     178410.82  46364.75   52893.38   \n",
       "1515        13.0    83          1.47     189131.52  54110.79   53593.58   \n",
       "1516        14.0    59          1.43     182978.30  43116.41   54193.42   \n",
       "\n",
       "          4770  Total Bags  Small Bags  Large Bags  XLarge Bags  type    year  \\\n",
       "0        48.16     8696.87     8603.62       93.25         0.00   0.0  2015.0   \n",
       "1        58.33     9505.56     9408.07       97.49         0.00   0.0  2015.0   \n",
       "2       130.50     8145.35     8042.21      103.14         0.00   0.0  2015.0   \n",
       "3        72.58     5811.16     5677.40      133.76         0.00   0.0  2015.0   \n",
       "4        75.78     6183.95     5986.26      197.69         0.00   0.0  2015.0   \n",
       "...        ...         ...         ...         ...          ...   ...     ...   \n",
       "1512  17531.78    59418.46    48823.53    10354.65       240.28   0.0  2016.0   \n",
       "1513  19419.57    63300.70    54704.14     8596.56         0.00   0.0  2016.0   \n",
       "1514  16736.92    62415.77    53332.61     8258.16       825.00   0.0  2016.0   \n",
       "1515  17495.42    63931.73    55653.47     8278.26         0.00   0.0  2016.0   \n",
       "1516  16563.91    69104.56    57456.21    11648.35         0.00   0.0  2016.0   \n",
       "\n",
       "      region  \n",
       "0        0.0  \n",
       "1        0.0  \n",
       "2        0.0  \n",
       "3        0.0  \n",
       "4        0.0  \n",
       "...      ...  \n",
       "1512     7.0  \n",
       "1513     7.0  \n",
       "1514     7.0  \n",
       "1515     7.0  \n",
       "1516     7.0  \n",
       "\n",
       "[1517 rows x 14 columns]"
      ]
     },
     "execution_count": 95,
     "metadata": {},
     "output_type": "execute_result"
    }
   ],
   "source": [
    "df"
   ]
  },
  {
   "cell_type": "markdown",
   "metadata": {},
   "source": [
    "# Describing the dataset:"
   ]
  },
  {
   "cell_type": "code",
   "execution_count": 96,
   "metadata": {},
   "outputs": [
    {
     "data": {
      "text/html": [
       "<div>\n",
       "<style scoped>\n",
       "    .dataframe tbody tr th:only-of-type {\n",
       "        vertical-align: middle;\n",
       "    }\n",
       "\n",
       "    .dataframe tbody tr th {\n",
       "        vertical-align: top;\n",
       "    }\n",
       "\n",
       "    .dataframe thead th {\n",
       "        text-align: right;\n",
       "    }\n",
       "</style>\n",
       "<table border=\"1\" class=\"dataframe\">\n",
       "  <thead>\n",
       "    <tr style=\"text-align: right;\">\n",
       "      <th></th>\n",
       "      <th>Unnamed: 0</th>\n",
       "      <th>Date</th>\n",
       "      <th>AveragePrice</th>\n",
       "      <th>Total Volume</th>\n",
       "      <th>4046</th>\n",
       "      <th>4225</th>\n",
       "      <th>4770</th>\n",
       "      <th>Total Bags</th>\n",
       "      <th>Small Bags</th>\n",
       "      <th>Large Bags</th>\n",
       "      <th>XLarge Bags</th>\n",
       "      <th>type</th>\n",
       "      <th>year</th>\n",
       "      <th>region</th>\n",
       "    </tr>\n",
       "  </thead>\n",
       "  <tbody>\n",
       "    <tr>\n",
       "      <th>count</th>\n",
       "      <td>1517.000000</td>\n",
       "      <td>1517.000000</td>\n",
       "      <td>1517.000000</td>\n",
       "      <td>1.517000e+03</td>\n",
       "      <td>1.517000e+03</td>\n",
       "      <td>1.517000e+03</td>\n",
       "      <td>1.517000e+03</td>\n",
       "      <td>1.517000e+03</td>\n",
       "      <td>1.517000e+03</td>\n",
       "      <td>1.517000e+03</td>\n",
       "      <td>1517.000000</td>\n",
       "      <td>1517.0</td>\n",
       "      <td>1517.000000</td>\n",
       "      <td>1517.000000</td>\n",
       "    </tr>\n",
       "    <tr>\n",
       "      <th>mean</th>\n",
       "      <td>26.995386</td>\n",
       "      <td>50.624918</td>\n",
       "      <td>1.074990</td>\n",
       "      <td>1.601879e+06</td>\n",
       "      <td>6.464387e+05</td>\n",
       "      <td>6.114375e+05</td>\n",
       "      <td>5.040550e+04</td>\n",
       "      <td>2.935974e+05</td>\n",
       "      <td>2.487736e+05</td>\n",
       "      <td>4.264205e+04</td>\n",
       "      <td>2181.771074</td>\n",
       "      <td>0.0</td>\n",
       "      <td>2015.162821</td>\n",
       "      <td>21.196440</td>\n",
       "    </tr>\n",
       "    <tr>\n",
       "      <th>std</th>\n",
       "      <td>14.848287</td>\n",
       "      <td>30.040469</td>\n",
       "      <td>0.188891</td>\n",
       "      <td>4.433143e+06</td>\n",
       "      <td>1.947614e+06</td>\n",
       "      <td>1.672906e+06</td>\n",
       "      <td>1.377812e+05</td>\n",
       "      <td>7.579765e+05</td>\n",
       "      <td>6.474765e+05</td>\n",
       "      <td>1.182157e+05</td>\n",
       "      <td>7455.712144</td>\n",
       "      <td>0.0</td>\n",
       "      <td>0.369324</td>\n",
       "      <td>16.132398</td>\n",
       "    </tr>\n",
       "    <tr>\n",
       "      <th>min</th>\n",
       "      <td>0.000000</td>\n",
       "      <td>0.000000</td>\n",
       "      <td>0.490000</td>\n",
       "      <td>3.875074e+04</td>\n",
       "      <td>4.677200e+02</td>\n",
       "      <td>1.783770e+03</td>\n",
       "      <td>0.000000e+00</td>\n",
       "      <td>3.311770e+03</td>\n",
       "      <td>3.311770e+03</td>\n",
       "      <td>0.000000e+00</td>\n",
       "      <td>0.000000</td>\n",
       "      <td>0.0</td>\n",
       "      <td>2015.000000</td>\n",
       "      <td>0.000000</td>\n",
       "    </tr>\n",
       "    <tr>\n",
       "      <th>25%</th>\n",
       "      <td>14.000000</td>\n",
       "      <td>25.000000</td>\n",
       "      <td>0.980000</td>\n",
       "      <td>1.474700e+05</td>\n",
       "      <td>2.040034e+04</td>\n",
       "      <td>4.147606e+04</td>\n",
       "      <td>9.112500e+02</td>\n",
       "      <td>3.620689e+04</td>\n",
       "      <td>2.972722e+04</td>\n",
       "      <td>5.407400e+02</td>\n",
       "      <td>0.000000</td>\n",
       "      <td>0.0</td>\n",
       "      <td>2015.000000</td>\n",
       "      <td>6.000000</td>\n",
       "    </tr>\n",
       "    <tr>\n",
       "      <th>50%</th>\n",
       "      <td>29.000000</td>\n",
       "      <td>49.000000</td>\n",
       "      <td>1.080000</td>\n",
       "      <td>4.027919e+05</td>\n",
       "      <td>8.175117e+04</td>\n",
       "      <td>1.186649e+05</td>\n",
       "      <td>7.688170e+03</td>\n",
       "      <td>7.397906e+04</td>\n",
       "      <td>6.237569e+04</td>\n",
       "      <td>5.044350e+03</td>\n",
       "      <td>0.000000</td>\n",
       "      <td>0.0</td>\n",
       "      <td>2015.000000</td>\n",
       "      <td>19.000000</td>\n",
       "    </tr>\n",
       "    <tr>\n",
       "      <th>75%</th>\n",
       "      <td>39.000000</td>\n",
       "      <td>75.000000</td>\n",
       "      <td>1.190000</td>\n",
       "      <td>9.819751e+05</td>\n",
       "      <td>3.775785e+05</td>\n",
       "      <td>4.851503e+05</td>\n",
       "      <td>2.916730e+04</td>\n",
       "      <td>1.576097e+05</td>\n",
       "      <td>1.461994e+05</td>\n",
       "      <td>2.926767e+04</td>\n",
       "      <td>401.480000</td>\n",
       "      <td>0.0</td>\n",
       "      <td>2015.000000</td>\n",
       "      <td>35.000000</td>\n",
       "    </tr>\n",
       "    <tr>\n",
       "      <th>max</th>\n",
       "      <td>51.000000</td>\n",
       "      <td>103.000000</td>\n",
       "      <td>1.680000</td>\n",
       "      <td>4.465546e+07</td>\n",
       "      <td>1.893304e+07</td>\n",
       "      <td>1.895648e+07</td>\n",
       "      <td>1.381516e+06</td>\n",
       "      <td>6.736304e+06</td>\n",
       "      <td>5.893642e+06</td>\n",
       "      <td>1.121076e+06</td>\n",
       "      <td>108072.790000</td>\n",
       "      <td>0.0</td>\n",
       "      <td>2016.000000</td>\n",
       "      <td>50.000000</td>\n",
       "    </tr>\n",
       "  </tbody>\n",
       "</table>\n",
       "</div>"
      ],
      "text/plain": [
       "        Unnamed: 0         Date  AveragePrice  Total Volume          4046  \\\n",
       "count  1517.000000  1517.000000   1517.000000  1.517000e+03  1.517000e+03   \n",
       "mean     26.995386    50.624918      1.074990  1.601879e+06  6.464387e+05   \n",
       "std      14.848287    30.040469      0.188891  4.433143e+06  1.947614e+06   \n",
       "min       0.000000     0.000000      0.490000  3.875074e+04  4.677200e+02   \n",
       "25%      14.000000    25.000000      0.980000  1.474700e+05  2.040034e+04   \n",
       "50%      29.000000    49.000000      1.080000  4.027919e+05  8.175117e+04   \n",
       "75%      39.000000    75.000000      1.190000  9.819751e+05  3.775785e+05   \n",
       "max      51.000000   103.000000      1.680000  4.465546e+07  1.893304e+07   \n",
       "\n",
       "               4225          4770    Total Bags    Small Bags    Large Bags  \\\n",
       "count  1.517000e+03  1.517000e+03  1.517000e+03  1.517000e+03  1.517000e+03   \n",
       "mean   6.114375e+05  5.040550e+04  2.935974e+05  2.487736e+05  4.264205e+04   \n",
       "std    1.672906e+06  1.377812e+05  7.579765e+05  6.474765e+05  1.182157e+05   \n",
       "min    1.783770e+03  0.000000e+00  3.311770e+03  3.311770e+03  0.000000e+00   \n",
       "25%    4.147606e+04  9.112500e+02  3.620689e+04  2.972722e+04  5.407400e+02   \n",
       "50%    1.186649e+05  7.688170e+03  7.397906e+04  6.237569e+04  5.044350e+03   \n",
       "75%    4.851503e+05  2.916730e+04  1.576097e+05  1.461994e+05  2.926767e+04   \n",
       "max    1.895648e+07  1.381516e+06  6.736304e+06  5.893642e+06  1.121076e+06   \n",
       "\n",
       "         XLarge Bags    type         year       region  \n",
       "count    1517.000000  1517.0  1517.000000  1517.000000  \n",
       "mean     2181.771074     0.0  2015.162821    21.196440  \n",
       "std      7455.712144     0.0     0.369324    16.132398  \n",
       "min         0.000000     0.0  2015.000000     0.000000  \n",
       "25%         0.000000     0.0  2015.000000     6.000000  \n",
       "50%         0.000000     0.0  2015.000000    19.000000  \n",
       "75%       401.480000     0.0  2015.000000    35.000000  \n",
       "max    108072.790000     0.0  2016.000000    50.000000  "
      ]
     },
     "execution_count": 96,
     "metadata": {},
     "output_type": "execute_result"
    }
   ],
   "source": [
    "df.describe()"
   ]
  },
  {
   "cell_type": "code",
   "execution_count": 97,
   "metadata": {},
   "outputs": [
    {
     "data": {
      "text/plain": [
       "<matplotlib.axes._subplots.AxesSubplot at 0x20841fe5970>"
      ]
     },
     "execution_count": 97,
     "metadata": {},
     "output_type": "execute_result"
    },
    {
     "data": {
      "image/png": "[encoded data removed]",
      "text/plain": [
       "<Figure size 1584x504 with 2 Axes>"
      ]
     },
     "metadata": {
      "needs_background": "light"
     },
     "output_type": "display_data"
    }
   ],
   "source": [
    "import matplotlib.pyplot as plt\n",
    "import seaborn as sns\n",
    "plt.figure(figsize=(22,7))\n",
    "sns.heatmap(df.describe(),annot=True,linewidths=0.1,linecolor=\"black\",fmt=\"0.2f\")"
   ]
  },
  {
   "cell_type": "markdown",
   "metadata": {},
   "source": [
    "# Correlation of the columns with the Target column:"
   ]
  },
  {
   "cell_type": "code",
   "execution_count": 98,
   "metadata": {},
   "outputs": [
    {
     "data": {
      "text/html": [
       "<div>\n",
       "<style scoped>\n",
       "    .dataframe tbody tr th:only-of-type {\n",
       "        vertical-align: middle;\n",
       "    }\n",
       "\n",
       "    .dataframe tbody tr th {\n",
       "        vertical-align: top;\n",
       "    }\n",
       "\n",
       "    .dataframe thead th {\n",
       "        text-align: right;\n",
       "    }\n",
       "</style>\n",
       "<table border=\"1\" class=\"dataframe\">\n",
       "  <thead>\n",
       "    <tr style=\"text-align: right;\">\n",
       "      <th></th>\n",
       "      <th>Unnamed: 0</th>\n",
       "      <th>Date</th>\n",
       "      <th>AveragePrice</th>\n",
       "      <th>Total Volume</th>\n",
       "      <th>4046</th>\n",
       "      <th>4225</th>\n",
       "      <th>4770</th>\n",
       "      <th>Total Bags</th>\n",
       "      <th>Small Bags</th>\n",
       "      <th>Large Bags</th>\n",
       "      <th>XLarge Bags</th>\n",
       "      <th>type</th>\n",
       "      <th>year</th>\n",
       "      <th>region</th>\n",
       "    </tr>\n",
       "  </thead>\n",
       "  <tbody>\n",
       "    <tr>\n",
       "      <th>Unnamed: 0</th>\n",
       "      <td>1.000000</td>\n",
       "      <td>-0.145600</td>\n",
       "      <td>-0.075531</td>\n",
       "      <td>0.091934</td>\n",
       "      <td>0.092013</td>\n",
       "      <td>0.093566</td>\n",
       "      <td>0.075647</td>\n",
       "      <td>0.081007</td>\n",
       "      <td>0.083485</td>\n",
       "      <td>0.065364</td>\n",
       "      <td>-0.050993</td>\n",
       "      <td>NaN</td>\n",
       "      <td>-0.012854</td>\n",
       "      <td>0.012123</td>\n",
       "    </tr>\n",
       "    <tr>\n",
       "      <th>Date</th>\n",
       "      <td>-0.145600</td>\n",
       "      <td>1.000000</td>\n",
       "      <td>0.092984</td>\n",
       "      <td>-0.024767</td>\n",
       "      <td>-0.020773</td>\n",
       "      <td>-0.035118</td>\n",
       "      <td>-0.016382</td>\n",
       "      <td>-0.010990</td>\n",
       "      <td>-0.005656</td>\n",
       "      <td>-0.040195</td>\n",
       "      <td>0.011274</td>\n",
       "      <td>NaN</td>\n",
       "      <td>0.022750</td>\n",
       "      <td>-0.026002</td>\n",
       "    </tr>\n",
       "    <tr>\n",
       "      <th>AveragePrice</th>\n",
       "      <td>-0.075531</td>\n",
       "      <td>0.092984</td>\n",
       "      <td>1.000000</td>\n",
       "      <td>-0.140470</td>\n",
       "      <td>-0.190096</td>\n",
       "      <td>-0.092084</td>\n",
       "      <td>-0.100567</td>\n",
       "      <td>-0.111597</td>\n",
       "      <td>-0.097682</td>\n",
       "      <td>-0.177480</td>\n",
       "      <td>-0.048284</td>\n",
       "      <td>NaN</td>\n",
       "      <td>0.178683</td>\n",
       "      <td>-0.229408</td>\n",
       "    </tr>\n",
       "    <tr>\n",
       "      <th>Total Volume</th>\n",
       "      <td>0.091934</td>\n",
       "      <td>-0.024767</td>\n",
       "      <td>-0.140470</td>\n",
       "      <td>1.000000</td>\n",
       "      <td>0.985568</td>\n",
       "      <td>0.987154</td>\n",
       "      <td>0.934347</td>\n",
       "      <td>0.967689</td>\n",
       "      <td>0.960642</td>\n",
       "      <td>0.910226</td>\n",
       "      <td>0.521717</td>\n",
       "      <td>NaN</td>\n",
       "      <td>-0.004189</td>\n",
       "      <td>0.236579</td>\n",
       "    </tr>\n",
       "    <tr>\n",
       "      <th>4046</th>\n",
       "      <td>0.092013</td>\n",
       "      <td>-0.020773</td>\n",
       "      <td>-0.190096</td>\n",
       "      <td>0.985568</td>\n",
       "      <td>1.000000</td>\n",
       "      <td>0.951952</td>\n",
       "      <td>0.898570</td>\n",
       "      <td>0.930395</td>\n",
       "      <td>0.922278</td>\n",
       "      <td>0.884229</td>\n",
       "      <td>0.474063</td>\n",
       "      <td>NaN</td>\n",
       "      <td>-0.040439</td>\n",
       "      <td>0.269481</td>\n",
       "    </tr>\n",
       "    <tr>\n",
       "      <th>4225</th>\n",
       "      <td>0.093566</td>\n",
       "      <td>-0.035118</td>\n",
       "      <td>-0.092084</td>\n",
       "      <td>0.987154</td>\n",
       "      <td>0.951952</td>\n",
       "      <td>1.000000</td>\n",
       "      <td>0.927757</td>\n",
       "      <td>0.951779</td>\n",
       "      <td>0.943988</td>\n",
       "      <td>0.900496</td>\n",
       "      <td>0.504718</td>\n",
       "      <td>NaN</td>\n",
       "      <td>-0.007254</td>\n",
       "      <td>0.215733</td>\n",
       "    </tr>\n",
       "    <tr>\n",
       "      <th>4770</th>\n",
       "      <td>0.075647</td>\n",
       "      <td>-0.016382</td>\n",
       "      <td>-0.100567</td>\n",
       "      <td>0.934347</td>\n",
       "      <td>0.898570</td>\n",
       "      <td>0.927757</td>\n",
       "      <td>1.000000</td>\n",
       "      <td>0.926405</td>\n",
       "      <td>0.923607</td>\n",
       "      <td>0.840523</td>\n",
       "      <td>0.646053</td>\n",
       "      <td>NaN</td>\n",
       "      <td>0.029222</td>\n",
       "      <td>0.138092</td>\n",
       "    </tr>\n",
       "    <tr>\n",
       "      <th>Total Bags</th>\n",
       "      <td>0.081007</td>\n",
       "      <td>-0.010990</td>\n",
       "      <td>-0.111597</td>\n",
       "      <td>0.967689</td>\n",
       "      <td>0.930395</td>\n",
       "      <td>0.951779</td>\n",
       "      <td>0.926405</td>\n",
       "      <td>1.000000</td>\n",
       "      <td>0.997341</td>\n",
       "      <td>0.911336</td>\n",
       "      <td>0.601856</td>\n",
       "      <td>NaN</td>\n",
       "      <td>0.090108</td>\n",
       "      <td>0.190001</td>\n",
       "    </tr>\n",
       "    <tr>\n",
       "      <th>Small Bags</th>\n",
       "      <td>0.083485</td>\n",
       "      <td>-0.005656</td>\n",
       "      <td>-0.097682</td>\n",
       "      <td>0.960642</td>\n",
       "      <td>0.922278</td>\n",
       "      <td>0.943988</td>\n",
       "      <td>0.923607</td>\n",
       "      <td>0.997341</td>\n",
       "      <td>1.000000</td>\n",
       "      <td>0.879131</td>\n",
       "      <td>0.611300</td>\n",
       "      <td>NaN</td>\n",
       "      <td>0.106382</td>\n",
       "      <td>0.168650</td>\n",
       "    </tr>\n",
       "    <tr>\n",
       "      <th>Large Bags</th>\n",
       "      <td>0.065364</td>\n",
       "      <td>-0.040195</td>\n",
       "      <td>-0.177480</td>\n",
       "      <td>0.910226</td>\n",
       "      <td>0.884229</td>\n",
       "      <td>0.900496</td>\n",
       "      <td>0.840523</td>\n",
       "      <td>0.911336</td>\n",
       "      <td>0.879131</td>\n",
       "      <td>1.000000</td>\n",
       "      <td>0.447779</td>\n",
       "      <td>NaN</td>\n",
       "      <td>-0.018678</td>\n",
       "      <td>0.297452</td>\n",
       "    </tr>\n",
       "    <tr>\n",
       "      <th>XLarge Bags</th>\n",
       "      <td>-0.050993</td>\n",
       "      <td>0.011274</td>\n",
       "      <td>-0.048284</td>\n",
       "      <td>0.521717</td>\n",
       "      <td>0.474063</td>\n",
       "      <td>0.504718</td>\n",
       "      <td>0.646053</td>\n",
       "      <td>0.601856</td>\n",
       "      <td>0.611300</td>\n",
       "      <td>0.447779</td>\n",
       "      <td>1.000000</td>\n",
       "      <td>NaN</td>\n",
       "      <td>0.218342</td>\n",
       "      <td>-0.046144</td>\n",
       "    </tr>\n",
       "    <tr>\n",
       "      <th>type</th>\n",
       "      <td>NaN</td>\n",
       "      <td>NaN</td>\n",
       "      <td>NaN</td>\n",
       "      <td>NaN</td>\n",
       "      <td>NaN</td>\n",
       "      <td>NaN</td>\n",
       "      <td>NaN</td>\n",
       "      <td>NaN</td>\n",
       "      <td>NaN</td>\n",
       "      <td>NaN</td>\n",
       "      <td>NaN</td>\n",
       "      <td>NaN</td>\n",
       "      <td>NaN</td>\n",
       "      <td>NaN</td>\n",
       "    </tr>\n",
       "    <tr>\n",
       "      <th>year</th>\n",
       "      <td>-0.012854</td>\n",
       "      <td>0.022750</td>\n",
       "      <td>0.178683</td>\n",
       "      <td>-0.004189</td>\n",
       "      <td>-0.040439</td>\n",
       "      <td>-0.007254</td>\n",
       "      <td>0.029222</td>\n",
       "      <td>0.090108</td>\n",
       "      <td>0.106382</td>\n",
       "      <td>-0.018678</td>\n",
       "      <td>0.218342</td>\n",
       "      <td>NaN</td>\n",
       "      <td>1.000000</td>\n",
       "      <td>-0.470472</td>\n",
       "    </tr>\n",
       "    <tr>\n",
       "      <th>region</th>\n",
       "      <td>0.012123</td>\n",
       "      <td>-0.026002</td>\n",
       "      <td>-0.229408</td>\n",
       "      <td>0.236579</td>\n",
       "      <td>0.269481</td>\n",
       "      <td>0.215733</td>\n",
       "      <td>0.138092</td>\n",
       "      <td>0.190001</td>\n",
       "      <td>0.168650</td>\n",
       "      <td>0.297452</td>\n",
       "      <td>-0.046144</td>\n",
       "      <td>NaN</td>\n",
       "      <td>-0.470472</td>\n",
       "      <td>1.000000</td>\n",
       "    </tr>\n",
       "  </tbody>\n",
       "</table>\n",
       "</div>"
      ],
      "text/plain": [
       "              Unnamed: 0      Date  AveragePrice  Total Volume      4046  \\\n",
       "Unnamed: 0      1.000000 -0.145600     -0.075531      0.091934  0.092013   \n",
       "Date           -0.145600  1.000000      0.092984     -0.024767 -0.020773   \n",
       "AveragePrice   -0.075531  0.092984      1.000000     -0.140470 -0.190096   \n",
       "Total Volume    0.091934 -0.024767     -0.140470      1.000000  0.985568   \n",
       "4046            0.092013 -0.020773     -0.190096      0.985568  1.000000   \n",
       "4225            0.093566 -0.035118     -0.092084      0.987154  0.951952   \n",
       "4770            0.075647 -0.016382     -0.100567      0.934347  0.898570   \n",
       "Total Bags      0.081007 -0.010990     -0.111597      0.967689  0.930395   \n",
       "Small Bags      0.083485 -0.005656     -0.097682      0.960642  0.922278   \n",
       "Large Bags      0.065364 -0.040195     -0.177480      0.910226  0.884229   \n",
       "XLarge Bags    -0.050993  0.011274     -0.048284      0.521717  0.474063   \n",
       "type                 NaN       NaN           NaN           NaN       NaN   \n",
       "year           -0.012854  0.022750      0.178683     -0.004189 -0.040439   \n",
       "region          0.012123 -0.026002     -0.229408      0.236579  0.269481   \n",
       "\n",
       "                  4225      4770  Total Bags  Small Bags  Large Bags  \\\n",
       "Unnamed: 0    0.093566  0.075647    0.081007    0.083485    0.065364   \n",
       "Date         -0.035118 -0.016382   -0.010990   -0.005656   -0.040195   \n",
       "AveragePrice -0.092084 -0.100567   -0.111597   -0.097682   -0.177480   \n",
       "Total Volume  0.987154  0.934347    0.967689    0.960642    0.910226   \n",
       "4046          0.951952  0.898570    0.930395    0.922278    0.884229   \n",
       "4225          1.000000  0.927757    0.951779    0.943988    0.900496   \n",
       "4770          0.927757  1.000000    0.926405    0.923607    0.840523   \n",
       "Total Bags    0.951779  0.926405    1.000000    0.997341    0.911336   \n",
       "Small Bags    0.943988  0.923607    0.997341    1.000000    0.879131   \n",
       "Large Bags    0.900496  0.840523    0.911336    0.879131    1.000000   \n",
       "XLarge Bags   0.504718  0.646053    0.601856    0.611300    0.447779   \n",
       "type               NaN       NaN         NaN         NaN         NaN   \n",
       "year         -0.007254  0.029222    0.090108    0.106382   -0.018678   \n",
       "region        0.215733  0.138092    0.190001    0.168650    0.297452   \n",
       "\n",
       "              XLarge Bags  type      year    region  \n",
       "Unnamed: 0      -0.050993   NaN -0.012854  0.012123  \n",
       "Date             0.011274   NaN  0.022750 -0.026002  \n",
       "AveragePrice    -0.048284   NaN  0.178683 -0.229408  \n",
       "Total Volume     0.521717   NaN -0.004189  0.236579  \n",
       "4046             0.474063   NaN -0.040439  0.269481  \n",
       "4225             0.504718   NaN -0.007254  0.215733  \n",
       "4770             0.646053   NaN  0.029222  0.138092  \n",
       "Total Bags       0.601856   NaN  0.090108  0.190001  \n",
       "Small Bags       0.611300   NaN  0.106382  0.168650  \n",
       "Large Bags       0.447779   NaN -0.018678  0.297452  \n",
       "XLarge Bags      1.000000   NaN  0.218342 -0.046144  \n",
       "type                  NaN   NaN       NaN       NaN  \n",
       "year             0.218342   NaN  1.000000 -0.470472  \n",
       "region          -0.046144   NaN -0.470472  1.000000  "
      ]
     },
     "execution_count": 98,
     "metadata": {},
     "output_type": "execute_result"
    }
   ],
   "source": [
    "df.corr()"
   ]
  },
  {
   "cell_type": "code",
   "execution_count": 99,
   "metadata": {},
   "outputs": [
    {
     "data": {
      "text/plain": [
       "<matplotlib.axes._subplots.AxesSubplot at 0x208420d2c10>"
      ]
     },
     "execution_count": 99,
     "metadata": {},
     "output_type": "execute_result"
    },
    {
     "data": {
      "image/png": "[encoded data removed]",
      "text/plain": [
       "<Figure size 1584x504 with 2 Axes>"
      ]
     },
     "metadata": {
      "needs_background": "light"
     },
     "output_type": "display_data"
    }
   ],
   "source": [
    "plt.figure(figsize=(22,7))\n",
    "sns.heatmap(df.corr(),annot=True,linewidths=0.1,linecolor=\"black\",fmt=\"0.2f\")"
   ]
  },
  {
   "cell_type": "markdown",
   "metadata": {},
   "source": [
    "Checking the columns which are positively and negatively correlated with the target column."
   ]
  },
  {
   "cell_type": "code",
   "execution_count": 145,
   "metadata": {},
   "outputs": [
    {
     "data": {
      "image/png": "[encoded data removed]",
      "text/plain": [
       "<Figure size 1584x504 with 1 Axes>"
      ]
     },
     "metadata": {
      "needs_background": "light"
     },
     "output_type": "display_data"
    }
   ],
   "source": [
    "plt.figure(figsize=(22,7))\n",
    "df.corr()['AveragePrice'].sort_values(ascending=False).drop(['AveragePrice']).plot(kind='bar',color='c')\n",
    "plt.xlabel('Feature',fontsize=14)\n",
    "plt.ylabel('Column with target names',fontsize=14)\n",
    "plt.title('correlation',fontsize=18)\n",
    "plt.show()"
   ]
  },
  {
   "cell_type": "markdown",
   "metadata": {},
   "source": [
    "# Checking the skewness and Outliers: "
   ]
  },
  {
   "cell_type": "code",
   "execution_count": 146,
   "metadata": {},
   "outputs": [
    {
     "data": {
      "text/plain": [
       "Unnamed: 0     -0.234824\n",
       "Date            0.012623\n",
       "AveragePrice   -0.109444\n",
       "Total Volume    6.200138\n",
       "4046            6.051830\n",
       "4225            6.394926\n",
       "4770            5.405164\n",
       "Total Bags      5.366378\n",
       "Small Bags      5.355185\n",
       "Large Bags      5.144495\n",
       "XLarge Bags     5.775077\n",
       "type            0.000000\n",
       "year            1.828332\n",
       "region          0.288146\n",
       "dtype: float64"
      ]
     },
     "execution_count": 146,
     "metadata": {},
     "output_type": "execute_result"
    }
   ],
   "source": [
    "df.skew()"
   ]
  },
  {
   "cell_type": "markdown",
   "metadata": {},
   "source": [
    "We can see that the data has skewness. So we will be removing skewness."
   ]
  },
  {
   "cell_type": "code",
   "execution_count": 147,
   "metadata": {},
   "outputs": [],
   "source": [
    "from sklearn.preprocessing import power_transform\n",
    "df_new = power_transform(df)\n",
    "\n",
    "df_new = pd.DataFrame(df_new,columns=df.columns)"
   ]
  },
  {
   "cell_type": "code",
   "execution_count": 148,
   "metadata": {},
   "outputs": [
    {
     "data": {
      "text/plain": [
       "Unnamed: 0     -0.348219\n",
       "Date           -0.286196\n",
       "AveragePrice    0.021101\n",
       "Total Volume    0.000000\n",
       "4046           -0.012059\n",
       "4225            0.008450\n",
       "4770           -0.032945\n",
       "Total Bags      0.005205\n",
       "Small Bags      0.027632\n",
       "Large Bags     -0.074795\n",
       "XLarge Bags     0.417289\n",
       "type            0.000000\n",
       "year            0.000000\n",
       "region         -0.209568\n",
       "dtype: float64"
      ]
     },
     "execution_count": 148,
     "metadata": {},
     "output_type": "execute_result"
    }
   ],
   "source": [
    "df_new.skew()"
   ]
  },
  {
   "cell_type": "code",
   "execution_count": 149,
   "metadata": {},
   "outputs": [],
   "source": [
    "x=df_new"
   ]
  },
  {
   "cell_type": "code",
   "execution_count": 150,
   "metadata": {},
   "outputs": [
    {
     "data": {
      "image/png": "[encoded data removed]",
      "text/plain": [
       "<Figure size 1440x360 with 1 Axes>"
      ]
     },
     "metadata": {
      "needs_background": "light"
     },
     "output_type": "display_data"
    }
   ],
   "source": [
    "x.iloc[:,0:14].boxplot(figsize=[20,5])\n",
    "plt.subplots_adjust(bottom=0.20)\n",
    "plt.show()"
   ]
  },
  {
   "cell_type": "markdown",
   "metadata": {},
   "source": [
    "We won't be removing outliers since we are losing all the data if the outliers are removed."
   ]
  },
  {
   "cell_type": "markdown",
   "metadata": {},
   "source": [
    "# Separating the columns into x(independent variables) and y(Target variable):"
   ]
  },
  {
   "cell_type": "code",
   "execution_count": 151,
   "metadata": {},
   "outputs": [],
   "source": [
    "x= df.drop(\"AveragePrice\",axis=1)\n",
    "y= df[\"AveragePrice\"]"
   ]
  },
  {
   "cell_type": "markdown",
   "metadata": {},
   "source": [
    "# Scaling the data using Min-Max scaler:"
   ]
  },
  {
   "cell_type": "code",
   "execution_count": 152,
   "metadata": {},
   "outputs": [],
   "source": [
    "from sklearn.preprocessing import MinMaxScaler\n",
    "mms=MinMaxScaler()\n",
    "from sklearn.linear_model import LinearRegression\n",
    "lr=LinearRegression()\n",
    "from sklearn.metrics import r2_score\n",
    "from sklearn.model_selection import train_test_split\n",
    "import warnings\n",
    "warnings.filterwarnings('ignore')"
   ]
  },
  {
   "cell_type": "code",
   "execution_count": 153,
   "metadata": {},
   "outputs": [
    {
     "name": "stdout",
     "output_type": "stream",
     "text": [
      "At random state 0,the training accuracy is:- 0.19644869630852801\n",
      "At random state 0,the training accuracy is:- 0.13471737856574106\n",
      "\n",
      "\n",
      "At random state 1,the training accuracy is:- 0.17692858586522087\n",
      "At random state 1,the training accuracy is:- 0.20420029403324946\n",
      "\n",
      "\n",
      "At random state 2,the training accuracy is:- 0.1896040064915563\n",
      "At random state 2,the training accuracy is:- 0.15936850454670537\n",
      "\n",
      "\n",
      "At random state 3,the training accuracy is:- 0.20622803022135083\n",
      "At random state 3,the training accuracy is:- 0.07873186735673876\n",
      "\n",
      "\n",
      "At random state 4,the training accuracy is:- 0.21025988295102183\n",
      "At random state 4,the training accuracy is:- 0.047958451310278316\n",
      "\n",
      "\n",
      "At random state 5,the training accuracy is:- 0.1856500044714866\n",
      "At random state 5,the training accuracy is:- 0.17966210008746308\n",
      "\n",
      "\n",
      "At random state 6,the training accuracy is:- 0.1924841625385887\n",
      "At random state 6,the training accuracy is:- 0.1364801462988603\n",
      "\n",
      "\n",
      "At random state 7,the training accuracy is:- 0.19616346785331729\n",
      "At random state 7,the training accuracy is:- 0.12666248636773658\n",
      "\n",
      "\n",
      "At random state 8,the training accuracy is:- 0.17075036262808607\n",
      "At random state 8,the training accuracy is:- 0.22658678166088442\n",
      "\n",
      "\n",
      "At random state 9,the training accuracy is:- 0.18913390953141807\n",
      "At random state 9,the training accuracy is:- 0.1591723450680047\n",
      "\n",
      "\n",
      "At random state 10,the training accuracy is:- 0.19062011271137558\n",
      "At random state 10,the training accuracy is:- 0.15541912350702347\n",
      "\n",
      "\n",
      "At random state 11,the training accuracy is:- 0.1814636337791954\n",
      "At random state 11,the training accuracy is:- 0.18166951703863543\n",
      "\n",
      "\n",
      "At random state 12,the training accuracy is:- 0.19229898155604996\n",
      "At random state 12,the training accuracy is:- 0.13816500906845397\n",
      "\n",
      "\n",
      "At random state 13,the training accuracy is:- 0.2046556296771922\n",
      "At random state 13,the training accuracy is:- 0.062282506778007174\n",
      "\n",
      "\n",
      "At random state 14,the training accuracy is:- 0.19539855899531866\n",
      "At random state 14,the training accuracy is:- 0.13634298592266147\n",
      "\n",
      "\n",
      "At random state 15,the training accuracy is:- 0.18289138666017657\n",
      "At random state 15,the training accuracy is:- 0.19193833548655415\n",
      "\n",
      "\n",
      "At random state 16,the training accuracy is:- 0.187323650698619\n",
      "At random state 16,the training accuracy is:- 0.1718483095338379\n",
      "\n",
      "\n",
      "At random state 17,the training accuracy is:- 0.17597304082922516\n",
      "At random state 17,the training accuracy is:- 0.2181970025504778\n",
      "\n",
      "\n",
      "At random state 18,the training accuracy is:- 0.19235467846001475\n",
      "At random state 18,the training accuracy is:- 0.12974867605427254\n",
      "\n",
      "\n",
      "At random state 19,the training accuracy is:- 0.1907280479565583\n",
      "At random state 19,the training accuracy is:- 0.15502599122183036\n",
      "\n",
      "\n",
      "At random state 20,the training accuracy is:- 0.18039223310349273\n",
      "At random state 20,the training accuracy is:- 0.20043063119328053\n",
      "\n",
      "\n",
      "At random state 21,the training accuracy is:- 0.17977066119131102\n",
      "At random state 21,the training accuracy is:- 0.1957047897486789\n",
      "\n",
      "\n",
      "At random state 22,the training accuracy is:- 0.19344625204229626\n",
      "At random state 22,the training accuracy is:- 0.1355543713081031\n",
      "\n",
      "\n",
      "At random state 23,the training accuracy is:- 0.19499166296612958\n",
      "At random state 23,the training accuracy is:- 0.13214870650401667\n",
      "\n",
      "\n",
      "At random state 24,the training accuracy is:- 0.19543802555684664\n",
      "At random state 24,the training accuracy is:- 0.12523741275131606\n",
      "\n",
      "\n",
      "At random state 25,the training accuracy is:- 0.1743381778466685\n",
      "At random state 25,the training accuracy is:- 0.21958745544185965\n",
      "\n",
      "\n",
      "At random state 26,the training accuracy is:- 0.18088226804247243\n",
      "At random state 26,the training accuracy is:- 0.19584579580707173\n",
      "\n",
      "\n",
      "At random state 27,the training accuracy is:- 0.1851718030775925\n",
      "At random state 27,the training accuracy is:- 0.1750623117002954\n",
      "\n",
      "\n",
      "At random state 28,the training accuracy is:- 0.18897806934923955\n",
      "At random state 28,the training accuracy is:- 0.16159612939545642\n",
      "\n",
      "\n",
      "At random state 29,the training accuracy is:- 0.18536436028859282\n",
      "At random state 29,the training accuracy is:- 0.17598745761308743\n",
      "\n",
      "\n",
      "At random state 30,the training accuracy is:- 0.18393794141793385\n",
      "At random state 30,the training accuracy is:- 0.18460257050623685\n",
      "\n",
      "\n",
      "At random state 31,the training accuracy is:- 0.2003221135119253\n",
      "At random state 31,the training accuracy is:- 0.1184940862928161\n",
      "\n",
      "\n",
      "At random state 32,the training accuracy is:- 0.18912976236478696\n",
      "At random state 32,the training accuracy is:- 0.16555674551017985\n",
      "\n",
      "\n",
      "At random state 33,the training accuracy is:- 0.19596058211333356\n",
      "At random state 33,the training accuracy is:- 0.13466855602176575\n",
      "\n",
      "\n",
      "At random state 34,the training accuracy is:- 0.194910805511901\n",
      "At random state 34,the training accuracy is:- 0.1270218341176369\n",
      "\n",
      "\n",
      "At random state 35,the training accuracy is:- 0.19063321242048303\n",
      "At random state 35,the training accuracy is:- 0.1532651603408005\n",
      "\n",
      "\n",
      "At random state 36,the training accuracy is:- 0.1829884549639451\n",
      "At random state 36,the training accuracy is:- 0.18972106175970138\n",
      "\n",
      "\n",
      "At random state 37,the training accuracy is:- 0.2053991251025068\n",
      "At random state 37,the training accuracy is:- 0.08229776562224078\n",
      "\n",
      "\n",
      "At random state 38,the training accuracy is:- 0.18300401602608674\n",
      "At random state 38,the training accuracy is:- 0.18680447657618737\n",
      "\n",
      "\n",
      "At random state 39,the training accuracy is:- 0.19265361503386524\n",
      "At random state 39,the training accuracy is:- 0.14828634805451768\n",
      "\n",
      "\n",
      "At random state 40,the training accuracy is:- 0.18284595093718115\n",
      "At random state 40,the training accuracy is:- 0.178550217550409\n",
      "\n",
      "\n",
      "At random state 41,the training accuracy is:- 0.20721426606107862\n",
      "At random state 41,the training accuracy is:- 0.07830052413465582\n",
      "\n",
      "\n",
      "At random state 42,the training accuracy is:- 0.18389551841320984\n",
      "At random state 42,the training accuracy is:- 0.1778714491801926\n",
      "\n",
      "\n",
      "At random state 43,the training accuracy is:- 0.1764712282871692\n",
      "At random state 43,the training accuracy is:- 0.19279058468435373\n",
      "\n",
      "\n",
      "At random state 44,the training accuracy is:- 0.19231004669452512\n",
      "At random state 44,the training accuracy is:- 0.14519699223746263\n",
      "\n",
      "\n",
      "At random state 45,the training accuracy is:- 0.19609265637105933\n",
      "At random state 45,the training accuracy is:- 0.13871863501922566\n",
      "\n",
      "\n",
      "At random state 46,the training accuracy is:- 0.17206359921381098\n",
      "At random state 46,the training accuracy is:- 0.22915126010347708\n",
      "\n",
      "\n",
      "At random state 47,the training accuracy is:- 0.18235671979651402\n",
      "At random state 47,the training accuracy is:- 0.1910501806690339\n",
      "\n",
      "\n",
      "At random state 48,the training accuracy is:- 0.19878385833616286\n",
      "At random state 48,the training accuracy is:- 0.11763681651912883\n",
      "\n",
      "\n",
      "At random state 49,the training accuracy is:- 0.19495391770045523\n",
      "At random state 49,the training accuracy is:- 0.14218098410843472\n",
      "\n",
      "\n",
      "At random state 50,the training accuracy is:- 0.18908428494536444\n",
      "At random state 50,the training accuracy is:- 0.16116514317639774\n",
      "\n",
      "\n",
      "At random state 51,the training accuracy is:- 0.18239365450538603\n",
      "At random state 51,the training accuracy is:- 0.18152600078829795\n",
      "\n",
      "\n",
      "At random state 52,the training accuracy is:- 0.16570433349028402\n",
      "At random state 52,the training accuracy is:- 0.21939004958620267\n",
      "\n",
      "\n",
      "At random state 53,the training accuracy is:- 0.17959631715724578\n",
      "At random state 53,the training accuracy is:- 0.18728813748251605\n",
      "\n",
      "\n",
      "At random state 54,the training accuracy is:- 0.1810481793557418\n",
      "At random state 54,the training accuracy is:- 0.19573064345000368\n",
      "\n",
      "\n",
      "At random state 55,the training accuracy is:- 0.16990609224415598\n",
      "At random state 55,the training accuracy is:- 0.22372912827218716\n",
      "\n",
      "\n",
      "At random state 56,the training accuracy is:- 0.19410608169710852\n",
      "At random state 56,the training accuracy is:- 0.1261994125949113\n",
      "\n",
      "\n",
      "At random state 57,the training accuracy is:- 0.18751873363771399\n",
      "At random state 57,the training accuracy is:- 0.17367799849521848\n",
      "\n",
      "\n",
      "At random state 58,the training accuracy is:- 0.19902464162620415\n",
      "At random state 58,the training accuracy is:- 0.10617886336134474\n",
      "\n",
      "\n",
      "At random state 59,the training accuracy is:- 0.18115225721984407\n",
      "At random state 59,the training accuracy is:- 0.17865426003075235\n",
      "\n",
      "\n",
      "At random state 60,the training accuracy is:- 0.17633499052806367\n",
      "At random state 60,the training accuracy is:- 0.20526471133166735\n",
      "\n",
      "\n",
      "At random state 61,the training accuracy is:- 0.18471058566312104\n",
      "At random state 61,the training accuracy is:- 0.17190319131833542\n",
      "\n",
      "\n",
      "At random state 62,the training accuracy is:- 0.18436405921994092\n",
      "At random state 62,the training accuracy is:- 0.18068327655585859\n",
      "\n",
      "\n",
      "At random state 63,the training accuracy is:- 0.18442915437126828\n",
      "At random state 63,the training accuracy is:- 0.17893366253094012\n",
      "\n",
      "\n"
     ]
    },
    {
     "name": "stdout",
     "output_type": "stream",
     "text": [
      "At random state 64,the training accuracy is:- 0.19688733243415013\n",
      "At random state 64,the training accuracy is:- 0.1011311829535787\n",
      "\n",
      "\n",
      "At random state 65,the training accuracy is:- 0.18853302303631503\n",
      "At random state 65,the training accuracy is:- 0.15963432237575703\n",
      "\n",
      "\n",
      "At random state 66,the training accuracy is:- 0.19461280834061856\n",
      "At random state 66,the training accuracy is:- 0.14219913779209736\n",
      "\n",
      "\n",
      "At random state 67,the training accuracy is:- 0.18485479681883676\n",
      "At random state 67,the training accuracy is:- 0.17870816745376616\n",
      "\n",
      "\n",
      "At random state 68,the training accuracy is:- 0.18869208344180521\n",
      "At random state 68,the training accuracy is:- 0.1398851836120869\n",
      "\n",
      "\n",
      "At random state 69,the training accuracy is:- 0.20353481235184734\n",
      "At random state 69,the training accuracy is:- 0.09031085463188782\n",
      "\n",
      "\n",
      "At random state 70,the training accuracy is:- 0.17951705210319968\n",
      "At random state 70,the training accuracy is:- 0.19988807327224234\n",
      "\n",
      "\n",
      "At random state 71,the training accuracy is:- 0.19506080829231565\n",
      "At random state 71,the training accuracy is:- 0.12905690542906156\n",
      "\n",
      "\n",
      "At random state 72,the training accuracy is:- 0.20596876134532416\n",
      "At random state 72,the training accuracy is:- 0.08023163405643863\n",
      "\n",
      "\n",
      "At random state 73,the training accuracy is:- 0.18283227337870211\n",
      "At random state 73,the training accuracy is:- 0.18316695007502415\n",
      "\n",
      "\n",
      "At random state 74,the training accuracy is:- 0.17825863769918804\n",
      "At random state 74,the training accuracy is:- 0.19760012741986388\n",
      "\n",
      "\n",
      "At random state 75,the training accuracy is:- 0.18652746968824907\n",
      "At random state 75,the training accuracy is:- 0.17545888588360514\n",
      "\n",
      "\n",
      "At random state 76,the training accuracy is:- 0.18879696069336172\n",
      "At random state 76,the training accuracy is:- 0.15770962412656575\n",
      "\n",
      "\n",
      "At random state 77,the training accuracy is:- 0.1967686529311511\n",
      "At random state 77,the training accuracy is:- 0.1241730351200746\n",
      "\n",
      "\n",
      "At random state 78,the training accuracy is:- 0.1927706912175028\n",
      "At random state 78,the training accuracy is:- 0.14932322446802804\n",
      "\n",
      "\n",
      "At random state 79,the training accuracy is:- 0.1820285125975708\n",
      "At random state 79,the training accuracy is:- 0.17952108719717985\n",
      "\n",
      "\n",
      "At random state 80,the training accuracy is:- 0.1801757426809687\n",
      "At random state 80,the training accuracy is:- 0.19584344785357777\n",
      "\n",
      "\n",
      "At random state 81,the training accuracy is:- 0.185799156524732\n",
      "At random state 81,the training accuracy is:- 0.13541134689398282\n",
      "\n",
      "\n",
      "At random state 82,the training accuracy is:- 0.17105718405905856\n",
      "At random state 82,the training accuracy is:- 0.2269205298268917\n",
      "\n",
      "\n",
      "At random state 83,the training accuracy is:- 0.20698546864631595\n",
      "At random state 83,the training accuracy is:- 0.06329083189838092\n",
      "\n",
      "\n",
      "At random state 84,the training accuracy is:- 0.17873443471348227\n",
      "At random state 84,the training accuracy is:- 0.20007942308279814\n",
      "\n",
      "\n",
      "At random state 85,the training accuracy is:- 0.1840961202448108\n",
      "At random state 85,the training accuracy is:- 0.16364937316627481\n",
      "\n",
      "\n",
      "At random state 86,the training accuracy is:- 0.18579888396727395\n",
      "At random state 86,the training accuracy is:- 0.17239375912832422\n",
      "\n",
      "\n",
      "At random state 87,the training accuracy is:- 0.18711235807621884\n",
      "At random state 87,the training accuracy is:- 0.16719507775797737\n",
      "\n",
      "\n",
      "At random state 88,the training accuracy is:- 0.17593652491798062\n",
      "At random state 88,the training accuracy is:- 0.2159977619430904\n",
      "\n",
      "\n",
      "At random state 89,the training accuracy is:- 0.18364741796609652\n",
      "At random state 89,the training accuracy is:- 0.17219109208468164\n",
      "\n",
      "\n",
      "At random state 90,the training accuracy is:- 0.19535094444566947\n",
      "At random state 90,the training accuracy is:- 0.13712687757544717\n",
      "\n",
      "\n",
      "At random state 91,the training accuracy is:- 0.184109492345931\n",
      "At random state 91,the training accuracy is:- 0.18449501477189\n",
      "\n",
      "\n",
      "At random state 92,the training accuracy is:- 0.19395431770257465\n",
      "At random state 92,the training accuracy is:- 0.14037026262551466\n",
      "\n",
      "\n",
      "At random state 93,the training accuracy is:- 0.18259093674682225\n",
      "At random state 93,the training accuracy is:- 0.18943805394339264\n",
      "\n",
      "\n",
      "At random state 94,the training accuracy is:- 0.19281610313116138\n",
      "At random state 94,the training accuracy is:- 0.1399956760913097\n",
      "\n",
      "\n",
      "At random state 95,the training accuracy is:- 0.16844626789246986\n",
      "At random state 95,the training accuracy is:- 0.22951748049808984\n",
      "\n",
      "\n",
      "At random state 96,the training accuracy is:- 0.1866354302765718\n",
      "At random state 96,the training accuracy is:- 0.15573771364350242\n",
      "\n",
      "\n",
      "At random state 97,the training accuracy is:- 0.18765361522365187\n",
      "At random state 97,the training accuracy is:- 0.1561855170772971\n",
      "\n",
      "\n",
      "At random state 98,the training accuracy is:- 0.1991540614212639\n",
      "At random state 98,the training accuracy is:- 0.10479021294115032\n",
      "\n",
      "\n",
      "At random state 99,the training accuracy is:- 0.1708749424197905\n",
      "At random state 99,the training accuracy is:- 0.24063355986533064\n",
      "\n",
      "\n"
     ]
    }
   ],
   "source": [
    "for i in range(0,100):\n",
    "    x_train,x_test,y_train,y_test=train_test_split(x,y,test_size=0.2,random_state=i)\n",
    "    lr.fit(x_train,y_train)\n",
    "    pred_train=lr.predict(x_train)\n",
    "    pred_test=lr.predict(x_test)\n",
    "    print(f\"At random state {i},the training accuracy is:- {r2_score(y_train,pred_train)}\")\n",
    "    print(f\"At random state {i},the training accuracy is:- {r2_score(y_test,pred_test)}\")\n",
    "    print(\"\\n\")"
   ]
  },
  {
   "cell_type": "code",
   "execution_count": 154,
   "metadata": {},
   "outputs": [],
   "source": [
    "x_train,x_test,y_train,y_test=train_test_split(x,y,test_size=0.2,random_state=58)"
   ]
  },
  {
   "cell_type": "code",
   "execution_count": 155,
   "metadata": {},
   "outputs": [
    {
     "data": {
      "text/plain": [
       "LinearRegression()"
      ]
     },
     "execution_count": 155,
     "metadata": {},
     "output_type": "execute_result"
    }
   ],
   "source": [
    "lr.fit(x_train,y_train)"
   ]
  },
  {
   "cell_type": "code",
   "execution_count": 156,
   "metadata": {},
   "outputs": [],
   "source": [
    "pred_test=lr.predict(x_test)"
   ]
  },
  {
   "cell_type": "code",
   "execution_count": 157,
   "metadata": {},
   "outputs": [
    {
     "name": "stdout",
     "output_type": "stream",
     "text": [
      "0.10617886336134474\n"
     ]
    }
   ],
   "source": [
    "print(r2_score(y_test,pred_test))"
   ]
  },
  {
   "cell_type": "markdown",
   "metadata": {},
   "source": [
    "# Cross validation of the model:"
   ]
  },
  {
   "cell_type": "code",
   "execution_count": 158,
   "metadata": {},
   "outputs": [
    {
     "name": "stdout",
     "output_type": "stream",
     "text": [
      "At cross fold 2 the cv score is -3.224116814137914 and accuracy score for training is -0.11695923191566737 and accuracy for the testing is 0.10617886336134474\n",
      "\n",
      "\n",
      "At cross fold 3 the cv score is -0.8620871452218467 and accuracy score for training is -0.11695923191566737 and accuracy for the testing is 0.10617886336134474\n",
      "\n",
      "\n",
      "At cross fold 4 the cv score is -0.16516995649684063 and accuracy score for training is -0.11695923191566737 and accuracy for the testing is 0.10617886336134474\n",
      "\n",
      "\n",
      "At cross fold 5 the cv score is -0.41878113310725784 and accuracy score for training is -0.11695923191566737 and accuracy for the testing is 0.10617886336134474\n",
      "\n",
      "\n",
      "At cross fold 6 the cv score is -1.5344405672513257 and accuracy score for training is -0.11695923191566737 and accuracy for the testing is 0.10617886336134474\n",
      "\n",
      "\n",
      "At cross fold 7 the cv score is -0.4174750133647037 and accuracy score for training is -0.11695923191566737 and accuracy for the testing is 0.10617886336134474\n",
      "\n",
      "\n",
      "At cross fold 8 the cv score is -0.5326212705941775 and accuracy score for training is -0.11695923191566737 and accuracy for the testing is 0.10617886336134474\n",
      "\n",
      "\n",
      "At cross fold 9 the cv score is -0.451204556116954 and accuracy score for training is -0.11695923191566737 and accuracy for the testing is 0.10617886336134474\n",
      "\n",
      "\n"
     ]
    }
   ],
   "source": [
    "Train_accuracy=r2_score(y_train,pred_train)\n",
    "Test_accuracy=r2_score(y_test,pred_test)\n",
    "\n",
    "from sklearn.model_selection import cross_val_score\n",
    "for j in range(2,10):\n",
    "    cv_score=cross_val_score(lr,x,y,cv=j)\n",
    "    cv_mean=cv_score.mean()\n",
    "    print(f\"At cross fold {j} the cv score is {cv_mean} and accuracy score for training is {Train_accuracy} and accuracy for the testing is {Test_accuracy}\")\n",
    "    print(\"\\n\")"
   ]
  },
  {
   "cell_type": "markdown",
   "metadata": {},
   "source": [
    "We will be selecting cv=5."
   ]
  },
  {
   "cell_type": "code",
   "execution_count": 159,
   "metadata": {},
   "outputs": [
    {
     "data": {
      "image/png": "[encoded data removed]",
      "text/plain": [
       "<Figure size 576x432 with 1 Axes>"
      ]
     },
     "metadata": {
      "needs_background": "light"
     },
     "output_type": "display_data"
    }
   ],
   "source": [
    "import matplotlib.pyplot as plt\n",
    "plt.figure(figsize=(8,6))\n",
    "plt.scatter(x=y_test, y=pred_test, color='r')\n",
    "plt.plot(y_test,y_test, color='b')\n",
    "plt.xlabel('AveragePrice', fontsize=14)\n",
    "plt.ylabel('Predicted Price', fontsize=14)\n",
    "plt.title('Linear Regression', fontsize=18)\n",
    "plt.show()"
   ]
  },
  {
   "cell_type": "markdown",
   "metadata": {},
   "source": [
    "# Regularization:"
   ]
  },
  {
   "cell_type": "code",
   "execution_count": 160,
   "metadata": {},
   "outputs": [],
   "source": [
    "from sklearn.model_selection import GridSearchCV\n",
    "from sklearn.model_selection import cross_val_score\n",
    "import warnings\n",
    "warnings.filterwarnings('ignore')"
   ]
  },
  {
   "cell_type": "code",
   "execution_count": 161,
   "metadata": {},
   "outputs": [
    {
     "name": "stdout",
     "output_type": "stream",
     "text": [
      "{'alpha': 0.0001, 'random_state': 0}\n"
     ]
    }
   ],
   "source": [
    "from sklearn.linear_model import Lasso\n",
    "\n",
    "parameters = {'alpha':[.0001, .001, .01, .1, 1, 10],'random_state':list(range(0,10))}\n",
    "ls = Lasso()\n",
    "clf = GridSearchCV(ls,parameters)\n",
    "clf.fit(x_train,y_train)\n",
    "\n",
    "print(clf.best_params_)"
   ]
  },
  {
   "cell_type": "code",
   "execution_count": 162,
   "metadata": {},
   "outputs": [
    {
     "data": {
      "text/plain": [
       "0.10629052443707132"
      ]
     },
     "execution_count": 162,
     "metadata": {},
     "output_type": "execute_result"
    }
   ],
   "source": [
    "ls = Lasso(alpha=0.0001,random_state=0)\n",
    "ls.fit(x_train,y_train)\n",
    "ls.score(x_train,y_train)\n",
    "pred_ls = ls.predict(x_test)\n",
    "\n",
    "lss = r2_score(y_test,pred_ls)\n",
    "lss"
   ]
  },
  {
   "cell_type": "code",
   "execution_count": 163,
   "metadata": {},
   "outputs": [
    {
     "data": {
      "text/plain": [
       "-0.4208571306999921"
      ]
     },
     "execution_count": 163,
     "metadata": {},
     "output_type": "execute_result"
    }
   ],
   "source": [
    "cv_score=cross_val_score(ls,x,y,cv=5)\n",
    "cv_mean=cv_score.mean()\n",
    "cv_mean"
   ]
  },
  {
   "cell_type": "markdown",
   "metadata": {},
   "source": [
    "# Ensemble Technique:"
   ]
  },
  {
   "cell_type": "code",
   "execution_count": 164,
   "metadata": {},
   "outputs": [
    {
     "name": "stdout",
     "output_type": "stream",
     "text": [
      "{'criterion': 'mse', 'max_features': 'sqrt'}\n"
     ]
    }
   ],
   "source": [
    "from sklearn.model_selection import GridSearchCV\n",
    "from sklearn.ensemble import RandomForestRegressor\n",
    "\n",
    "parameters = {'criterion':['mse','mae'],'max_features':[\"auto\", \"sqrt\", \"log2\"]}\n",
    "rf = RandomForestRegressor()\n",
    "clf = GridSearchCV(rf,parameters)\n",
    "clf.fit(x_train,y_train)\n",
    "\n",
    "print(clf.best_params_)"
   ]
  },
  {
   "cell_type": "code",
   "execution_count": 165,
   "metadata": {},
   "outputs": [
    {
     "name": "stdout",
     "output_type": "stream",
     "text": [
      "R2 Score: 83.30537316186395\n",
      "Cross Val Score: 24.4248212181271\n"
     ]
    }
   ],
   "source": [
    "rf= RandomForestRegressor(criterion=\"mse\",max_features=\"sqrt\")\n",
    "rf.fit(x_train, y_train)\n",
    "rf.score(x_train,y_train)\n",
    "pred_decision = rf.predict(x_test)\n",
    "\n",
    "rfs = r2_score(y_test,pred_decision)\n",
    "print('R2 Score:',rfs*100)\n",
    "\n",
    "rfscore = cross_val_score(rf,x,y,cv=5)\n",
    "rfc = rfscore.mean()\n",
    "print('Cross Val Score:',rfc*100)"
   ]
  },
  {
   "cell_type": "code",
   "execution_count": 166,
   "metadata": {},
   "outputs": [],
   "source": [
    "import pickle \n",
    "filename = 'AvacadoProject.pkl'\n",
    "pickle.dump(rf, open(filename, 'wb'))"
   ]
  },
  {
   "cell_type": "markdown",
   "metadata": {},
   "source": [
    "# Conclusion:"
   ]
  },
  {
   "cell_type": "code",
   "execution_count": 167,
   "metadata": {},
   "outputs": [
    {
     "name": "stdout",
     "output_type": "stream",
     "text": [
      "0.8330537316186395\n"
     ]
    }
   ],
   "source": [
    "loaded_model = pickle.load(open('AvacadoProject.pkl', 'rb'))\n",
    "result = loaded_model.score(x_test,y_test)\n",
    "print(result)"
   ]
  },
  {
   "cell_type": "code",
   "execution_count": 168,
   "metadata": {},
   "outputs": [],
   "source": [
    "conclusion=pd.DataFrame([loaded_model.predict(x_test)[:],pred_decision[:]],index=[\"Predicted\",\"Original\"])"
   ]
  },
  {
   "cell_type": "code",
   "execution_count": 169,
   "metadata": {},
   "outputs": [
    {
     "data": {
      "text/html": [
       "<div>\n",
       "<style scoped>\n",
       "    .dataframe tbody tr th:only-of-type {\n",
       "        vertical-align: middle;\n",
       "    }\n",
       "\n",
       "    .dataframe tbody tr th {\n",
       "        vertical-align: top;\n",
       "    }\n",
       "\n",
       "    .dataframe thead th {\n",
       "        text-align: right;\n",
       "    }\n",
       "</style>\n",
       "<table border=\"1\" class=\"dataframe\">\n",
       "  <thead>\n",
       "    <tr style=\"text-align: right;\">\n",
       "      <th></th>\n",
       "      <th>0</th>\n",
       "      <th>1</th>\n",
       "      <th>2</th>\n",
       "      <th>3</th>\n",
       "      <th>4</th>\n",
       "      <th>5</th>\n",
       "      <th>6</th>\n",
       "      <th>7</th>\n",
       "      <th>8</th>\n",
       "      <th>9</th>\n",
       "      <th>...</th>\n",
       "      <th>294</th>\n",
       "      <th>295</th>\n",
       "      <th>296</th>\n",
       "      <th>297</th>\n",
       "      <th>298</th>\n",
       "      <th>299</th>\n",
       "      <th>300</th>\n",
       "      <th>301</th>\n",
       "      <th>302</th>\n",
       "      <th>303</th>\n",
       "    </tr>\n",
       "  </thead>\n",
       "  <tbody>\n",
       "    <tr>\n",
       "      <th>Predicted</th>\n",
       "      <td>1.187</td>\n",
       "      <td>1.0527</td>\n",
       "      <td>1.1842</td>\n",
       "      <td>1.1775</td>\n",
       "      <td>1.327</td>\n",
       "      <td>1.1829</td>\n",
       "      <td>0.7647</td>\n",
       "      <td>1.2081</td>\n",
       "      <td>0.9268</td>\n",
       "      <td>1.0912</td>\n",
       "      <td>...</td>\n",
       "      <td>1.1137</td>\n",
       "      <td>1.0906</td>\n",
       "      <td>1.078</td>\n",
       "      <td>1.3579</td>\n",
       "      <td>0.9987</td>\n",
       "      <td>1.009</td>\n",
       "      <td>1.1605</td>\n",
       "      <td>1.0281</td>\n",
       "      <td>1.1321</td>\n",
       "      <td>1.1843</td>\n",
       "    </tr>\n",
       "    <tr>\n",
       "      <th>Original</th>\n",
       "      <td>1.187</td>\n",
       "      <td>1.0527</td>\n",
       "      <td>1.1842</td>\n",
       "      <td>1.1775</td>\n",
       "      <td>1.327</td>\n",
       "      <td>1.1829</td>\n",
       "      <td>0.7647</td>\n",
       "      <td>1.2081</td>\n",
       "      <td>0.9268</td>\n",
       "      <td>1.0912</td>\n",
       "      <td>...</td>\n",
       "      <td>1.1137</td>\n",
       "      <td>1.0906</td>\n",
       "      <td>1.078</td>\n",
       "      <td>1.3579</td>\n",
       "      <td>0.9987</td>\n",
       "      <td>1.009</td>\n",
       "      <td>1.1605</td>\n",
       "      <td>1.0281</td>\n",
       "      <td>1.1321</td>\n",
       "      <td>1.1843</td>\n",
       "    </tr>\n",
       "  </tbody>\n",
       "</table>\n",
       "<p>2 rows × 304 columns</p>\n",
       "</div>"
      ],
      "text/plain": [
       "             0       1       2       3      4       5       6       7    \\\n",
       "Predicted  1.187  1.0527  1.1842  1.1775  1.327  1.1829  0.7647  1.2081   \n",
       "Original   1.187  1.0527  1.1842  1.1775  1.327  1.1829  0.7647  1.2081   \n",
       "\n",
       "              8       9    ...     294     295    296     297     298    299  \\\n",
       "Predicted  0.9268  1.0912  ...  1.1137  1.0906  1.078  1.3579  0.9987  1.009   \n",
       "Original   0.9268  1.0912  ...  1.1137  1.0906  1.078  1.3579  0.9987  1.009   \n",
       "\n",
       "              300     301     302     303  \n",
       "Predicted  1.1605  1.0281  1.1321  1.1843  \n",
       "Original   1.1605  1.0281  1.1321  1.1843  \n",
       "\n",
       "[2 rows x 304 columns]"
      ]
     },
     "execution_count": 169,
     "metadata": {},
     "output_type": "execute_result"
    }
   ],
   "source": [
    "conclusion"
   ]
  },
  {
   "cell_type": "code",
   "execution_count": null,
   "metadata": {},
   "outputs": [],
   "source": []
  }
 ],
 "metadata": {
  "kernelspec": {
   "display_name": "Python 3",
   "language": "python",
   "name": "python3"
  },
  "language_info": {
   "codemirror_mode": {
    "name": "ipython",
    "version": 3
   },
   "file_extension": ".py",
   "mimetype": "text/x-python",
   "name": "python",
   "nbconvert_exporter": "python",
   "pygments_lexer": "ipython3",
   "version": "3.8.3"
  }
 },
 "nbformat": 4,
 "nbformat_minor": 4
}
