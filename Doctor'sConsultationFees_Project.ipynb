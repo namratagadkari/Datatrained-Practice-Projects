{
 "cells": [
  {
   "cell_type": "markdown",
   "metadata": {},
   "source": [
    "# Dataset Description:"
   ]
  },
  {
   "cell_type": "markdown",
   "metadata": {},
   "source": [
    "Here we have a datasets that records important details like Qualification, Experience, Profile, Rating & Fees of the doctor and we are suppose to build a model predicting the doctor's consulting fees."
   ]
  },
  {
   "cell_type": "markdown",
   "metadata": {},
   "source": [
    "# Importing the Dataset:"
   ]
  },
  {
   "cell_type": "code",
   "execution_count": 16,
   "metadata": {},
   "outputs": [],
   "source": [
    "import pandas as pd\n",
    "import numpy as np"
   ]
  },
  {
   "cell_type": "code",
   "execution_count": 17,
   "metadata": {},
   "outputs": [
    {
     "data": {
      "text/html": [
       "<div>\n",
       "<style scoped>\n",
       "    .dataframe tbody tr th:only-of-type {\n",
       "        vertical-align: middle;\n",
       "    }\n",
       "\n",
       "    .dataframe tbody tr th {\n",
       "        vertical-align: top;\n",
       "    }\n",
       "\n",
       "    .dataframe thead th {\n",
       "        text-align: right;\n",
       "    }\n",
       "</style>\n",
       "<table border=\"1\" class=\"dataframe\">\n",
       "  <thead>\n",
       "    <tr style=\"text-align: right;\">\n",
       "      <th></th>\n",
       "      <th>Qualification</th>\n",
       "      <th>Experience</th>\n",
       "      <th>Rating</th>\n",
       "      <th>Place</th>\n",
       "      <th>Profile</th>\n",
       "      <th>Miscellaneous_Info</th>\n",
       "      <th>Fees</th>\n",
       "    </tr>\n",
       "  </thead>\n",
       "  <tbody>\n",
       "    <tr>\n",
       "      <th>0</th>\n",
       "      <td>BHMS, MD - Homeopathy</td>\n",
       "      <td>24 years experience</td>\n",
       "      <td>100%</td>\n",
       "      <td>Kakkanad, Ernakulam</td>\n",
       "      <td>Homeopath</td>\n",
       "      <td>100% 16 Feedback Kakkanad, Ernakulam</td>\n",
       "      <td>100</td>\n",
       "    </tr>\n",
       "    <tr>\n",
       "      <th>1</th>\n",
       "      <td>BAMS, MD - Ayurveda Medicine</td>\n",
       "      <td>12 years experience</td>\n",
       "      <td>98%</td>\n",
       "      <td>Whitefield, Bangalore</td>\n",
       "      <td>Ayurveda</td>\n",
       "      <td>98% 76 Feedback Whitefield, Bangalore</td>\n",
       "      <td>350</td>\n",
       "    </tr>\n",
       "    <tr>\n",
       "      <th>2</th>\n",
       "      <td>MBBS, MS - Otorhinolaryngology</td>\n",
       "      <td>9 years experience</td>\n",
       "      <td>NaN</td>\n",
       "      <td>Mathikere - BEL, Bangalore</td>\n",
       "      <td>ENT Specialist</td>\n",
       "      <td>NaN</td>\n",
       "      <td>300</td>\n",
       "    </tr>\n",
       "    <tr>\n",
       "      <th>3</th>\n",
       "      <td>BSc - Zoology, BAMS</td>\n",
       "      <td>12 years experience</td>\n",
       "      <td>NaN</td>\n",
       "      <td>Bannerghatta Road, Bangalore</td>\n",
       "      <td>Ayurveda</td>\n",
       "      <td>Bannerghatta Road, Bangalore ?250 Available on...</td>\n",
       "      <td>250</td>\n",
       "    </tr>\n",
       "    <tr>\n",
       "      <th>4</th>\n",
       "      <td>BAMS</td>\n",
       "      <td>20 years experience</td>\n",
       "      <td>100%</td>\n",
       "      <td>Keelkattalai, Chennai</td>\n",
       "      <td>Ayurveda</td>\n",
       "      <td>100% 4 Feedback Keelkattalai, Chennai</td>\n",
       "      <td>250</td>\n",
       "    </tr>\n",
       "    <tr>\n",
       "      <th>...</th>\n",
       "      <td>...</td>\n",
       "      <td>...</td>\n",
       "      <td>...</td>\n",
       "      <td>...</td>\n",
       "      <td>...</td>\n",
       "      <td>...</td>\n",
       "      <td>...</td>\n",
       "    </tr>\n",
       "    <tr>\n",
       "      <th>5956</th>\n",
       "      <td>MBBS, MS - ENT</td>\n",
       "      <td>19 years experience</td>\n",
       "      <td>98%</td>\n",
       "      <td>Basavanagudi, Bangalore</td>\n",
       "      <td>ENT Specialist</td>\n",
       "      <td>98% 45 Feedback Basavanagudi, Bangalore</td>\n",
       "      <td>300</td>\n",
       "    </tr>\n",
       "    <tr>\n",
       "      <th>5957</th>\n",
       "      <td>MBBS</td>\n",
       "      <td>33 years experience</td>\n",
       "      <td>NaN</td>\n",
       "      <td>Nungambakkam, Chennai</td>\n",
       "      <td>General Medicine</td>\n",
       "      <td>NaN</td>\n",
       "      <td>100</td>\n",
       "    </tr>\n",
       "    <tr>\n",
       "      <th>5958</th>\n",
       "      <td>MBBS</td>\n",
       "      <td>41 years experience</td>\n",
       "      <td>97%</td>\n",
       "      <td>Greater Kailash Part 2, Delhi</td>\n",
       "      <td>General Medicine</td>\n",
       "      <td>97% 11 Feedback Greater Kailash Part 2, Delhi</td>\n",
       "      <td>600</td>\n",
       "    </tr>\n",
       "    <tr>\n",
       "      <th>5959</th>\n",
       "      <td>MBBS, MD - General Medicine</td>\n",
       "      <td>15 years experience</td>\n",
       "      <td>90%</td>\n",
       "      <td>Vileparle West, Mumbai</td>\n",
       "      <td>General Medicine</td>\n",
       "      <td>General Medical Consultation Viral Fever Treat...</td>\n",
       "      <td>100</td>\n",
       "    </tr>\n",
       "    <tr>\n",
       "      <th>5960</th>\n",
       "      <td>BDS, MDS - Orthodontics</td>\n",
       "      <td>17 years experience</td>\n",
       "      <td>100%</td>\n",
       "      <td>Pitampura, Delhi</td>\n",
       "      <td>Dentist</td>\n",
       "      <td>Acrylic Partial Denture Crowns and Bridges Fix...</td>\n",
       "      <td>200</td>\n",
       "    </tr>\n",
       "  </tbody>\n",
       "</table>\n",
       "<p>5961 rows × 7 columns</p>\n",
       "</div>"
      ],
      "text/plain": [
       "                       Qualification           Experience Rating  \\\n",
       "0              BHMS, MD - Homeopathy  24 years experience   100%   \n",
       "1       BAMS, MD - Ayurveda Medicine  12 years experience    98%   \n",
       "2     MBBS, MS - Otorhinolaryngology   9 years experience    NaN   \n",
       "3                BSc - Zoology, BAMS  12 years experience    NaN   \n",
       "4                               BAMS  20 years experience   100%   \n",
       "...                              ...                  ...    ...   \n",
       "5956                  MBBS, MS - ENT  19 years experience    98%   \n",
       "5957                            MBBS  33 years experience    NaN   \n",
       "5958                            MBBS  41 years experience    97%   \n",
       "5959     MBBS, MD - General Medicine  15 years experience    90%   \n",
       "5960         BDS, MDS - Orthodontics  17 years experience   100%   \n",
       "\n",
       "                              Place           Profile  \\\n",
       "0               Kakkanad, Ernakulam         Homeopath   \n",
       "1             Whitefield, Bangalore          Ayurveda   \n",
       "2        Mathikere - BEL, Bangalore    ENT Specialist   \n",
       "3      Bannerghatta Road, Bangalore          Ayurveda   \n",
       "4             Keelkattalai, Chennai          Ayurveda   \n",
       "...                             ...               ...   \n",
       "5956        Basavanagudi, Bangalore    ENT Specialist   \n",
       "5957          Nungambakkam, Chennai  General Medicine   \n",
       "5958  Greater Kailash Part 2, Delhi  General Medicine   \n",
       "5959         Vileparle West, Mumbai  General Medicine   \n",
       "5960               Pitampura, Delhi           Dentist   \n",
       "\n",
       "                                     Miscellaneous_Info  Fees  \n",
       "0                  100% 16 Feedback Kakkanad, Ernakulam   100  \n",
       "1                 98% 76 Feedback Whitefield, Bangalore   350  \n",
       "2                                                   NaN   300  \n",
       "3     Bannerghatta Road, Bangalore ?250 Available on...   250  \n",
       "4                 100% 4 Feedback Keelkattalai, Chennai   250  \n",
       "...                                                 ...   ...  \n",
       "5956            98% 45 Feedback Basavanagudi, Bangalore   300  \n",
       "5957                                                NaN   100  \n",
       "5958      97% 11 Feedback Greater Kailash Part 2, Delhi   600  \n",
       "5959  General Medical Consultation Viral Fever Treat...   100  \n",
       "5960  Acrylic Partial Denture Crowns and Bridges Fix...   200  \n",
       "\n",
       "[5961 rows x 7 columns]"
      ]
     },
     "execution_count": 17,
     "metadata": {},
     "output_type": "execute_result"
    }
   ],
   "source": [
    "df=pd.read_csv(\"Final_Train.csv\")\n",
    "df"
   ]
  },
  {
   "cell_type": "code",
   "execution_count": 18,
   "metadata": {},
   "outputs": [
    {
     "data": {
      "text/plain": [
       "(5961, 7)"
      ]
     },
     "execution_count": 18,
     "metadata": {},
     "output_type": "execute_result"
    }
   ],
   "source": [
    "df.shape"
   ]
  },
  {
   "cell_type": "markdown",
   "metadata": {},
   "source": [
    "# Checking null values in Dataset:"
   ]
  },
  {
   "cell_type": "code",
   "execution_count": 19,
   "metadata": {},
   "outputs": [
    {
     "data": {
      "text/plain": [
       "Qualification            0\n",
       "Experience               0\n",
       "Rating                3302\n",
       "Place                   25\n",
       "Profile                  0\n",
       "Miscellaneous_Info    2620\n",
       "Fees                     0\n",
       "dtype: int64"
      ]
     },
     "execution_count": 19,
     "metadata": {},
     "output_type": "execute_result"
    }
   ],
   "source": [
    "df.isnull().sum()"
   ]
  },
  {
   "cell_type": "code",
   "execution_count": 20,
   "metadata": {},
   "outputs": [
    {
     "data": {
      "image/png": "[encoded data removed]",
      "text/plain": [
       "<Figure size 432x288 with 2 Axes>"
      ]
     },
     "metadata": {
      "needs_background": "light"
     },
     "output_type": "display_data"
    }
   ],
   "source": [
    "import matplotlib.pyplot as plt\n",
    "import seaborn as sns\n",
    "sns.heatmap(df.isnull())\n",
    "plt.title(\"Null values\")\n",
    "plt.show()"
   ]
  },
  {
   "cell_type": "markdown",
   "metadata": {},
   "source": [
    "With the help of heatmap we can see that there are Null values present in the dataset.\n",
    "\n",
    "Through observation we go to know that there are lot of blank rows present in Rating and Miscellaneous_Info column, which are shown as null values.\n",
    "\n",
    "We would replace those blank rows with nan and then drop those."
   ]
  },
  {
   "cell_type": "code",
   "execution_count": 21,
   "metadata": {},
   "outputs": [
    {
     "data": {
      "text/html": [
       "<div>\n",
       "<style scoped>\n",
       "    .dataframe tbody tr th:only-of-type {\n",
       "        vertical-align: middle;\n",
       "    }\n",
       "\n",
       "    .dataframe tbody tr th {\n",
       "        vertical-align: top;\n",
       "    }\n",
       "\n",
       "    .dataframe thead th {\n",
       "        text-align: right;\n",
       "    }\n",
       "</style>\n",
       "<table border=\"1\" class=\"dataframe\">\n",
       "  <thead>\n",
       "    <tr style=\"text-align: right;\">\n",
       "      <th></th>\n",
       "      <th>Qualification</th>\n",
       "      <th>Experience</th>\n",
       "      <th>Rating</th>\n",
       "      <th>Place</th>\n",
       "      <th>Profile</th>\n",
       "      <th>Miscellaneous_Info</th>\n",
       "      <th>Fees</th>\n",
       "    </tr>\n",
       "  </thead>\n",
       "  <tbody>\n",
       "    <tr>\n",
       "      <th>0</th>\n",
       "      <td>BHMS, MD - Homeopathy</td>\n",
       "      <td>24 years experience</td>\n",
       "      <td>100%</td>\n",
       "      <td>Kakkanad, Ernakulam</td>\n",
       "      <td>Homeopath</td>\n",
       "      <td>100% 16 Feedback Kakkanad, Ernakulam</td>\n",
       "      <td>100</td>\n",
       "    </tr>\n",
       "    <tr>\n",
       "      <th>1</th>\n",
       "      <td>BAMS, MD - Ayurveda Medicine</td>\n",
       "      <td>12 years experience</td>\n",
       "      <td>98%</td>\n",
       "      <td>Whitefield, Bangalore</td>\n",
       "      <td>Ayurveda</td>\n",
       "      <td>98% 76 Feedback Whitefield, Bangalore</td>\n",
       "      <td>350</td>\n",
       "    </tr>\n",
       "    <tr>\n",
       "      <th>2</th>\n",
       "      <td>MBBS, MS - Otorhinolaryngology</td>\n",
       "      <td>9 years experience</td>\n",
       "      <td>NaN</td>\n",
       "      <td>Mathikere - BEL, Bangalore</td>\n",
       "      <td>ENT Specialist</td>\n",
       "      <td>NaN</td>\n",
       "      <td>300</td>\n",
       "    </tr>\n",
       "    <tr>\n",
       "      <th>3</th>\n",
       "      <td>BSc - Zoology, BAMS</td>\n",
       "      <td>12 years experience</td>\n",
       "      <td>NaN</td>\n",
       "      <td>Bannerghatta Road, Bangalore</td>\n",
       "      <td>Ayurveda</td>\n",
       "      <td>Bannerghatta Road, Bangalore ?250 Available on...</td>\n",
       "      <td>250</td>\n",
       "    </tr>\n",
       "    <tr>\n",
       "      <th>4</th>\n",
       "      <td>BAMS</td>\n",
       "      <td>20 years experience</td>\n",
       "      <td>100%</td>\n",
       "      <td>Keelkattalai, Chennai</td>\n",
       "      <td>Ayurveda</td>\n",
       "      <td>100% 4 Feedback Keelkattalai, Chennai</td>\n",
       "      <td>250</td>\n",
       "    </tr>\n",
       "    <tr>\n",
       "      <th>...</th>\n",
       "      <td>...</td>\n",
       "      <td>...</td>\n",
       "      <td>...</td>\n",
       "      <td>...</td>\n",
       "      <td>...</td>\n",
       "      <td>...</td>\n",
       "      <td>...</td>\n",
       "    </tr>\n",
       "    <tr>\n",
       "      <th>5956</th>\n",
       "      <td>MBBS, MS - ENT</td>\n",
       "      <td>19 years experience</td>\n",
       "      <td>98%</td>\n",
       "      <td>Basavanagudi, Bangalore</td>\n",
       "      <td>ENT Specialist</td>\n",
       "      <td>98% 45 Feedback Basavanagudi, Bangalore</td>\n",
       "      <td>300</td>\n",
       "    </tr>\n",
       "    <tr>\n",
       "      <th>5957</th>\n",
       "      <td>MBBS</td>\n",
       "      <td>33 years experience</td>\n",
       "      <td>NaN</td>\n",
       "      <td>Nungambakkam, Chennai</td>\n",
       "      <td>General Medicine</td>\n",
       "      <td>NaN</td>\n",
       "      <td>100</td>\n",
       "    </tr>\n",
       "    <tr>\n",
       "      <th>5958</th>\n",
       "      <td>MBBS</td>\n",
       "      <td>41 years experience</td>\n",
       "      <td>97%</td>\n",
       "      <td>Greater Kailash Part 2, Delhi</td>\n",
       "      <td>General Medicine</td>\n",
       "      <td>97% 11 Feedback Greater Kailash Part 2, Delhi</td>\n",
       "      <td>600</td>\n",
       "    </tr>\n",
       "    <tr>\n",
       "      <th>5959</th>\n",
       "      <td>MBBS, MD - General Medicine</td>\n",
       "      <td>15 years experience</td>\n",
       "      <td>90%</td>\n",
       "      <td>Vileparle West, Mumbai</td>\n",
       "      <td>General Medicine</td>\n",
       "      <td>General Medical Consultation Viral Fever Treat...</td>\n",
       "      <td>100</td>\n",
       "    </tr>\n",
       "    <tr>\n",
       "      <th>5960</th>\n",
       "      <td>BDS, MDS - Orthodontics</td>\n",
       "      <td>17 years experience</td>\n",
       "      <td>100%</td>\n",
       "      <td>Pitampura, Delhi</td>\n",
       "      <td>Dentist</td>\n",
       "      <td>Acrylic Partial Denture Crowns and Bridges Fix...</td>\n",
       "      <td>200</td>\n",
       "    </tr>\n",
       "  </tbody>\n",
       "</table>\n",
       "<p>5961 rows × 7 columns</p>\n",
       "</div>"
      ],
      "text/plain": [
       "                       Qualification           Experience Rating  \\\n",
       "0              BHMS, MD - Homeopathy  24 years experience   100%   \n",
       "1       BAMS, MD - Ayurveda Medicine  12 years experience    98%   \n",
       "2     MBBS, MS - Otorhinolaryngology   9 years experience    NaN   \n",
       "3                BSc - Zoology, BAMS  12 years experience    NaN   \n",
       "4                               BAMS  20 years experience   100%   \n",
       "...                              ...                  ...    ...   \n",
       "5956                  MBBS, MS - ENT  19 years experience    98%   \n",
       "5957                            MBBS  33 years experience    NaN   \n",
       "5958                            MBBS  41 years experience    97%   \n",
       "5959     MBBS, MD - General Medicine  15 years experience    90%   \n",
       "5960         BDS, MDS - Orthodontics  17 years experience   100%   \n",
       "\n",
       "                              Place           Profile  \\\n",
       "0               Kakkanad, Ernakulam         Homeopath   \n",
       "1             Whitefield, Bangalore          Ayurveda   \n",
       "2        Mathikere - BEL, Bangalore    ENT Specialist   \n",
       "3      Bannerghatta Road, Bangalore          Ayurveda   \n",
       "4             Keelkattalai, Chennai          Ayurveda   \n",
       "...                             ...               ...   \n",
       "5956        Basavanagudi, Bangalore    ENT Specialist   \n",
       "5957          Nungambakkam, Chennai  General Medicine   \n",
       "5958  Greater Kailash Part 2, Delhi  General Medicine   \n",
       "5959         Vileparle West, Mumbai  General Medicine   \n",
       "5960               Pitampura, Delhi           Dentist   \n",
       "\n",
       "                                     Miscellaneous_Info  Fees  \n",
       "0                  100% 16 Feedback Kakkanad, Ernakulam   100  \n",
       "1                 98% 76 Feedback Whitefield, Bangalore   350  \n",
       "2                                                   NaN   300  \n",
       "3     Bannerghatta Road, Bangalore ?250 Available on...   250  \n",
       "4                 100% 4 Feedback Keelkattalai, Chennai   250  \n",
       "...                                                 ...   ...  \n",
       "5956            98% 45 Feedback Basavanagudi, Bangalore   300  \n",
       "5957                                                NaN   100  \n",
       "5958      97% 11 Feedback Greater Kailash Part 2, Delhi   600  \n",
       "5959  General Medical Consultation Viral Fever Treat...   100  \n",
       "5960  Acrylic Partial Denture Crowns and Bridges Fix...   200  \n",
       "\n",
       "[5961 rows x 7 columns]"
      ]
     },
     "execution_count": 21,
     "metadata": {},
     "output_type": "execute_result"
    }
   ],
   "source": [
    "df.replace(\" \",np.nan)"
   ]
  },
  {
   "cell_type": "code",
   "execution_count": 25,
   "metadata": {},
   "outputs": [],
   "source": [
    "df.dropna(subset= [\"Miscellaneous_Info\"], inplace=True)"
   ]
  },
  {
   "cell_type": "code",
   "execution_count": 26,
   "metadata": {},
   "outputs": [
    {
     "data": {
      "image/png": "[encoded data removed]",
      "text/plain": [
       "<Figure size 432x288 with 2 Axes>"
      ]
     },
     "metadata": {
      "needs_background": "light"
     },
     "output_type": "display_data"
    }
   ],
   "source": [
    "import matplotlib.pyplot as plt\n",
    "import seaborn as sns\n",
    "sns.heatmap(df.isnull())\n",
    "plt.title(\"Null values\")\n",
    "plt.show()"
   ]
  },
  {
   "cell_type": "code",
   "execution_count": 27,
   "metadata": {},
   "outputs": [
    {
     "data": {
      "text/plain": [
       "Qualification           0\n",
       "Experience              0\n",
       "Rating                764\n",
       "Place                   0\n",
       "Profile                 0\n",
       "Miscellaneous_Info      0\n",
       "Fees                    0\n",
       "dtype: int64"
      ]
     },
     "execution_count": 27,
     "metadata": {},
     "output_type": "execute_result"
    }
   ],
   "source": [
    "df.isnull().sum()"
   ]
  },
  {
   "cell_type": "code",
   "execution_count": 30,
   "metadata": {},
   "outputs": [],
   "source": [
    "df.dropna(subset= [\"Rating\"], inplace=True)"
   ]
  },
  {
   "cell_type": "code",
   "execution_count": 31,
   "metadata": {},
   "outputs": [
    {
     "data": {
      "text/plain": [
       "Qualification         0\n",
       "Experience            0\n",
       "Rating                0\n",
       "Place                 0\n",
       "Profile               0\n",
       "Miscellaneous_Info    0\n",
       "Fees                  0\n",
       "dtype: int64"
      ]
     },
     "execution_count": 31,
     "metadata": {},
     "output_type": "execute_result"
    }
   ],
   "source": [
    "df.isnull().sum()"
   ]
  },
  {
   "cell_type": "markdown",
   "metadata": {},
   "source": [
    "Now there are no null values in the dataset."
   ]
  },
  {
   "cell_type": "markdown",
   "metadata": {},
   "source": [
    "# Checking the datatypes of the columns:"
   ]
  },
  {
   "cell_type": "code",
   "execution_count": 32,
   "metadata": {},
   "outputs": [
    {
     "data": {
      "text/plain": [
       "Qualification         object\n",
       "Experience            object\n",
       "Rating                object\n",
       "Place                 object\n",
       "Profile               object\n",
       "Miscellaneous_Info    object\n",
       "Fees                   int64\n",
       "dtype: object"
      ]
     },
     "execution_count": 32,
     "metadata": {},
     "output_type": "execute_result"
    }
   ],
   "source": [
    "df.dtypes"
   ]
  },
  {
   "cell_type": "markdown",
   "metadata": {},
   "source": [
    "# Encoding the Dataset:"
   ]
  },
  {
   "cell_type": "code",
   "execution_count": 34,
   "metadata": {},
   "outputs": [],
   "source": [
    "from sklearn.preprocessing import OrdinalEncoder\n",
    "enc=OrdinalEncoder()"
   ]
  },
  {
   "cell_type": "code",
   "execution_count": 35,
   "metadata": {},
   "outputs": [],
   "source": [
    "for i in df.columns:\n",
    "    if df[i].dtypes==\"object\":\n",
    "        df[i]=enc.fit_transform(df[i].values.reshape(-1,1))"
   ]
  },
  {
   "cell_type": "code",
   "execution_count": 36,
   "metadata": {},
   "outputs": [
    {
     "data": {
      "text/html": [
       "<div>\n",
       "<style scoped>\n",
       "    .dataframe tbody tr th:only-of-type {\n",
       "        vertical-align: middle;\n",
       "    }\n",
       "\n",
       "    .dataframe tbody tr th {\n",
       "        vertical-align: top;\n",
       "    }\n",
       "\n",
       "    .dataframe thead th {\n",
       "        text-align: right;\n",
       "    }\n",
       "</style>\n",
       "<table border=\"1\" class=\"dataframe\">\n",
       "  <thead>\n",
       "    <tr style=\"text-align: right;\">\n",
       "      <th></th>\n",
       "      <th>Qualification</th>\n",
       "      <th>Experience</th>\n",
       "      <th>Rating</th>\n",
       "      <th>Place</th>\n",
       "      <th>Profile</th>\n",
       "      <th>Miscellaneous_Info</th>\n",
       "      <th>Fees</th>\n",
       "    </tr>\n",
       "  </thead>\n",
       "  <tbody>\n",
       "    <tr>\n",
       "      <th>0</th>\n",
       "      <td>263.0</td>\n",
       "      <td>16.0</td>\n",
       "      <td>0.0</td>\n",
       "      <td>203.0</td>\n",
       "      <td>5.0</td>\n",
       "      <td>105.0</td>\n",
       "      <td>100</td>\n",
       "    </tr>\n",
       "    <tr>\n",
       "      <th>1</th>\n",
       "      <td>28.0</td>\n",
       "      <td>3.0</td>\n",
       "      <td>49.0</td>\n",
       "      <td>553.0</td>\n",
       "      <td>0.0</td>\n",
       "      <td>1361.0</td>\n",
       "      <td>350</td>\n",
       "    </tr>\n",
       "    <tr>\n",
       "      <th>4</th>\n",
       "      <td>2.0</td>\n",
       "      <td>12.0</td>\n",
       "      <td>0.0</td>\n",
       "      <td>226.0</td>\n",
       "      <td>0.0</td>\n",
       "      <td>228.0</td>\n",
       "      <td>250</td>\n",
       "    </tr>\n",
       "    <tr>\n",
       "      <th>7</th>\n",
       "      <td>53.0</td>\n",
       "      <td>1.0</td>\n",
       "      <td>50.0</td>\n",
       "      <td>26.0</td>\n",
       "      <td>1.0</td>\n",
       "      <td>1754.0</td>\n",
       "      <td>200</td>\n",
       "    </tr>\n",
       "    <tr>\n",
       "      <th>12</th>\n",
       "      <td>114.0</td>\n",
       "      <td>54.0</td>\n",
       "      <td>49.0</td>\n",
       "      <td>95.0</td>\n",
       "      <td>1.0</td>\n",
       "      <td>1252.0</td>\n",
       "      <td>200</td>\n",
       "    </tr>\n",
       "    <tr>\n",
       "      <th>...</th>\n",
       "      <td>...</td>\n",
       "      <td>...</td>\n",
       "      <td>...</td>\n",
       "      <td>...</td>\n",
       "      <td>...</td>\n",
       "      <td>...</td>\n",
       "      <td>...</td>\n",
       "    </tr>\n",
       "    <tr>\n",
       "      <th>5953</th>\n",
       "      <td>758.0</td>\n",
       "      <td>28.0</td>\n",
       "      <td>43.0</td>\n",
       "      <td>296.0</td>\n",
       "      <td>5.0</td>\n",
       "      <td>697.0</td>\n",
       "      <td>100</td>\n",
       "    </tr>\n",
       "    <tr>\n",
       "      <th>5956</th>\n",
       "      <td>646.0</td>\n",
       "      <td>10.0</td>\n",
       "      <td>49.0</td>\n",
       "      <td>53.0</td>\n",
       "      <td>3.0</td>\n",
       "      <td>1324.0</td>\n",
       "      <td>300</td>\n",
       "    </tr>\n",
       "    <tr>\n",
       "      <th>5958</th>\n",
       "      <td>357.0</td>\n",
       "      <td>35.0</td>\n",
       "      <td>48.0</td>\n",
       "      <td>143.0</td>\n",
       "      <td>4.0</td>\n",
       "      <td>1112.0</td>\n",
       "      <td>600</td>\n",
       "    </tr>\n",
       "    <tr>\n",
       "      <th>5959</th>\n",
       "      <td>569.0</td>\n",
       "      <td>6.0</td>\n",
       "      <td>41.0</td>\n",
       "      <td>543.0</td>\n",
       "      <td>4.0</td>\n",
       "      <td>1930.0</td>\n",
       "      <td>100</td>\n",
       "    </tr>\n",
       "    <tr>\n",
       "      <th>5960</th>\n",
       "      <td>148.0</td>\n",
       "      <td>8.0</td>\n",
       "      <td>0.0</td>\n",
       "      <td>396.0</td>\n",
       "      <td>1.0</td>\n",
       "      <td>1523.0</td>\n",
       "      <td>200</td>\n",
       "    </tr>\n",
       "  </tbody>\n",
       "</table>\n",
       "<p>2577 rows × 7 columns</p>\n",
       "</div>"
      ],
      "text/plain": [
       "      Qualification  Experience  Rating  Place  Profile  Miscellaneous_Info  \\\n",
       "0             263.0        16.0     0.0  203.0      5.0               105.0   \n",
       "1              28.0         3.0    49.0  553.0      0.0              1361.0   \n",
       "4               2.0        12.0     0.0  226.0      0.0               228.0   \n",
       "7              53.0         1.0    50.0   26.0      1.0              1754.0   \n",
       "12            114.0        54.0    49.0   95.0      1.0              1252.0   \n",
       "...             ...         ...     ...    ...      ...                 ...   \n",
       "5953          758.0        28.0    43.0  296.0      5.0               697.0   \n",
       "5956          646.0        10.0    49.0   53.0      3.0              1324.0   \n",
       "5958          357.0        35.0    48.0  143.0      4.0              1112.0   \n",
       "5959          569.0         6.0    41.0  543.0      4.0              1930.0   \n",
       "5960          148.0         8.0     0.0  396.0      1.0              1523.0   \n",
       "\n",
       "      Fees  \n",
       "0      100  \n",
       "1      350  \n",
       "4      250  \n",
       "7      200  \n",
       "12     200  \n",
       "...    ...  \n",
       "5953   100  \n",
       "5956   300  \n",
       "5958   600  \n",
       "5959   100  \n",
       "5960   200  \n",
       "\n",
       "[2577 rows x 7 columns]"
      ]
     },
     "execution_count": 36,
     "metadata": {},
     "output_type": "execute_result"
    }
   ],
   "source": [
    "df"
   ]
  },
  {
   "cell_type": "markdown",
   "metadata": {},
   "source": [
    "# Describing the dataset:"
   ]
  },
  {
   "cell_type": "code",
   "execution_count": 38,
   "metadata": {},
   "outputs": [
    {
     "data": {
      "text/html": [
       "<div>\n",
       "<style scoped>\n",
       "    .dataframe tbody tr th:only-of-type {\n",
       "        vertical-align: middle;\n",
       "    }\n",
       "\n",
       "    .dataframe tbody tr th {\n",
       "        vertical-align: top;\n",
       "    }\n",
       "\n",
       "    .dataframe thead th {\n",
       "        text-align: right;\n",
       "    }\n",
       "</style>\n",
       "<table border=\"1\" class=\"dataframe\">\n",
       "  <thead>\n",
       "    <tr style=\"text-align: right;\">\n",
       "      <th></th>\n",
       "      <th>Qualification</th>\n",
       "      <th>Experience</th>\n",
       "      <th>Rating</th>\n",
       "      <th>Place</th>\n",
       "      <th>Profile</th>\n",
       "      <th>Miscellaneous_Info</th>\n",
       "      <th>Fees</th>\n",
       "    </tr>\n",
       "  </thead>\n",
       "  <tbody>\n",
       "    <tr>\n",
       "      <th>count</th>\n",
       "      <td>2577.000000</td>\n",
       "      <td>2577.000000</td>\n",
       "      <td>2577.000000</td>\n",
       "      <td>2577.000000</td>\n",
       "      <td>2577.000000</td>\n",
       "      <td>2577.000000</td>\n",
       "      <td>2577.000000</td>\n",
       "    </tr>\n",
       "    <tr>\n",
       "      <th>mean</th>\n",
       "      <td>369.277454</td>\n",
       "      <td>19.397749</td>\n",
       "      <td>32.789290</td>\n",
       "      <td>266.121847</td>\n",
       "      <td>2.218471</td>\n",
       "      <td>1227.390376</td>\n",
       "      <td>343.440047</td>\n",
       "    </tr>\n",
       "    <tr>\n",
       "      <th>std</th>\n",
       "      <td>246.582641</td>\n",
       "      <td>18.227719</td>\n",
       "      <td>20.286961</td>\n",
       "      <td>164.862899</td>\n",
       "      <td>1.452135</td>\n",
       "      <td>682.289194</td>\n",
       "      <td>192.680230</td>\n",
       "    </tr>\n",
       "    <tr>\n",
       "      <th>min</th>\n",
       "      <td>0.000000</td>\n",
       "      <td>0.000000</td>\n",
       "      <td>0.000000</td>\n",
       "      <td>0.000000</td>\n",
       "      <td>0.000000</td>\n",
       "      <td>0.000000</td>\n",
       "      <td>50.000000</td>\n",
       "    </tr>\n",
       "    <tr>\n",
       "      <th>25%</th>\n",
       "      <td>144.000000</td>\n",
       "      <td>5.000000</td>\n",
       "      <td>0.000000</td>\n",
       "      <td>128.000000</td>\n",
       "      <td>1.000000</td>\n",
       "      <td>636.000000</td>\n",
       "      <td>200.000000</td>\n",
       "    </tr>\n",
       "    <tr>\n",
       "      <th>50%</th>\n",
       "      <td>361.000000</td>\n",
       "      <td>12.000000</td>\n",
       "      <td>44.000000</td>\n",
       "      <td>257.000000</td>\n",
       "      <td>2.000000</td>\n",
       "      <td>1276.000000</td>\n",
       "      <td>300.000000</td>\n",
       "    </tr>\n",
       "    <tr>\n",
       "      <th>75%</th>\n",
       "      <td>569.000000</td>\n",
       "      <td>30.000000</td>\n",
       "      <td>48.000000</td>\n",
       "      <td>407.000000</td>\n",
       "      <td>3.000000</td>\n",
       "      <td>1795.000000</td>\n",
       "      <td>500.000000</td>\n",
       "    </tr>\n",
       "    <tr>\n",
       "      <th>max</th>\n",
       "      <td>845.000000</td>\n",
       "      <td>54.000000</td>\n",
       "      <td>50.000000</td>\n",
       "      <td>560.000000</td>\n",
       "      <td>5.000000</td>\n",
       "      <td>2374.000000</td>\n",
       "      <td>950.000000</td>\n",
       "    </tr>\n",
       "  </tbody>\n",
       "</table>\n",
       "</div>"
      ],
      "text/plain": [
       "       Qualification   Experience       Rating        Place      Profile  \\\n",
       "count    2577.000000  2577.000000  2577.000000  2577.000000  2577.000000   \n",
       "mean      369.277454    19.397749    32.789290   266.121847     2.218471   \n",
       "std       246.582641    18.227719    20.286961   164.862899     1.452135   \n",
       "min         0.000000     0.000000     0.000000     0.000000     0.000000   \n",
       "25%       144.000000     5.000000     0.000000   128.000000     1.000000   \n",
       "50%       361.000000    12.000000    44.000000   257.000000     2.000000   \n",
       "75%       569.000000    30.000000    48.000000   407.000000     3.000000   \n",
       "max       845.000000    54.000000    50.000000   560.000000     5.000000   \n",
       "\n",
       "       Miscellaneous_Info         Fees  \n",
       "count         2577.000000  2577.000000  \n",
       "mean          1227.390376   343.440047  \n",
       "std            682.289194   192.680230  \n",
       "min              0.000000    50.000000  \n",
       "25%            636.000000   200.000000  \n",
       "50%           1276.000000   300.000000  \n",
       "75%           1795.000000   500.000000  \n",
       "max           2374.000000   950.000000  "
      ]
     },
     "execution_count": 38,
     "metadata": {},
     "output_type": "execute_result"
    }
   ],
   "source": [
    "df.describe()"
   ]
  },
  {
   "cell_type": "code",
   "execution_count": 39,
   "metadata": {},
   "outputs": [
    {
     "data": {
      "text/plain": [
       "<matplotlib.axes._subplots.AxesSubplot at 0x16ff0e63790>"
      ]
     },
     "execution_count": 39,
     "metadata": {},
     "output_type": "execute_result"
    },
    {
     "data": {
      "image/png": "[encoded data removed]",
      "text/plain": [
       "<Figure size 1584x504 with 2 Axes>"
      ]
     },
     "metadata": {
      "needs_background": "light"
     },
     "output_type": "display_data"
    }
   ],
   "source": [
    "import matplotlib.pyplot as plt\n",
    "import seaborn as sns\n",
    "plt.figure(figsize=(22,7))\n",
    "sns.heatmap(df.describe(),annot=True,linewidths=0.1,linecolor=\"black\",fmt=\"0.2f\")"
   ]
  },
  {
   "cell_type": "markdown",
   "metadata": {},
   "source": [
    "# Correlation of the columns with the Target column:"
   ]
  },
  {
   "cell_type": "code",
   "execution_count": 40,
   "metadata": {},
   "outputs": [
    {
     "data": {
      "text/html": [
       "<div>\n",
       "<style scoped>\n",
       "    .dataframe tbody tr th:only-of-type {\n",
       "        vertical-align: middle;\n",
       "    }\n",
       "\n",
       "    .dataframe tbody tr th {\n",
       "        vertical-align: top;\n",
       "    }\n",
       "\n",
       "    .dataframe thead th {\n",
       "        text-align: right;\n",
       "    }\n",
       "</style>\n",
       "<table border=\"1\" class=\"dataframe\">\n",
       "  <thead>\n",
       "    <tr style=\"text-align: right;\">\n",
       "      <th></th>\n",
       "      <th>Qualification</th>\n",
       "      <th>Experience</th>\n",
       "      <th>Rating</th>\n",
       "      <th>Place</th>\n",
       "      <th>Profile</th>\n",
       "      <th>Miscellaneous_Info</th>\n",
       "      <th>Fees</th>\n",
       "    </tr>\n",
       "  </thead>\n",
       "  <tbody>\n",
       "    <tr>\n",
       "      <th>Qualification</th>\n",
       "      <td>1.000000</td>\n",
       "      <td>0.004457</td>\n",
       "      <td>0.052745</td>\n",
       "      <td>-0.008174</td>\n",
       "      <td>0.433650</td>\n",
       "      <td>-0.208359</td>\n",
       "      <td>0.254904</td>\n",
       "    </tr>\n",
       "    <tr>\n",
       "      <th>Experience</th>\n",
       "      <td>0.004457</td>\n",
       "      <td>1.000000</td>\n",
       "      <td>-0.157775</td>\n",
       "      <td>-0.030889</td>\n",
       "      <td>0.000837</td>\n",
       "      <td>-0.031657</td>\n",
       "      <td>-0.027343</td>\n",
       "    </tr>\n",
       "    <tr>\n",
       "      <th>Rating</th>\n",
       "      <td>0.052745</td>\n",
       "      <td>-0.157775</td>\n",
       "      <td>1.000000</td>\n",
       "      <td>-0.001943</td>\n",
       "      <td>-0.032303</td>\n",
       "      <td>0.283050</td>\n",
       "      <td>0.033671</td>\n",
       "    </tr>\n",
       "    <tr>\n",
       "      <th>Place</th>\n",
       "      <td>-0.008174</td>\n",
       "      <td>-0.030889</td>\n",
       "      <td>-0.001943</td>\n",
       "      <td>1.000000</td>\n",
       "      <td>-0.006823</td>\n",
       "      <td>0.002291</td>\n",
       "      <td>-0.046392</td>\n",
       "    </tr>\n",
       "    <tr>\n",
       "      <th>Profile</th>\n",
       "      <td>0.433650</td>\n",
       "      <td>0.000837</td>\n",
       "      <td>-0.032303</td>\n",
       "      <td>-0.006823</td>\n",
       "      <td>1.000000</td>\n",
       "      <td>-0.299759</td>\n",
       "      <td>0.157561</td>\n",
       "    </tr>\n",
       "    <tr>\n",
       "      <th>Miscellaneous_Info</th>\n",
       "      <td>-0.208359</td>\n",
       "      <td>-0.031657</td>\n",
       "      <td>0.283050</td>\n",
       "      <td>0.002291</td>\n",
       "      <td>-0.299759</td>\n",
       "      <td>1.000000</td>\n",
       "      <td>-0.082892</td>\n",
       "    </tr>\n",
       "    <tr>\n",
       "      <th>Fees</th>\n",
       "      <td>0.254904</td>\n",
       "      <td>-0.027343</td>\n",
       "      <td>0.033671</td>\n",
       "      <td>-0.046392</td>\n",
       "      <td>0.157561</td>\n",
       "      <td>-0.082892</td>\n",
       "      <td>1.000000</td>\n",
       "    </tr>\n",
       "  </tbody>\n",
       "</table>\n",
       "</div>"
      ],
      "text/plain": [
       "                    Qualification  Experience    Rating     Place   Profile  \\\n",
       "Qualification            1.000000    0.004457  0.052745 -0.008174  0.433650   \n",
       "Experience               0.004457    1.000000 -0.157775 -0.030889  0.000837   \n",
       "Rating                   0.052745   -0.157775  1.000000 -0.001943 -0.032303   \n",
       "Place                   -0.008174   -0.030889 -0.001943  1.000000 -0.006823   \n",
       "Profile                  0.433650    0.000837 -0.032303 -0.006823  1.000000   \n",
       "Miscellaneous_Info      -0.208359   -0.031657  0.283050  0.002291 -0.299759   \n",
       "Fees                     0.254904   -0.027343  0.033671 -0.046392  0.157561   \n",
       "\n",
       "                    Miscellaneous_Info      Fees  \n",
       "Qualification                -0.208359  0.254904  \n",
       "Experience                   -0.031657 -0.027343  \n",
       "Rating                        0.283050  0.033671  \n",
       "Place                         0.002291 -0.046392  \n",
       "Profile                      -0.299759  0.157561  \n",
       "Miscellaneous_Info            1.000000 -0.082892  \n",
       "Fees                         -0.082892  1.000000  "
      ]
     },
     "execution_count": 40,
     "metadata": {},
     "output_type": "execute_result"
    }
   ],
   "source": [
    "df.corr()"
   ]
  },
  {
   "cell_type": "code",
   "execution_count": 41,
   "metadata": {},
   "outputs": [
    {
     "data": {
      "text/plain": [
       "<matplotlib.axes._subplots.AxesSubplot at 0x16ff1091730>"
      ]
     },
     "execution_count": 41,
     "metadata": {},
     "output_type": "execute_result"
    },
    {
     "data": {
      "image/png": "[encoded data removed]",
      "text/plain": [
       "<Figure size 1584x504 with 2 Axes>"
      ]
     },
     "metadata": {
      "needs_background": "light"
     },
     "output_type": "display_data"
    }
   ],
   "source": [
    "plt.figure(figsize=(22,7))\n",
    "sns.heatmap(df.corr(),annot=True,linewidths=0.1,linecolor=\"black\",fmt=\"0.2f\")"
   ]
  },
  {
   "cell_type": "markdown",
   "metadata": {},
   "source": [
    "Checking the columns which are positively and negatively correlated with the target column."
   ]
  },
  {
   "cell_type": "code",
   "execution_count": 42,
   "metadata": {},
   "outputs": [
    {
     "data": {
      "image/png": "[encoded data removed]",
      "text/plain": [
       "<Figure size 1584x504 with 1 Axes>"
      ]
     },
     "metadata": {
      "needs_background": "light"
     },
     "output_type": "display_data"
    }
   ],
   "source": [
    "plt.figure(figsize=(22,7))\n",
    "df.corr()['Fees'].sort_values(ascending=False).drop(['Fees']).plot(kind='bar',color='c')\n",
    "plt.xlabel('Feature',fontsize=14)\n",
    "plt.ylabel('Column with target names',fontsize=14)\n",
    "plt.title('correlation',fontsize=18)\n",
    "plt.show()"
   ]
  },
  {
   "cell_type": "markdown",
   "metadata": {},
   "source": [
    "# Checking the skewness and Outliers:"
   ]
  },
  {
   "cell_type": "code",
   "execution_count": 43,
   "metadata": {},
   "outputs": [
    {
     "data": {
      "text/plain": [
       "Qualification         0.170177\n",
       "Experience            0.911948\n",
       "Rating               -0.869777\n",
       "Place                 0.137302\n",
       "Profile               0.514588\n",
       "Miscellaneous_Info   -0.103167\n",
       "Fees                  0.555813\n",
       "dtype: float64"
      ]
     },
     "execution_count": 43,
     "metadata": {},
     "output_type": "execute_result"
    }
   ],
   "source": [
    "df.skew()"
   ]
  },
  {
   "cell_type": "markdown",
   "metadata": {},
   "source": [
    "We can see that the data has skewness. So we will be removing skewness."
   ]
  },
  {
   "cell_type": "code",
   "execution_count": 44,
   "metadata": {},
   "outputs": [],
   "source": [
    "from sklearn.preprocessing import power_transform\n",
    "df_new = power_transform(df)\n",
    "\n",
    "df_new = pd.DataFrame(df_new,columns=df.columns)"
   ]
  },
  {
   "cell_type": "code",
   "execution_count": 45,
   "metadata": {},
   "outputs": [
    {
     "data": {
      "text/plain": [
       "Qualification        -0.287343\n",
       "Experience           -0.021591\n",
       "Rating               -0.920664\n",
       "Place                -0.246650\n",
       "Profile              -0.031098\n",
       "Miscellaneous_Info   -0.323885\n",
       "Fees                 -0.074531\n",
       "dtype: float64"
      ]
     },
     "execution_count": 45,
     "metadata": {},
     "output_type": "execute_result"
    }
   ],
   "source": [
    "df_new.skew()"
   ]
  },
  {
   "cell_type": "code",
   "execution_count": 46,
   "metadata": {},
   "outputs": [],
   "source": [
    "x=df_new"
   ]
  },
  {
   "cell_type": "code",
   "execution_count": 47,
   "metadata": {},
   "outputs": [
    {
     "data": {
      "image/png": "[encoded data removed]",
      "text/plain": [
       "<Figure size 1440x360 with 1 Axes>"
      ]
     },
     "metadata": {
      "needs_background": "light"
     },
     "output_type": "display_data"
    }
   ],
   "source": [
    "x.iloc[:,0:7].boxplot(figsize=[20,5])\n",
    "plt.subplots_adjust(bottom=0.20)\n",
    "plt.show()"
   ]
  },
  {
   "cell_type": "markdown",
   "metadata": {},
   "source": [
    "There are no outliers present in the dataset."
   ]
  },
  {
   "cell_type": "markdown",
   "metadata": {},
   "source": [
    "# Separating the columns into x(independent variables) and y(Target variable):"
   ]
  },
  {
   "cell_type": "code",
   "execution_count": 48,
   "metadata": {},
   "outputs": [],
   "source": [
    "x= df.drop(\"Fees\",axis=1)\n",
    "y= df[\"Fees\"]"
   ]
  },
  {
   "cell_type": "markdown",
   "metadata": {},
   "source": [
    "# Scaling the data using Min-Max scaler:"
   ]
  },
  {
   "cell_type": "code",
   "execution_count": 49,
   "metadata": {},
   "outputs": [],
   "source": [
    "from sklearn.preprocessing import MinMaxScaler\n",
    "mms=MinMaxScaler()\n",
    "from sklearn.linear_model import LinearRegression\n",
    "lr=LinearRegression()\n",
    "from sklearn.metrics import r2_score\n",
    "from sklearn.model_selection import train_test_split\n",
    "import warnings\n",
    "warnings.filterwarnings('ignore')"
   ]
  },
  {
   "cell_type": "code",
   "execution_count": 50,
   "metadata": {},
   "outputs": [
    {
     "name": "stdout",
     "output_type": "stream",
     "text": [
      "At random state 0,the training accuracy is:- 0.07110670247418549\n",
      "At random state 0,the training accuracy is:- 0.07119240746494382\n",
      "\n",
      "\n",
      "At random state 1,the training accuracy is:- 0.06746915903176232\n",
      "At random state 1,the training accuracy is:- 0.08137559958281959\n",
      "\n",
      "\n",
      "At random state 2,the training accuracy is:- 0.0646369174285285\n",
      "At random state 2,the training accuracy is:- 0.09780791791318966\n",
      "\n",
      "\n",
      "At random state 3,the training accuracy is:- 0.0740951149630289\n",
      "At random state 3,the training accuracy is:- 0.0601168497536364\n",
      "\n",
      "\n",
      "At random state 4,the training accuracy is:- 0.06890443963560733\n",
      "At random state 4,the training accuracy is:- 0.07882421839025355\n",
      "\n",
      "\n",
      "At random state 5,the training accuracy is:- 0.07400143936417114\n",
      "At random state 5,the training accuracy is:- 0.05856237640794337\n",
      "\n",
      "\n",
      "At random state 6,the training accuracy is:- 0.07708518482736837\n",
      "At random state 6,the training accuracy is:- 0.04841137129164397\n",
      "\n",
      "\n",
      "At random state 7,the training accuracy is:- 0.07522065524386212\n",
      "At random state 7,the training accuracy is:- 0.05396584334871746\n",
      "\n",
      "\n",
      "At random state 8,the training accuracy is:- 0.07411669502506169\n",
      "At random state 8,the training accuracy is:- 0.05963952793680005\n",
      "\n",
      "\n",
      "At random state 9,the training accuracy is:- 0.07083070231140631\n",
      "At random state 9,the training accuracy is:- 0.0670321430520705\n",
      "\n",
      "\n",
      "At random state 10,the training accuracy is:- 0.06884598033804501\n",
      "At random state 10,the training accuracy is:- 0.07965039797060669\n",
      "\n",
      "\n",
      "At random state 11,the training accuracy is:- 0.07229346751319288\n",
      "At random state 11,the training accuracy is:- 0.0553407729646318\n",
      "\n",
      "\n",
      "At random state 12,the training accuracy is:- 0.08015770333237271\n",
      "At random state 12,the training accuracy is:- 0.03220318212113993\n",
      "\n",
      "\n",
      "At random state 13,the training accuracy is:- 0.0768755633114141\n",
      "At random state 13,the training accuracy is:- 0.048780977875730436\n",
      "\n",
      "\n",
      "At random state 14,the training accuracy is:- 0.073223567190287\n",
      "At random state 14,the training accuracy is:- 0.06134013609686462\n",
      "\n",
      "\n",
      "At random state 15,the training accuracy is:- 0.0778969806432045\n",
      "At random state 15,the training accuracy is:- 0.04176685202448016\n",
      "\n",
      "\n",
      "At random state 16,the training accuracy is:- 0.07005167227098241\n",
      "At random state 16,the training accuracy is:- 0.07596550796795176\n",
      "\n",
      "\n",
      "At random state 17,the training accuracy is:- 0.07370616395128626\n",
      "At random state 17,the training accuracy is:- 0.06138986190203366\n",
      "\n",
      "\n",
      "At random state 18,the training accuracy is:- 0.06779254859541328\n",
      "At random state 18,the training accuracy is:- 0.08091983618613197\n",
      "\n",
      "\n",
      "At random state 19,the training accuracy is:- 0.0725466295280105\n",
      "At random state 19,the training accuracy is:- 0.06458993730725571\n",
      "\n",
      "\n",
      "At random state 20,the training accuracy is:- 0.06792651277117934\n",
      "At random state 20,the training accuracy is:- 0.0846339526395874\n",
      "\n",
      "\n",
      "At random state 21,the training accuracy is:- 0.06656678578268538\n",
      "At random state 21,the training accuracy is:- 0.08541834904733969\n",
      "\n",
      "\n",
      "At random state 22,the training accuracy is:- 0.07543185167137301\n",
      "At random state 22,the training accuracy is:- 0.04856398935551143\n",
      "\n",
      "\n",
      "At random state 23,the training accuracy is:- 0.07916481237232609\n",
      "At random state 23,the training accuracy is:- 0.035173029496596286\n",
      "\n",
      "\n",
      "At random state 24,the training accuracy is:- 0.07233898305469244\n",
      "At random state 24,the training accuracy is:- 0.056476677308115675\n",
      "\n",
      "\n",
      "At random state 25,the training accuracy is:- 0.07379814188564016\n",
      "At random state 25,the training accuracy is:- 0.0521969478142732\n",
      "\n",
      "\n",
      "At random state 26,the training accuracy is:- 0.06139406854469287\n",
      "At random state 26,the training accuracy is:- 0.10914575773464907\n",
      "\n",
      "\n",
      "At random state 27,the training accuracy is:- 0.07203869930764528\n",
      "At random state 27,the training accuracy is:- 0.06539651348038844\n",
      "\n",
      "\n",
      "At random state 28,the training accuracy is:- 0.075226629831875\n",
      "At random state 28,the training accuracy is:- 0.04894571689056981\n",
      "\n",
      "\n",
      "At random state 29,the training accuracy is:- 0.0686381051687669\n",
      "At random state 29,the training accuracy is:- 0.07871014698788537\n",
      "\n",
      "\n",
      "At random state 30,the training accuracy is:- 0.0696419064171665\n",
      "At random state 30,the training accuracy is:- 0.07569740712133333\n",
      "\n",
      "\n",
      "At random state 31,the training accuracy is:- 0.07529202573109095\n",
      "At random state 31,the training accuracy is:- 0.05429757616326791\n",
      "\n",
      "\n",
      "At random state 32,the training accuracy is:- 0.07143036178302631\n",
      "At random state 32,the training accuracy is:- 0.06856059546067494\n",
      "\n",
      "\n",
      "At random state 33,the training accuracy is:- 0.06852491734232868\n",
      "At random state 33,the training accuracy is:- 0.08058711216660175\n",
      "\n",
      "\n",
      "At random state 34,the training accuracy is:- 0.06841885541596793\n",
      "At random state 34,the training accuracy is:- 0.07920572121195057\n",
      "\n",
      "\n",
      "At random state 35,the training accuracy is:- 0.06974410263563191\n",
      "At random state 35,the training accuracy is:- 0.0687038157679023\n",
      "\n",
      "\n",
      "At random state 36,the training accuracy is:- 0.08089813627942688\n",
      "At random state 36,the training accuracy is:- 0.028710594681012558\n",
      "\n",
      "\n",
      "At random state 37,the training accuracy is:- 0.0711274033019873\n",
      "At random state 37,the training accuracy is:- 0.060315247063705835\n",
      "\n",
      "\n",
      "At random state 38,the training accuracy is:- 0.06823222976289556\n",
      "At random state 38,the training accuracy is:- 0.0814898376487797\n",
      "\n",
      "\n",
      "At random state 39,the training accuracy is:- 0.07219894876985378\n",
      "At random state 39,the training accuracy is:- 0.06721765185633222\n",
      "\n",
      "\n",
      "At random state 40,the training accuracy is:- 0.06842403868347657\n",
      "At random state 40,the training accuracy is:- 0.07712466538645257\n",
      "\n",
      "\n",
      "At random state 41,the training accuracy is:- 0.07326216865913848\n",
      "At random state 41,the training accuracy is:- 0.057538944109687074\n",
      "\n",
      "\n",
      "At random state 42,the training accuracy is:- 0.07246144580691039\n",
      "At random state 42,the training accuracy is:- 0.06578612783254778\n",
      "\n",
      "\n",
      "At random state 43,the training accuracy is:- 0.07719961161085132\n",
      "At random state 43,the training accuracy is:- 0.04568996097656819\n",
      "\n",
      "\n",
      "At random state 44,the training accuracy is:- 0.06902970605862024\n",
      "At random state 44,the training accuracy is:- 0.06715009502903002\n",
      "\n",
      "\n",
      "At random state 45,the training accuracy is:- 0.0746995307014574\n",
      "At random state 45,the training accuracy is:- 0.05430858919302162\n",
      "\n",
      "\n",
      "At random state 46,the training accuracy is:- 0.07568927150142368\n",
      "At random state 46,the training accuracy is:- 0.0520970309265244\n",
      "\n",
      "\n",
      "At random state 47,the training accuracy is:- 0.07076747704702757\n",
      "At random state 47,the training accuracy is:- 0.07108950166237549\n",
      "\n",
      "\n",
      "At random state 48,the training accuracy is:- 0.07598652629047276\n",
      "At random state 48,the training accuracy is:- 0.036994912438618965\n",
      "\n",
      "\n",
      "At random state 49,the training accuracy is:- 0.07567597889521849\n",
      "At random state 49,the training accuracy is:- 0.05326534004140948\n",
      "\n",
      "\n",
      "At random state 50,the training accuracy is:- 0.07118469966721153\n",
      "At random state 50,the training accuracy is:- 0.0706869014485092\n",
      "\n",
      "\n",
      "At random state 51,the training accuracy is:- 0.07514641331225203\n",
      "At random state 51,the training accuracy is:- 0.05195831845544696\n",
      "\n",
      "\n",
      "At random state 52,the training accuracy is:- 0.07309885976451946\n",
      "At random state 52,the training accuracy is:- 0.06219388086571964\n",
      "\n",
      "\n",
      "At random state 53,the training accuracy is:- 0.07526340320995406\n",
      "At random state 53,the training accuracy is:- 0.05619654065167645\n",
      "\n",
      "\n",
      "At random state 54,the training accuracy is:- 0.07525257903997029\n",
      "At random state 54,the training accuracy is:- 0.05369699921056459\n",
      "\n",
      "\n",
      "At random state 55,the training accuracy is:- 0.07007924340951976\n",
      "At random state 55,the training accuracy is:- 0.06868770322167572\n",
      "\n",
      "\n",
      "At random state 56,the training accuracy is:- 0.07711411410384206\n",
      "At random state 56,the training accuracy is:- 0.04741986177036617\n",
      "\n",
      "\n",
      "At random state 57,the training accuracy is:- 0.07805031339076929\n",
      "At random state 57,the training accuracy is:- 0.03735313672522078\n",
      "\n",
      "\n",
      "At random state 58,the training accuracy is:- 0.06872545582993994\n",
      "At random state 58,the training accuracy is:- 0.07413782753118048\n",
      "\n",
      "\n",
      "At random state 59,the training accuracy is:- 0.0670438030598729\n",
      "At random state 59,the training accuracy is:- 0.08628395929534849\n",
      "\n",
      "\n",
      "At random state 60,the training accuracy is:- 0.07468896470306041\n",
      "At random state 60,the training accuracy is:- 0.0573396330114625\n",
      "\n",
      "\n",
      "At random state 61,the training accuracy is:- 0.07139204276875533\n",
      "At random state 61,the training accuracy is:- 0.06108865928468643\n",
      "\n",
      "\n",
      "At random state 62,the training accuracy is:- 0.07034135504962125\n",
      "At random state 62,the training accuracy is:- 0.06031335317953246\n",
      "\n",
      "\n",
      "At random state 63,the training accuracy is:- 0.07228195936785486\n",
      "At random state 63,the training accuracy is:- 0.06408637098505654\n",
      "\n",
      "\n",
      "At random state 64,the training accuracy is:- 0.07935382255605195\n",
      "At random state 64,the training accuracy is:- 0.03893634236331678\n",
      "\n",
      "\n"
     ]
    },
    {
     "name": "stdout",
     "output_type": "stream",
     "text": [
      "At random state 65,the training accuracy is:- 0.07154976319496797\n",
      "At random state 65,the training accuracy is:- 0.06956183016712936\n",
      "\n",
      "\n",
      "At random state 66,the training accuracy is:- 0.07066416616308435\n",
      "At random state 66,the training accuracy is:- 0.0722508667269064\n",
      "\n",
      "\n",
      "At random state 67,the training accuracy is:- 0.07041135651345376\n",
      "At random state 67,the training accuracy is:- 0.06764174268499545\n",
      "\n",
      "\n",
      "At random state 68,the training accuracy is:- 0.06703153787077143\n",
      "At random state 68,the training accuracy is:- 0.0811041183180422\n",
      "\n",
      "\n",
      "At random state 69,the training accuracy is:- 0.06884757427799448\n",
      "At random state 69,the training accuracy is:- 0.08033318559792646\n",
      "\n",
      "\n",
      "At random state 70,the training accuracy is:- 0.07085565497262492\n",
      "At random state 70,the training accuracy is:- 0.07252652790077696\n",
      "\n",
      "\n",
      "At random state 71,the training accuracy is:- 0.07802904329434479\n",
      "At random state 71,the training accuracy is:- 0.03911451742293204\n",
      "\n",
      "\n",
      "At random state 72,the training accuracy is:- 0.0684034800687342\n",
      "At random state 72,the training accuracy is:- 0.07588170409142214\n",
      "\n",
      "\n",
      "At random state 73,the training accuracy is:- 0.06616878012175231\n",
      "At random state 73,the training accuracy is:- 0.08891325611916678\n",
      "\n",
      "\n",
      "At random state 74,the training accuracy is:- 0.07565926455326899\n",
      "At random state 74,the training accuracy is:- 0.050871575337650965\n",
      "\n",
      "\n",
      "At random state 75,the training accuracy is:- 0.07132966762765913\n",
      "At random state 75,the training accuracy is:- 0.07013022917709366\n",
      "\n",
      "\n",
      "At random state 76,the training accuracy is:- 0.06819260062270216\n",
      "At random state 76,the training accuracy is:- 0.07498752274916232\n",
      "\n",
      "\n",
      "At random state 77,the training accuracy is:- 0.07443401191552712\n",
      "At random state 77,the training accuracy is:- 0.055310648111518756\n",
      "\n",
      "\n",
      "At random state 78,the training accuracy is:- 0.07212272703857125\n",
      "At random state 78,the training accuracy is:- 0.06688147378378784\n",
      "\n",
      "\n",
      "At random state 79,the training accuracy is:- 0.0779147997954509\n",
      "At random state 79,the training accuracy is:- 0.04384570610962302\n",
      "\n",
      "\n",
      "At random state 80,the training accuracy is:- 0.07598833441468678\n",
      "At random state 80,the training accuracy is:- 0.04399606802806111\n",
      "\n",
      "\n",
      "At random state 81,the training accuracy is:- 0.07214366483888712\n",
      "At random state 81,the training accuracy is:- 0.06576844529340153\n",
      "\n",
      "\n",
      "At random state 82,the training accuracy is:- 0.06923195960013306\n",
      "At random state 82,the training accuracy is:- 0.07483006788313817\n",
      "\n",
      "\n",
      "At random state 83,the training accuracy is:- 0.07845702798386756\n",
      "At random state 83,the training accuracy is:- 0.03862904186496319\n",
      "\n",
      "\n",
      "At random state 84,the training accuracy is:- 0.07334668952428247\n",
      "At random state 84,the training accuracy is:- 0.05583041670796307\n",
      "\n",
      "\n",
      "At random state 85,the training accuracy is:- 0.06640159206680252\n",
      "At random state 85,the training accuracy is:- 0.0822959831412986\n",
      "\n",
      "\n",
      "At random state 86,the training accuracy is:- 0.07019185203461609\n",
      "At random state 86,the training accuracy is:- 0.07527620908920574\n",
      "\n",
      "\n",
      "At random state 87,the training accuracy is:- 0.07014276554250964\n",
      "At random state 87,the training accuracy is:- 0.07314810031932784\n",
      "\n",
      "\n",
      "At random state 88,the training accuracy is:- 0.0713780355604895\n",
      "At random state 88,the training accuracy is:- 0.06487849690964609\n",
      "\n",
      "\n",
      "At random state 89,the training accuracy is:- 0.07959968215345736\n",
      "At random state 89,the training accuracy is:- 0.03095893954280382\n",
      "\n",
      "\n",
      "At random state 90,the training accuracy is:- 0.0795449832737094\n",
      "At random state 90,the training accuracy is:- 0.03231770090341135\n",
      "\n",
      "\n",
      "At random state 91,the training accuracy is:- 0.08042476732139026\n",
      "At random state 91,the training accuracy is:- 0.033215622941860645\n",
      "\n",
      "\n",
      "At random state 92,the training accuracy is:- 0.07066552588213726\n",
      "At random state 92,the training accuracy is:- 0.0712088122692599\n",
      "\n",
      "\n",
      "At random state 93,the training accuracy is:- 0.07357961657125789\n",
      "At random state 93,the training accuracy is:- 0.06083643654697746\n",
      "\n",
      "\n",
      "At random state 94,the training accuracy is:- 0.06543009950226242\n",
      "At random state 94,the training accuracy is:- 0.09086011959392626\n",
      "\n",
      "\n",
      "At random state 95,the training accuracy is:- 0.06964387070334188\n",
      "At random state 95,the training accuracy is:- 0.0746991107552748\n",
      "\n",
      "\n",
      "At random state 96,the training accuracy is:- 0.07037140159513355\n",
      "At random state 96,the training accuracy is:- 0.06707349057463619\n",
      "\n",
      "\n",
      "At random state 97,the training accuracy is:- 0.0724474772225514\n",
      "At random state 97,the training accuracy is:- 0.06457319795766925\n",
      "\n",
      "\n",
      "At random state 98,the training accuracy is:- 0.08183083480691977\n",
      "At random state 98,the training accuracy is:- 0.027152619611090834\n",
      "\n",
      "\n",
      "At random state 99,the training accuracy is:- 0.076506733464762\n",
      "At random state 99,the training accuracy is:- 0.038045646984774306\n",
      "\n",
      "\n"
     ]
    }
   ],
   "source": [
    "for i in range(0,100):\n",
    "    x_train,x_test,y_train,y_test=train_test_split(x,y,test_size=0.2,random_state=i)\n",
    "    lr.fit(x_train,y_train)\n",
    "    pred_train=lr.predict(x_train)\n",
    "    pred_test=lr.predict(x_test)\n",
    "    print(f\"At random state {i},the training accuracy is:- {r2_score(y_train,pred_train)}\")\n",
    "    print(f\"At random state {i},the training accuracy is:- {r2_score(y_test,pred_test)}\")\n",
    "    print(\"\\n\")"
   ]
  },
  {
   "cell_type": "code",
   "execution_count": 51,
   "metadata": {},
   "outputs": [],
   "source": [
    "x_train,x_test,y_train,y_test=train_test_split(x,y,test_size=0.2,random_state=16)"
   ]
  },
  {
   "cell_type": "code",
   "execution_count": 52,
   "metadata": {},
   "outputs": [
    {
     "data": {
      "text/plain": [
       "LinearRegression()"
      ]
     },
     "execution_count": 52,
     "metadata": {},
     "output_type": "execute_result"
    }
   ],
   "source": [
    "lr.fit(x_train,y_train)"
   ]
  },
  {
   "cell_type": "code",
   "execution_count": 53,
   "metadata": {},
   "outputs": [],
   "source": [
    "pred_test=lr.predict(x_test)"
   ]
  },
  {
   "cell_type": "code",
   "execution_count": 54,
   "metadata": {},
   "outputs": [
    {
     "name": "stdout",
     "output_type": "stream",
     "text": [
      "0.07596550796795176\n"
     ]
    }
   ],
   "source": [
    "print(r2_score(y_test,pred_test))"
   ]
  },
  {
   "cell_type": "markdown",
   "metadata": {},
   "source": [
    "# Cross validation of the model:"
   ]
  },
  {
   "cell_type": "code",
   "execution_count": 55,
   "metadata": {},
   "outputs": [
    {
     "name": "stdout",
     "output_type": "stream",
     "text": [
      "At cross fold 2 the cv score is 0.06534667871599958 and accuracy score for training is -0.09352033593436726 and accuracy for the testing is 0.07596550796795176\n",
      "\n",
      "\n",
      "At cross fold 3 the cv score is 0.06619114877299766 and accuracy score for training is -0.09352033593436726 and accuracy for the testing is 0.07596550796795176\n",
      "\n",
      "\n",
      "At cross fold 4 the cv score is 0.06694715076823846 and accuracy score for training is -0.09352033593436726 and accuracy for the testing is 0.07596550796795176\n",
      "\n",
      "\n",
      "At cross fold 5 the cv score is 0.06520599127782871 and accuracy score for training is -0.09352033593436726 and accuracy for the testing is 0.07596550796795176\n",
      "\n",
      "\n",
      "At cross fold 6 the cv score is 0.06354361826272283 and accuracy score for training is -0.09352033593436726 and accuracy for the testing is 0.07596550796795176\n",
      "\n",
      "\n",
      "At cross fold 7 the cv score is 0.06279966374117886 and accuracy score for training is -0.09352033593436726 and accuracy for the testing is 0.07596550796795176\n",
      "\n",
      "\n",
      "At cross fold 8 the cv score is 0.06544490720917975 and accuracy score for training is -0.09352033593436726 and accuracy for the testing is 0.07596550796795176\n",
      "\n",
      "\n",
      "At cross fold 9 the cv score is 0.05939967418557526 and accuracy score for training is -0.09352033593436726 and accuracy for the testing is 0.07596550796795176\n",
      "\n",
      "\n"
     ]
    }
   ],
   "source": [
    "Train_accuracy=r2_score(y_train,pred_train)\n",
    "Test_accuracy=r2_score(y_test,pred_test)\n",
    "\n",
    "from sklearn.model_selection import cross_val_score\n",
    "for j in range(2,10):\n",
    "    cv_score=cross_val_score(lr,x,y,cv=j)\n",
    "    cv_mean=cv_score.mean()\n",
    "    print(f\"At cross fold {j} the cv score is {cv_mean} and accuracy score for training is {Train_accuracy} and accuracy for the testing is {Test_accuracy}\")\n",
    "    print(\"\\n\")"
   ]
  },
  {
   "cell_type": "markdown",
   "metadata": {},
   "source": [
    "We will be selecting cv=5."
   ]
  },
  {
   "cell_type": "markdown",
   "metadata": {},
   "source": [
    "# Regularization:"
   ]
  },
  {
   "cell_type": "code",
   "execution_count": 57,
   "metadata": {},
   "outputs": [],
   "source": [
    "from sklearn.model_selection import GridSearchCV\n",
    "from sklearn.model_selection import cross_val_score\n",
    "import warnings\n",
    "warnings.filterwarnings('ignore')"
   ]
  },
  {
   "cell_type": "code",
   "execution_count": 58,
   "metadata": {},
   "outputs": [
    {
     "name": "stdout",
     "output_type": "stream",
     "text": [
      "{'alpha': 1, 'random_state': 0}\n"
     ]
    }
   ],
   "source": [
    "from sklearn.linear_model import Lasso\n",
    "\n",
    "parameters = {'alpha':[.0001, .001, .01, .1, 1, 10],'random_state':list(range(0,10))}\n",
    "ls = Lasso()\n",
    "clf = GridSearchCV(ls,parameters)\n",
    "clf.fit(x_train,y_train)\n",
    "\n",
    "print(clf.best_params_)"
   ]
  },
  {
   "cell_type": "code",
   "execution_count": 109,
   "metadata": {},
   "outputs": [
    {
     "data": {
      "text/plain": [
       "0.07591682163633684"
      ]
     },
     "execution_count": 109,
     "metadata": {},
     "output_type": "execute_result"
    }
   ],
   "source": [
    "ls = Lasso(alpha=1,random_state=0)\n",
    "ls.fit(x_train,y_train)\n",
    "ls.score(x_train,y_train)\n",
    "pred_ls = ls.predict(x_test)\n",
    "\n",
    "lss = r2_score(y_test,pred_ls)\n",
    "lss"
   ]
  },
  {
   "cell_type": "code",
   "execution_count": 110,
   "metadata": {},
   "outputs": [
    {
     "data": {
      "text/plain": [
       "0.06521769332251844"
      ]
     },
     "execution_count": 110,
     "metadata": {},
     "output_type": "execute_result"
    }
   ],
   "source": [
    "cv_score=cross_val_score(ls,x,y,cv=5)\n",
    "cv_mean=cv_score.mean()\n",
    "cv_mean"
   ]
  },
  {
   "cell_type": "markdown",
   "metadata": {},
   "source": [
    "# Ensemble Technique:"
   ]
  },
  {
   "cell_type": "code",
   "execution_count": 111,
   "metadata": {},
   "outputs": [
    {
     "name": "stdout",
     "output_type": "stream",
     "text": [
      "{'criterion': 'mse', 'max_features': 'auto'}\n"
     ]
    }
   ],
   "source": [
    "from sklearn.model_selection import GridSearchCV\n",
    "from sklearn.ensemble import RandomForestRegressor\n",
    "\n",
    "parameters = {'criterion':['mse','mae'],'max_features':[\"auto\", \"sqrt\", \"log2\"]}\n",
    "rf = RandomForestRegressor()\n",
    "clf = GridSearchCV(rf,parameters)\n",
    "clf.fit(x_train,y_train)\n",
    "\n",
    "print(clf.best_params_)"
   ]
  },
  {
   "cell_type": "code",
   "execution_count": 63,
   "metadata": {},
   "outputs": [
    {
     "name": "stdout",
     "output_type": "stream",
     "text": [
      "R2 Score: 10.461339930913205\n",
      "Cross Val Score: 11.048322001740745\n"
     ]
    }
   ],
   "source": [
    "rf= RandomForestRegressor(criterion=\"mse\",max_features=\"auto\")\n",
    "rf.fit(x_train, y_train)\n",
    "rf.score(x_train,y_train)\n",
    "pred_decision = rf.predict(x_test)\n",
    "\n",
    "rfs = r2_score(y_test,pred_decision)\n",
    "print('R2 Score:',rfs*100)\n",
    "\n",
    "rfscore = cross_val_score(rf,x,y,cv=5)\n",
    "rfc = rfscore.mean()\n",
    "print('Cross Val Score:',rfc*100)"
   ]
  },
  {
   "cell_type": "code",
   "execution_count": 64,
   "metadata": {},
   "outputs": [],
   "source": [
    "import pickle \n",
    "filename = 'ConsultationFees.pkl'\n",
    "pickle.dump(rf, open(filename, 'wb'))"
   ]
  },
  {
   "cell_type": "markdown",
   "metadata": {},
   "source": [
    "# Using the Test dataset:"
   ]
  },
  {
   "cell_type": "markdown",
   "metadata": {},
   "source": [
    "# Importing the Test dataset:"
   ]
  },
  {
   "cell_type": "code",
   "execution_count": 83,
   "metadata": {},
   "outputs": [],
   "source": [
    "test_df=pd.read_csv(\"Final_Test.csv\")"
   ]
  },
  {
   "cell_type": "code",
   "execution_count": 84,
   "metadata": {},
   "outputs": [
    {
     "data": {
      "text/html": [
       "<div>\n",
       "<style scoped>\n",
       "    .dataframe tbody tr th:only-of-type {\n",
       "        vertical-align: middle;\n",
       "    }\n",
       "\n",
       "    .dataframe tbody tr th {\n",
       "        vertical-align: top;\n",
       "    }\n",
       "\n",
       "    .dataframe thead th {\n",
       "        text-align: right;\n",
       "    }\n",
       "</style>\n",
       "<table border=\"1\" class=\"dataframe\">\n",
       "  <thead>\n",
       "    <tr style=\"text-align: right;\">\n",
       "      <th></th>\n",
       "      <th>Qualification</th>\n",
       "      <th>Experience</th>\n",
       "      <th>Rating</th>\n",
       "      <th>Place</th>\n",
       "      <th>Profile</th>\n",
       "      <th>Miscellaneous_Info</th>\n",
       "    </tr>\n",
       "  </thead>\n",
       "  <tbody>\n",
       "    <tr>\n",
       "      <th>0</th>\n",
       "      <td>MBBS</td>\n",
       "      <td>35 years experience</td>\n",
       "      <td>NaN</td>\n",
       "      <td>Ghatkopar East, Mumbai</td>\n",
       "      <td>General Medicine</td>\n",
       "      <td>NaN</td>\n",
       "    </tr>\n",
       "    <tr>\n",
       "      <th>1</th>\n",
       "      <td>MBBS, Diploma in Otorhinolaryngology (DLO)</td>\n",
       "      <td>31 years experience</td>\n",
       "      <td>NaN</td>\n",
       "      <td>West Marredpally, Hyderabad</td>\n",
       "      <td>ENT Specialist</td>\n",
       "      <td>NaN</td>\n",
       "    </tr>\n",
       "    <tr>\n",
       "      <th>2</th>\n",
       "      <td>MBBS, DDVL</td>\n",
       "      <td>40 years experience</td>\n",
       "      <td>70%</td>\n",
       "      <td>KK Nagar, Chennai</td>\n",
       "      <td>Dermatologists</td>\n",
       "      <td>70% 4 Feedback KK Nagar, Chennai</td>\n",
       "    </tr>\n",
       "    <tr>\n",
       "      <th>3</th>\n",
       "      <td>BAMS</td>\n",
       "      <td>0 years experience</td>\n",
       "      <td>NaN</td>\n",
       "      <td>New Ashok Nagar, Delhi</td>\n",
       "      <td>Ayurveda</td>\n",
       "      <td>NaN</td>\n",
       "    </tr>\n",
       "    <tr>\n",
       "      <th>4</th>\n",
       "      <td>BDS, MDS - Conservative Dentistry &amp; Endodontics</td>\n",
       "      <td>16 years experience</td>\n",
       "      <td>100%</td>\n",
       "      <td>Kanakpura Road, Bangalore</td>\n",
       "      <td>Dentist</td>\n",
       "      <td>General Dentistry Conservative Dentistry Cosme...</td>\n",
       "    </tr>\n",
       "    <tr>\n",
       "      <th>...</th>\n",
       "      <td>...</td>\n",
       "      <td>...</td>\n",
       "      <td>...</td>\n",
       "      <td>...</td>\n",
       "      <td>...</td>\n",
       "      <td>...</td>\n",
       "    </tr>\n",
       "    <tr>\n",
       "      <th>1982</th>\n",
       "      <td>BAMS, Doctor of Medicine</td>\n",
       "      <td>10 years experience</td>\n",
       "      <td>NaN</td>\n",
       "      <td>Basavanagudi, Bangalore</td>\n",
       "      <td>Ayurveda</td>\n",
       "      <td>NaN</td>\n",
       "    </tr>\n",
       "    <tr>\n",
       "      <th>1983</th>\n",
       "      <td>MD - Dermatology , Venereology &amp; Leprosy, MBBS</td>\n",
       "      <td>4 years experience</td>\n",
       "      <td>NaN</td>\n",
       "      <td>Choolai, Chennai</td>\n",
       "      <td>Dermatologists</td>\n",
       "      <td>NaN</td>\n",
       "    </tr>\n",
       "    <tr>\n",
       "      <th>1984</th>\n",
       "      <td>MBBS, MD / MS - Obstetrics &amp; Gynaecology</td>\n",
       "      <td>9 years experience</td>\n",
       "      <td>NaN</td>\n",
       "      <td>Porur, Chennai</td>\n",
       "      <td>General Medicine</td>\n",
       "      <td>NaN</td>\n",
       "    </tr>\n",
       "    <tr>\n",
       "      <th>1985</th>\n",
       "      <td>BDS</td>\n",
       "      <td>12 years experience</td>\n",
       "      <td>98%</td>\n",
       "      <td>Arekere, Bangalore</td>\n",
       "      <td>Dentist</td>\n",
       "      <td>RCT - Root Canal Treatment Root Canal Treatmen...</td>\n",
       "    </tr>\n",
       "    <tr>\n",
       "      <th>1986</th>\n",
       "      <td>MBBS, MD - Dermatology , Venereology &amp; Leprosy</td>\n",
       "      <td>8 years experience</td>\n",
       "      <td>NaN</td>\n",
       "      <td>Pallikaranai, Chennai</td>\n",
       "      <td>Dermatologists</td>\n",
       "      <td>1 Feedback Pallikaranai, Chennai ?500</td>\n",
       "    </tr>\n",
       "  </tbody>\n",
       "</table>\n",
       "<p>1987 rows × 6 columns</p>\n",
       "</div>"
      ],
      "text/plain": [
       "                                        Qualification           Experience  \\\n",
       "0                                                MBBS  35 years experience   \n",
       "1          MBBS, Diploma in Otorhinolaryngology (DLO)  31 years experience   \n",
       "2                                          MBBS, DDVL  40 years experience   \n",
       "3                                                BAMS   0 years experience   \n",
       "4     BDS, MDS - Conservative Dentistry & Endodontics  16 years experience   \n",
       "...                                               ...                  ...   \n",
       "1982                         BAMS, Doctor of Medicine  10 years experience   \n",
       "1983   MD - Dermatology , Venereology & Leprosy, MBBS   4 years experience   \n",
       "1984         MBBS, MD / MS - Obstetrics & Gynaecology   9 years experience   \n",
       "1985                                              BDS  12 years experience   \n",
       "1986   MBBS, MD - Dermatology , Venereology & Leprosy   8 years experience   \n",
       "\n",
       "     Rating                        Place           Profile  \\\n",
       "0       NaN       Ghatkopar East, Mumbai  General Medicine   \n",
       "1       NaN  West Marredpally, Hyderabad    ENT Specialist   \n",
       "2       70%            KK Nagar, Chennai    Dermatologists   \n",
       "3       NaN       New Ashok Nagar, Delhi          Ayurveda   \n",
       "4      100%    Kanakpura Road, Bangalore           Dentist   \n",
       "...     ...                          ...               ...   \n",
       "1982    NaN      Basavanagudi, Bangalore          Ayurveda   \n",
       "1983    NaN             Choolai, Chennai    Dermatologists   \n",
       "1984    NaN               Porur, Chennai  General Medicine   \n",
       "1985    98%           Arekere, Bangalore           Dentist   \n",
       "1986    NaN        Pallikaranai, Chennai    Dermatologists   \n",
       "\n",
       "                                     Miscellaneous_Info  \n",
       "0                                                   NaN  \n",
       "1                                                   NaN  \n",
       "2                      70% 4 Feedback KK Nagar, Chennai  \n",
       "3                                                   NaN  \n",
       "4     General Dentistry Conservative Dentistry Cosme...  \n",
       "...                                                 ...  \n",
       "1982                                                NaN  \n",
       "1983                                                NaN  \n",
       "1984                                                NaN  \n",
       "1985  RCT - Root Canal Treatment Root Canal Treatmen...  \n",
       "1986              1 Feedback Pallikaranai, Chennai ?500  \n",
       "\n",
       "[1987 rows x 6 columns]"
      ]
     },
     "execution_count": 84,
     "metadata": {},
     "output_type": "execute_result"
    }
   ],
   "source": [
    "test_df"
   ]
  },
  {
   "cell_type": "code",
   "execution_count": 85,
   "metadata": {},
   "outputs": [
    {
     "data": {
      "text/plain": [
       "(1987, 6)"
      ]
     },
     "execution_count": 85,
     "metadata": {},
     "output_type": "execute_result"
    }
   ],
   "source": [
    "test_df.shape"
   ]
  },
  {
   "cell_type": "markdown",
   "metadata": {},
   "source": [
    "# Checking & treating null values in Test Dataset:"
   ]
  },
  {
   "cell_type": "code",
   "execution_count": 86,
   "metadata": {},
   "outputs": [
    {
     "data": {
      "text/plain": [
       "Qualification            0\n",
       "Experience               0\n",
       "Rating                1090\n",
       "Place                    6\n",
       "Profile                  0\n",
       "Miscellaneous_Info     834\n",
       "dtype: int64"
      ]
     },
     "execution_count": 86,
     "metadata": {},
     "output_type": "execute_result"
    }
   ],
   "source": [
    "test_df.isnull().sum()"
   ]
  },
  {
   "cell_type": "code",
   "execution_count": 87,
   "metadata": {},
   "outputs": [],
   "source": [
    "test_df.dropna(subset= [\"Miscellaneous_Info\"], inplace=True)"
   ]
  },
  {
   "cell_type": "code",
   "execution_count": 88,
   "metadata": {},
   "outputs": [
    {
     "data": {
      "image/png": "[encoded data removed]",
      "text/plain": [
       "<Figure size 432x288 with 2 Axes>"
      ]
     },
     "metadata": {
      "needs_background": "light"
     },
     "output_type": "display_data"
    }
   ],
   "source": [
    "import matplotlib.pyplot as plt\n",
    "import seaborn as sns\n",
    "sns.heatmap(test_df.isnull())\n",
    "plt.title(\"Null values\")\n",
    "plt.show()"
   ]
  },
  {
   "cell_type": "code",
   "execution_count": 89,
   "metadata": {},
   "outputs": [],
   "source": [
    "test_df.dropna(subset= [\"Rating\"], inplace=True)"
   ]
  },
  {
   "cell_type": "code",
   "execution_count": 90,
   "metadata": {},
   "outputs": [
    {
     "data": {
      "image/png": "[encoded data removed]",
      "text/plain": [
       "<Figure size 432x288 with 2 Axes>"
      ]
     },
     "metadata": {
      "needs_background": "light"
     },
     "output_type": "display_data"
    }
   ],
   "source": [
    "import matplotlib.pyplot as plt\n",
    "import seaborn as sns\n",
    "sns.heatmap(test_df.isnull())\n",
    "plt.title(\"Null values\")\n",
    "plt.show()"
   ]
  },
  {
   "cell_type": "code",
   "execution_count": 91,
   "metadata": {},
   "outputs": [
    {
     "data": {
      "text/plain": [
       "Qualification         0\n",
       "Experience            0\n",
       "Rating                0\n",
       "Place                 0\n",
       "Profile               0\n",
       "Miscellaneous_Info    0\n",
       "dtype: int64"
      ]
     },
     "execution_count": 91,
     "metadata": {},
     "output_type": "execute_result"
    }
   ],
   "source": [
    "test_df.isnull().sum()"
   ]
  },
  {
   "cell_type": "code",
   "execution_count": 92,
   "metadata": {},
   "outputs": [
    {
     "data": {
      "text/plain": [
       "Qualification         object\n",
       "Experience            object\n",
       "Rating                object\n",
       "Place                 object\n",
       "Profile               object\n",
       "Miscellaneous_Info    object\n",
       "dtype: object"
      ]
     },
     "execution_count": 92,
     "metadata": {},
     "output_type": "execute_result"
    }
   ],
   "source": [
    "test_df.dtypes"
   ]
  },
  {
   "cell_type": "code",
   "execution_count": 98,
   "metadata": {},
   "outputs": [
    {
     "data": {
      "text/html": [
       "<div>\n",
       "<style scoped>\n",
       "    .dataframe tbody tr th:only-of-type {\n",
       "        vertical-align: middle;\n",
       "    }\n",
       "\n",
       "    .dataframe tbody tr th {\n",
       "        vertical-align: top;\n",
       "    }\n",
       "\n",
       "    .dataframe thead th {\n",
       "        text-align: right;\n",
       "    }\n",
       "</style>\n",
       "<table border=\"1\" class=\"dataframe\">\n",
       "  <thead>\n",
       "    <tr style=\"text-align: right;\">\n",
       "      <th></th>\n",
       "      <th>Qualification</th>\n",
       "      <th>Experience</th>\n",
       "      <th>Rating</th>\n",
       "      <th>Place</th>\n",
       "      <th>Profile</th>\n",
       "      <th>Miscellaneous_Info</th>\n",
       "    </tr>\n",
       "  </thead>\n",
       "  <tbody>\n",
       "    <tr>\n",
       "      <th>count</th>\n",
       "      <td>875.000000</td>\n",
       "      <td>875.000000</td>\n",
       "      <td>875.000000</td>\n",
       "      <td>875.000000</td>\n",
       "      <td>875.000000</td>\n",
       "      <td>875.000000</td>\n",
       "    </tr>\n",
       "    <tr>\n",
       "      <th>mean</th>\n",
       "      <td>173.126857</td>\n",
       "      <td>17.816000</td>\n",
       "      <td>21.772571</td>\n",
       "      <td>178.421714</td>\n",
       "      <td>2.289143</td>\n",
       "      <td>427.633143</td>\n",
       "    </tr>\n",
       "    <tr>\n",
       "      <th>std</th>\n",
       "      <td>115.438369</td>\n",
       "      <td>17.157414</td>\n",
       "      <td>13.834249</td>\n",
       "      <td>107.467750</td>\n",
       "      <td>1.466579</td>\n",
       "      <td>242.589291</td>\n",
       "    </tr>\n",
       "    <tr>\n",
       "      <th>min</th>\n",
       "      <td>0.000000</td>\n",
       "      <td>0.000000</td>\n",
       "      <td>0.000000</td>\n",
       "      <td>0.000000</td>\n",
       "      <td>0.000000</td>\n",
       "      <td>0.000000</td>\n",
       "    </tr>\n",
       "    <tr>\n",
       "      <th>25%</th>\n",
       "      <td>66.000000</td>\n",
       "      <td>4.000000</td>\n",
       "      <td>3.000000</td>\n",
       "      <td>83.500000</td>\n",
       "      <td>1.000000</td>\n",
       "      <td>217.500000</td>\n",
       "    </tr>\n",
       "    <tr>\n",
       "      <th>50%</th>\n",
       "      <td>168.000000</td>\n",
       "      <td>11.000000</td>\n",
       "      <td>29.000000</td>\n",
       "      <td>177.000000</td>\n",
       "      <td>2.000000</td>\n",
       "      <td>435.000000</td>\n",
       "    </tr>\n",
       "    <tr>\n",
       "      <th>75%</th>\n",
       "      <td>266.000000</td>\n",
       "      <td>28.000000</td>\n",
       "      <td>33.000000</td>\n",
       "      <td>272.500000</td>\n",
       "      <td>4.000000</td>\n",
       "      <td>632.500000</td>\n",
       "    </tr>\n",
       "    <tr>\n",
       "      <th>max</th>\n",
       "      <td>392.000000</td>\n",
       "      <td>51.000000</td>\n",
       "      <td>35.000000</td>\n",
       "      <td>365.000000</td>\n",
       "      <td>5.000000</td>\n",
       "      <td>840.000000</td>\n",
       "    </tr>\n",
       "  </tbody>\n",
       "</table>\n",
       "</div>"
      ],
      "text/plain": [
       "       Qualification  Experience      Rating       Place     Profile  \\\n",
       "count     875.000000  875.000000  875.000000  875.000000  875.000000   \n",
       "mean      173.126857   17.816000   21.772571  178.421714    2.289143   \n",
       "std       115.438369   17.157414   13.834249  107.467750    1.466579   \n",
       "min         0.000000    0.000000    0.000000    0.000000    0.000000   \n",
       "25%        66.000000    4.000000    3.000000   83.500000    1.000000   \n",
       "50%       168.000000   11.000000   29.000000  177.000000    2.000000   \n",
       "75%       266.000000   28.000000   33.000000  272.500000    4.000000   \n",
       "max       392.000000   51.000000   35.000000  365.000000    5.000000   \n",
       "\n",
       "       Miscellaneous_Info  \n",
       "count          875.000000  \n",
       "mean           427.633143  \n",
       "std            242.589291  \n",
       "min              0.000000  \n",
       "25%            217.500000  \n",
       "50%            435.000000  \n",
       "75%            632.500000  \n",
       "max            840.000000  "
      ]
     },
     "execution_count": 98,
     "metadata": {},
     "output_type": "execute_result"
    }
   ],
   "source": [
    "test_df.describe()"
   ]
  },
  {
   "cell_type": "markdown",
   "metadata": {},
   "source": [
    "# Checking the skewness and Outliers:"
   ]
  },
  {
   "cell_type": "code",
   "execution_count": 99,
   "metadata": {},
   "outputs": [
    {
     "data": {
      "text/plain": [
       "Qualification         0.149452\n",
       "Experience            0.906658\n",
       "Rating               -0.743354\n",
       "Place                 0.056171\n",
       "Profile               0.407619\n",
       "Miscellaneous_Info   -0.053948\n",
       "dtype: float64"
      ]
     },
     "execution_count": 99,
     "metadata": {},
     "output_type": "execute_result"
    }
   ],
   "source": [
    "test_df.skew()"
   ]
  },
  {
   "cell_type": "code",
   "execution_count": 103,
   "metadata": {},
   "outputs": [],
   "source": [
    "from sklearn.preprocessing import power_transform\n",
    "test_df_new = power_transform(test_df)\n",
    "\n",
    "test_df_new = pd.DataFrame(df_new,columns=test_df.columns)"
   ]
  },
  {
   "cell_type": "code",
   "execution_count": 104,
   "metadata": {},
   "outputs": [
    {
     "data": {
      "text/plain": [
       "Qualification        -0.275709\n",
       "Experience           -0.067679\n",
       "Rating               -0.806679\n",
       "Place                -0.278674\n",
       "Profile              -0.047751\n",
       "Miscellaneous_Info   -0.305297\n",
       "dtype: float64"
      ]
     },
     "execution_count": 104,
     "metadata": {},
     "output_type": "execute_result"
    }
   ],
   "source": [
    "test_df_new.skew()"
   ]
  },
  {
   "cell_type": "code",
   "execution_count": 105,
   "metadata": {},
   "outputs": [],
   "source": [
    "#loading the model\n",
    "\n",
    "fitted_model= pickle.load(open(\"ConsultationFees.pkl\", \"rb\"))"
   ]
  },
  {
   "cell_type": "code",
   "execution_count": 106,
   "metadata": {},
   "outputs": [
    {
     "data": {
      "text/plain": [
       "RandomForestRegressor()"
      ]
     },
     "execution_count": 106,
     "metadata": {},
     "output_type": "execute_result"
    }
   ],
   "source": [
    "fitted_model"
   ]
  },
  {
   "cell_type": "code",
   "execution_count": 107,
   "metadata": {},
   "outputs": [],
   "source": [
    "#prediction over test dataset\n",
    "\n",
    "predictions= fitted_model.predict(test_df_new)"
   ]
  },
  {
   "cell_type": "code",
   "execution_count": 108,
   "metadata": {},
   "outputs": [
    {
     "data": {
      "text/plain": [
       "array([204.5, 204.5, 204.5, 276. , 204.5, 204.5, 204.5, 204.5, 204.5,\n",
       "       204.5, 276. , 204.5, 287. , 204.5, 204.5, 204.5, 276. , 276. ,\n",
       "       204.5, 204.5, 399.5, 204.5, 204.5, 204.5, 276. , 204.5, 399.5,\n",
       "       399.5, 276. , 287. , 204.5, 287. , 204.5, 276. , 287. , 204.5,\n",
       "       204.5, 276. , 204.5, 276. , 287. , 204.5, 287. , 204.5, 276. ,\n",
       "       204.5, 276. , 287. , 204.5, 204.5, 204.5, 204.5, 204.5, 204.5,\n",
       "       204.5, 204.5, 204.5, 399.5, 287. , 204.5, 204.5, 287. , 204.5,\n",
       "       204.5, 204.5, 204.5, 204.5, 204.5, 204.5, 287. , 204.5, 204.5,\n",
       "       204.5, 204.5, 287. , 204.5, 204.5, 287. , 276. , 204.5, 204.5,\n",
       "       204.5, 399.5, 276. , 204.5, 204.5, 204.5, 204.5, 399.5, 399.5,\n",
       "       204.5, 204.5, 204.5, 204.5, 399.5, 204.5, 204.5, 204.5, 204.5,\n",
       "       204.5, 204.5, 204.5, 204.5, 276. , 399.5, 204.5, 204.5, 204.5,\n",
       "       287. , 276. , 204.5, 204.5, 399.5, 276. , 276. , 204.5, 204.5,\n",
       "       204.5, 287. , 204.5, 276. , 204.5, 204.5, 204.5, 204.5, 204.5,\n",
       "       204.5, 204.5, 204.5, 204.5, 204.5, 287. , 287. , 276. , 399.5,\n",
       "       399.5, 204.5, 204.5, 399.5, 204.5, 204.5, 204.5, 204.5, 204.5,\n",
       "       204.5, 204.5, 287. , 204.5, 204.5, 204.5, 204.5, 276. , 399.5,\n",
       "       204.5, 204.5, 276. , 276. , 287. , 204.5, 287. , 204.5, 204.5,\n",
       "       204.5, 287. , 287. , 204.5, 204.5, 399.5, 276. , 276. , 204.5,\n",
       "       204.5, 204.5, 204.5, 204.5, 399.5, 276. , 204.5, 276. , 204.5,\n",
       "       204.5, 204.5, 204.5, 204.5, 204.5, 204.5, 287. , 399.5, 287. ,\n",
       "       204.5, 204.5, 204.5, 399.5, 204.5, 399.5, 266. , 276. , 276. ,\n",
       "       287. , 276. , 204.5, 287. , 204.5, 287. , 276. , 204.5, 204.5,\n",
       "       204.5, 287. , 204.5, 287. , 399.5, 204.5, 204.5, 276. , 204.5,\n",
       "       276. , 204.5, 287. , 287. , 276. , 399.5, 204.5, 204.5, 204.5,\n",
       "       204.5, 204.5, 287. , 276. , 204.5, 204.5, 204.5, 276. , 204.5,\n",
       "       287. , 276. , 204.5, 204.5, 399.5, 204.5, 204.5, 204.5, 399.5,\n",
       "       204.5, 204.5, 204.5, 399.5, 287. , 204.5, 204.5, 204.5, 287. ,\n",
       "       276. , 276. , 204.5, 204.5, 266. , 204.5, 287. , 204.5, 204.5,\n",
       "       287. , 204.5, 266. , 276. , 204.5, 276. , 276. , 204.5, 204.5,\n",
       "       204.5, 266. , 204.5, 204.5, 204.5, 204.5, 399.5, 399.5, 399.5,\n",
       "       204.5, 204.5, 204.5, 204.5, 204.5, 204.5, 204.5, 204.5, 204.5,\n",
       "       204.5, 204.5, 276. , 204.5, 287. , 287. , 276. , 399.5, 204.5,\n",
       "       399.5, 276. , 204.5, 287. , 204.5, 204.5, 287. , 287. , 399.5,\n",
       "       204.5, 204.5, 276. , 204.5, 276. , 204.5, 399.5, 287. , 204.5,\n",
       "       204.5, 204.5, 204.5, 204.5, 204.5, 204.5, 204.5, 287. , 204.5,\n",
       "       204.5, 204.5, 204.5, 204.5, 287. , 287. , 287. , 204.5, 399.5,\n",
       "       287. , 276. , 204.5, 204.5, 204.5, 287. , 204.5, 287. , 287. ,\n",
       "       287. , 204.5, 287. , 204.5, 287. , 204.5, 287. , 204.5, 204.5,\n",
       "       287. , 204.5, 204.5, 204.5, 204.5, 204.5, 287. , 204.5, 204.5,\n",
       "       287. , 287. , 204.5, 204.5, 204.5, 204.5, 399.5, 399.5, 204.5,\n",
       "       194.5, 204.5, 204.5, 287. , 287. , 204.5, 204.5, 399.5, 204.5,\n",
       "       204.5, 204.5, 276. , 204.5, 266. , 204.5, 204.5, 287. , 287. ,\n",
       "       204.5, 204.5, 399.5, 204.5, 204.5, 399.5, 399.5, 204.5, 287. ,\n",
       "       204.5, 399.5, 204.5, 287. , 204.5, 287. , 204.5, 204.5, 204.5,\n",
       "       204.5, 287. , 276. , 287. , 287. , 204.5, 204.5, 287. , 266. ,\n",
       "       287. , 204.5, 287. , 204.5, 276. , 204.5, 204.5, 204.5, 204.5,\n",
       "       399.5, 204.5, 276. , 276. , 287. , 204.5, 204.5, 287. , 276. ,\n",
       "       399.5, 287. , 204.5, 204.5, 204.5, 276. , 266. , 204.5, 276. ,\n",
       "       204.5, 194.5, 204.5, 204.5, 204.5, 204.5, 204.5, 204.5, 204.5,\n",
       "       204.5, 287. , 204.5, 287. , 287. , 287. , 204.5, 204.5, 266. ,\n",
       "       204.5, 204.5, 194.5, 204.5, 287. , 204.5, 204.5, 204.5, 204.5,\n",
       "       204.5, 204.5, 204.5, 204.5, 204.5, 204.5, 204.5, 204.5, 276. ,\n",
       "       276. , 399.5, 204.5, 204.5, 204.5, 287. , 204.5, 204.5, 204.5,\n",
       "       204.5, 204.5, 204.5, 204.5, 204.5, 204.5, 276. , 204.5, 204.5,\n",
       "       204.5, 204.5, 204.5, 204.5, 204.5, 399.5, 204.5, 204.5, 204.5,\n",
       "       204.5, 276. , 287. , 204.5, 204.5, 204.5, 204.5, 204.5, 204.5,\n",
       "       276. , 204.5, 204.5, 204.5, 204.5, 399.5, 204.5, 204.5, 287. ,\n",
       "       204.5, 204.5, 287. , 204.5, 276. , 204.5, 399.5, 287. , 204.5,\n",
       "       204.5, 287. , 399.5, 204.5, 204.5, 204.5, 204.5, 287. , 287. ,\n",
       "       287. , 204.5, 287. , 287. , 204.5, 204.5, 204.5, 287. , 204.5,\n",
       "       204.5, 204.5, 287. , 204.5, 204.5, 204.5, 204.5, 287. , 287. ,\n",
       "       266. , 204.5, 204.5, 204.5, 204.5, 204.5, 204.5, 399.5, 204.5,\n",
       "       287. , 204.5, 204.5, 204.5, 204.5, 204.5, 276. , 204.5, 204.5,\n",
       "       287. , 287. , 204.5, 204.5, 287. , 204.5, 276. , 204.5, 276. ,\n",
       "       204.5, 204.5, 204.5, 287. , 399.5, 204.5, 204.5, 204.5, 204.5,\n",
       "       204.5, 399.5, 204.5, 399.5, 287. , 204.5, 204.5, 204.5, 204.5,\n",
       "       204.5, 287. , 204.5, 399.5, 399.5, 204.5, 399.5, 204.5, 287. ,\n",
       "       204.5, 204.5, 399.5, 204.5, 399.5, 204.5, 204.5, 204.5, 204.5,\n",
       "       204.5, 204.5, 204.5, 399.5, 204.5, 204.5, 204.5, 204.5, 204.5,\n",
       "       276. , 399.5, 204.5, 276. , 276. , 276. , 204.5, 399.5, 399.5,\n",
       "       287. , 287. , 204.5, 204.5, 276. , 276. , 204.5, 276. , 287. ,\n",
       "       204.5, 204.5, 204.5, 204.5, 399.5, 204.5, 204.5, 276. , 287. ,\n",
       "       204.5, 399.5, 266. , 204.5, 204.5, 204.5, 204.5, 204.5, 204.5,\n",
       "       204.5, 204.5, 204.5, 204.5, 204.5, 204.5, 204.5, 287. , 399.5,\n",
       "       204.5, 204.5, 287. , 276. , 204.5, 287. , 287. , 287. , 204.5,\n",
       "       204.5, 204.5, 204.5, 204.5, 204.5, 204.5, 204.5, 204.5, 287. ,\n",
       "       287. , 399.5, 399.5, 287. , 204.5, 204.5, 204.5, 204.5, 204.5,\n",
       "       204.5, 204.5, 276. , 204.5, 194.5, 204.5, 399.5, 399.5, 204.5,\n",
       "       266. , 204.5, 204.5, 204.5, 399.5, 204.5, 204.5, 276. , 204.5,\n",
       "       204.5, 276. , 204.5, 204.5, 287. , 204.5, 204.5, 399.5, 399.5,\n",
       "       204.5, 204.5, 204.5, 399.5, 204.5, 276. , 399.5, 204.5, 204.5,\n",
       "       204.5, 204.5, 204.5, 204.5, 204.5, 204.5, 266. , 287. , 204.5,\n",
       "       204.5, 287. , 399.5, 399.5, 287. , 399.5, 204.5, 287. , 204.5,\n",
       "       276. , 204.5, 204.5, 399.5, 276. , 204.5, 204.5, 204.5, 204.5,\n",
       "       399.5, 204.5, 287. , 276. , 204.5, 276. , 204.5, 399.5, 204.5,\n",
       "       287. , 276. , 204.5, 287. , 287. , 204.5, 399.5, 204.5, 287. ,\n",
       "       204.5, 204.5, 399.5, 204.5, 287. , 204.5, 276. , 204.5, 287. ,\n",
       "       204.5, 276. , 204.5, 276. , 204.5, 204.5, 204.5, 204.5, 287. ,\n",
       "       204.5, 204.5, 204.5, 204.5, 204.5, 204.5, 399.5, 204.5, 287. ,\n",
       "       204.5, 287. , 287. , 204.5, 287. , 399.5, 204.5, 204.5, 287. ,\n",
       "       399.5, 204.5, 204.5, 204.5, 204.5, 204.5, 276. , 204.5, 276. ,\n",
       "       204.5, 204.5, 204.5, 276. , 204.5, 287. , 204.5, 204.5, 276. ,\n",
       "       287. , 399.5, 287. , 266. , 287. , 287. , 204.5, 204.5, 287. ,\n",
       "       204.5, 276. , 287. , 276. , 204.5, 204.5, 204.5, 276. , 287. ,\n",
       "       204.5, 204.5, 287. , 399.5, 204.5, 204.5, 204.5, 204.5, 204.5,\n",
       "       276. , 204.5, 287. , 287. , 204.5, 287. , 204.5, 276. , 204.5,\n",
       "       204.5, 204.5])"
      ]
     },
     "execution_count": 108,
     "metadata": {},
     "output_type": "execute_result"
    }
   ],
   "source": [
    "predictions"
   ]
  },
  {
   "cell_type": "code",
   "execution_count": null,
   "metadata": {},
   "outputs": [],
   "source": []
  }
 ],
 "metadata": {
  "kernelspec": {
   "display_name": "Python 3",
   "language": "python",
   "name": "python3"
  },
  "language_info": {
   "codemirror_mode": {
    "name": "ipython",
    "version": 3
   },
   "file_extension": ".py",
   "mimetype": "text/x-python",
   "name": "python",
   "nbconvert_exporter": "python",
   "pygments_lexer": "ipython3",
   "version": "3.8.3"
  }
 },
 "nbformat": 4,
 "nbformat_minor": 4
}
